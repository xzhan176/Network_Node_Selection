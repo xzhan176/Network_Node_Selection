{
 "cells": [
  {
   "cell_type": "code",
   "execution_count": null,
   "id": "de61d62a",
   "metadata": {},
   "outputs": [],
   "source": [
    "network = 1  #1-karate; 2-Reddit; 3-Twitter; 4-Synthetic net1; 5-Synthetic net2; 6-Random network\n",
    "# If network = 6, need to specify n-the size of the random network, otherwise no need\n",
    "# n = 0\n",
    "\n",
    "k_1 =2 #\\kappa_1 - number of nodes maximizer can choose in pure action\n",
    "k_2 =2 #\\kappa_2 - number of nodes minimizer can choose in pure action\n",
    "\n",
    "# Game Parameters\n",
    "Game_rounds = 300  # number of iterations the fictitious play runs\n",
    "memory = 10 # the length(r) of the moving windown of pure response of p_{-m} played in past r rounds\n",
    "\n",
    "# Experiement Parameters\n",
    "experiment = 1 # index of the experiment\n",
    "alpha = 1 # α is the ratio parameter in the payoff function, can be any value between 0 and 1\n",
    "\n",
    "#Initial Condition\n",
    "init_con = 1 #1-Random selection; 2-fixed strategy\n",
    "\n",
    "\n"
   ]
  }
 ],
 "metadata": {
  "kernelspec": {
   "display_name": "Python 3 (ipykernel)",
   "language": "python",
   "name": "python3"
  },
  "language_info": {
   "codemirror_mode": {
    "name": "ipython",
    "version": 3
   },
   "file_extension": ".py",
   "mimetype": "text/x-python",
   "name": "python",
   "nbconvert_exporter": "python",
   "pygments_lexer": "ipython3",
   "version": "3.9.13"
  }
 },
 "nbformat": 4,
 "nbformat_minor": 5
}
