{
 "cells": [
  {
   "cell_type": "code",
   "execution_count": 1,
   "metadata": {},
   "outputs": [],
   "source": [
    "import scipy\n",
    "import numpy as np\n",
    "import matplotlib.pyplot as plt\n",
    "import networkx as nx\n",
    "from itertools import combinations\n",
    "import time\n",
    "import random\n",
    "from scipy.stats import beta\n",
    "import pandas as pd\n",
    "%matplotlib inline\n",
    "import copy"
   ]
  },
  {
   "cell_type": "markdown",
   "metadata": {},
   "source": [
    "## Mathmatic Functions"
   ]
  },
  {
   "cell_type": "code",
   "execution_count": 2,
   "metadata": {},
   "outputs": [],
   "source": [
    "# centers the opinion vector around 0\n",
    "def mean_center(op, n1):\n",
    "    ones = np.ones((n1, 1))\n",
    "    x = op - (np.dot(np.transpose(op),ones)/n1) * ones\n",
    "    return x\n",
    "\n",
    "# compute number of edges, m\n",
    "def num_edges(La, n):\n",
    "    m = 0\n",
    "    for i in range(n):\n",
    "        for j in range(n):\n",
    "            if i > j and La[i,j] < 0:\n",
    "                m += 1            \n",
    "    return m\n"
   ]
  },
  {
   "cell_type": "code",
   "execution_count": 3,
   "metadata": {},
   "outputs": [],
   "source": [
    "# # maximizing polarization only: \\bar{z}^T \\bar{z}   \n",
    "def obj_polarization(G1, s1, s2, n1):\n",
    "    np.set_printoptions(precision=5)\n",
    "    z1 = equilibrium(n1,s1, g, h, G1, beta,gamma)\n",
    "#     z = np.concatenate((z1,s2))\n",
    "    op_mean = mean_center(z1, n1)\n",
    "    return np.dot(np.transpose(op_mean), op_mean)[0,0] "
   ]
  },
  {
   "cell_type": "code",
   "execution_count": 4,
   "metadata": {},
   "outputs": [],
   "source": [
    "# Calculate innate polarization\n",
    "def obj_innate_polarization(op, n):  \n",
    "    np.set_printoptions(precision=5)\n",
    "    op_mean = mean_center(op, n)\n",
    "    return np.dot(np.transpose(op_mean), op_mean)[0,0]\n",
    "\n"
   ]
  },
  {
   "cell_type": "code",
   "execution_count": 5,
   "metadata": {},
   "outputs": [],
   "source": [
    "# Parameters for the network\n",
    "n = 22   # number of nodes in the network\n",
    "r = 1/11  # percent of info souce in the network\n",
    "n1 = int(n*(1-r))\n",
    "\n",
    "np.set_printoptions(precision=3)"
   ]
  },
  {
   "cell_type": "markdown",
   "metadata": {},
   "source": [
    "## Generating Network\n",
    "### 1. Make Innate opinion"
   ]
  },
  {
   "cell_type": "code",
   "execution_count": 6,
   "metadata": {},
   "outputs": [
    {
     "name": "stdout",
     "output_type": "stream",
     "text": [
      "c1\n",
      "[ 0  1  2  3  4  5  6  7  8  9 10 11 12 13 14 15 16 17 18 19]\n"
     ]
    }
   ],
   "source": [
    "##create two set of weights connected with density 1) inviduals  2) individual & informaton Source\n",
    "c1 = np.sort(np.random.choice(n1, n1, replace=False)) #assume (1-r) are individuals\n",
    "print('c1')\n",
    "print(c1)\n",
    "l1 = len(c1)"
   ]
  },
  {
   "cell_type": "code",
   "execution_count": 7,
   "metadata": {},
   "outputs": [],
   "source": [
    "def make_innat_opinions(n, c1): #(n1, n2):\n",
    "    \n",
    "    # Make list of ind innate opinion to define info source opinion\n",
    "    innat_s1 = np.random.uniform(low=0.0, high=1.0, size=int(n*(1-r)))    #individual's innate opinion \n",
    "\n",
    "    s1 = np.zeros((round((1-r)*n), 1))\n",
    "    \n",
    "    idx1 = 0\n",
    "    for i in range(len(s1)):\n",
    "        s1[i] = innat_s1[idx1]  #set innate opinion for ind.\n",
    "        idx1 += 1\n",
    "\n",
    "    print('s1')\n",
    "    print(s1)\n",
    "\n",
    "    # Make info souce opinion\n",
    "#     h = np.random.uniform(low=max(s1), high=1.0, size=1)\n",
    "#     g = np.random.uniform(low=0.0, high=min(s1), size=1)\n",
    "    h = np.eye(1)\n",
    "    g = np.zeros((1,1))\n",
    "\n",
    "    s2 = np.concatenate((g, h),axis=0)\n",
    "#     print('s2')\n",
    "#     print(s2)\n",
    "\n",
    "    # Make opinion list of both info source and agents   \n",
    "    \n",
    "    s = np.zeros((n, 1))\n",
    "    idx1 = 0\n",
    "    idx2 = 0\n",
    "\n",
    "    for i in range(len(s)):\n",
    "        if i in c1:\n",
    "            s[i] = s1[idx1]\n",
    "            idx1 += 1\n",
    "        else:\n",
    "            s[i] = s2[idx2]\n",
    "            idx2 += 1    \n",
    "\n",
    "#     print('s')\n",
    "#     print(s)\n",
    "\n",
    "  \n",
    "    return (s1, h, g, s2, s)"
   ]
  },
  {
   "cell_type": "markdown",
   "metadata": {},
   "source": [
    "### 2. Make Confirmation Bias Adjacency Matrices"
   ]
  },
  {
   "cell_type": "code",
   "execution_count": 8,
   "metadata": {},
   "outputs": [],
   "source": [
    "np.set_printoptions(precision=4)"
   ]
  },
  {
   "cell_type": "code",
   "execution_count": 9,
   "metadata": {},
   "outputs": [],
   "source": [
    "### Prepare for create adjacent matrix\n",
    "p1 = 0.5 # density within ind.\n",
    "p2 = 0 # density of edges between Info Source and Indivisuals\n",
    "\n",
    "pre_weights1 = scipy.sparse.random(1, int(0.5*l1*(l1 - 1)), density=p1).A[0] \n",
    "weights1 = pre_weights1/25\n",
    "\n",
    "\n",
    "# print(\"weight1\")\n",
    "# print(weights1)\n",
    "# weights1.shape\n",
    "\n",
    "# b = weights2.round()  #generate a binary array to indicate the connection between ind. and inf. source \n",
    "                          #without consider the innate opinions, just based on the edges between info source and ind.\n"
   ]
  },
  {
   "cell_type": "code",
   "execution_count": 10,
   "metadata": {},
   "outputs": [],
   "source": [
    "np.set_printoptions(precision=3)"
   ]
  },
  {
   "cell_type": "code",
   "execution_count": 11,
   "metadata": {},
   "outputs": [
    {
     "name": "stdout",
     "output_type": "stream",
     "text": [
      "G for agents completed!\n"
     ]
    }
   ],
   "source": [
    "# create n x n adjacency matrix with existing init_G\n",
    "G1 = np.zeros((n1, n1))\n",
    "    \n",
    "## Assign edges between ind to ind \n",
    "idx = 0\n",
    "for i in c1:\n",
    "    for j in c1:\n",
    "            if i == j:\n",
    "                G1[i][j] =0\n",
    "                continue\n",
    "            elif i < j:\n",
    "                G1[i][j] = weights1[idx]\n",
    "                idx += 1\n",
    "#                 print(idx)\n",
    "#                 print (G1[i][j])\n",
    "            else:\n",
    "                G1[i][j] = G1[j][i]\n",
    "print(\"G for agents completed!\")\n",
    "# print(G1)\n"
   ]
  },
  {
   "cell_type": "markdown",
   "metadata": {},
   "source": [
    "### 3. Network Visualization"
   ]
  },
  {
   "cell_type": "code",
   "execution_count": 12,
   "metadata": {},
   "outputs": [
    {
     "data": {
      "image/png": "[encoded data removed]",
      "text/plain": [
       "<Figure size 432x288 with 1 Axes>"
      ]
     },
     "metadata": {},
     "output_type": "display_data"
    },
    {
     "data": {
      "text/plain": [
       "<Figure size 1800x1800 with 0 Axes>"
      ]
     },
     "metadata": {},
     "output_type": "display_data"
    }
   ],
   "source": [
    "La = scipy.sparse.csgraph.laplacian(G1, normed=False)\n",
    "\n",
    "nxG = nx.from_numpy_matrix(G1)\n",
    "\n",
    "color_map = []\n",
    "for node in nxG:\n",
    "    if node in c1:\n",
    "        color_map.append('Blue')\n",
    "    else: \n",
    "        color_map.append('Red')  \n",
    "\n",
    "#nxG1 = nx.DiGraph(G)\n",
    "nx.draw(nxG, node_color=color_map, with_labels=False)\n",
    "plt.figure(figsize=(25, 25))\n",
    "plt.show()"
   ]
  },
  {
   "cell_type": "code",
   "execution_count": 13,
   "metadata": {},
   "outputs": [
    {
     "name": "stdout",
     "output_type": "stream",
     "text": [
      "Beta reference value less than\n",
      "0.318881874135746\n",
      "Gamma reference value less than\n",
      "0.159440937067873\n"
     ]
    }
   ],
   "source": [
    "## calculate Max row sum & column sum of agent' G --> result from beta gamma value\n",
    "\n",
    "rowsum_ij = np.sum(G1,1)\n",
    "max_rowsum_ij = max(rowsum_ij)\n",
    "# print(rowsum_ij)\n",
    "# print(max_rowsum_ij)\n",
    "colsum_ij = np.sum(G1, axis=0)\n",
    "max_colsum_ij = max(colsum_ij)\n",
    "# print(colsum_ij)\n",
    "# print(max_colsum_ij)\n",
    "\n",
    "threshold = 1- max(max_rowsum_ij,max_colsum_ij)\n",
    "print(\"Beta reference value less than\")\n",
    "print(threshold/2)\n",
    "print('Gamma reference value less than')\n",
    "print(threshold/4)"
   ]
  },
  {
   "cell_type": "markdown",
   "metadata": {},
   "source": [
    "#### ---> here to update confirmation bias network"
   ]
  },
  {
   "cell_type": "code",
   "execution_count": 14,
   "metadata": {},
   "outputs": [
    {
     "name": "stdout",
     "output_type": "stream",
     "text": [
      "Should be less than 1:\n",
      "0.962236251728508\n"
     ]
    }
   ],
   "source": [
    "## assumptions: 1) beta > gamma >0    2) 1 - max{rowsum, colsum} >= max{2beta, 4gamma}\n",
    "\n",
    "gamma = 0.00\n",
    "beta = 0.30   # the average weight between agents\n",
    "# check beta gamma are qualify or not\n",
    "pipi = max(2*beta, 4*gamma)\n",
    "# print(pipi)\n",
    "\n",
    "ss = max(max_rowsum_ij, max_colsum_ij)\n",
    "# print(ss)\n",
    "\n",
    "xixi = pipi + ss\n",
    "print(\"Should be less than 1:\")\n",
    "print (xixi)"
   ]
  },
  {
   "cell_type": "code",
   "execution_count": 15,
   "metadata": {},
   "outputs": [
    {
     "name": "stdout",
     "output_type": "stream",
     "text": [
      "s1\n",
      "[[0.6797]\n",
      " [0.9261]\n",
      " [0.631 ]\n",
      " [0.5304]\n",
      " [0.0944]\n",
      " [0.5992]\n",
      " [0.5837]\n",
      " [0.4116]\n",
      " [0.5671]\n",
      " [0.463 ]\n",
      " [0.93  ]\n",
      " [0.6354]\n",
      " [0.7525]\n",
      " [0.8613]\n",
      " [0.6927]\n",
      " [0.2029]\n",
      " [0.1602]\n",
      " [0.4348]\n",
      " [0.8596]\n",
      " [0.0292]]\n",
      "innate_polarization\n",
      "1.3659838081223787\n"
     ]
    }
   ],
   "source": [
    "np.set_printoptions(precision=4)\n",
    "(s1, g, h, s2, s) = make_innat_opinions(n, c1)\n",
    "store = s1\n",
    "s1 = store \n",
    "op = s1\n",
    "\n",
    "#Test innate polarization\n",
    "\n",
    "y = mean_center(s1,n1)\n",
    "# print(y)\n",
    "innat_pol = np.dot(np.transpose(y), y)[0,0] \n",
    "print('innate_polarization')\n",
    "print(innat_pol)"
   ]
  },
  {
   "cell_type": "code",
   "execution_count": null,
   "metadata": {},
   "outputs": [],
   "source": []
  },
  {
   "cell_type": "code",
   "execution_count": 16,
   "metadata": {},
   "outputs": [],
   "source": [
    "## Test to see if Rowsum and column sum in final G is less than 0 \n",
    "# rowsum = np.sum(G1,1)\n",
    "# max_rowsum = max(rowsum)\n",
    "# print(rowsum)\n",
    "# print(max_rowsum)\n",
    "# colsum = np.sum(G1, axis=0)\n",
    "# max_colsum = max(colsum)\n",
    "# print(colsum)\n",
    "# print(max_colsum)"
   ]
  },
  {
   "cell_type": "markdown",
   "metadata": {},
   "source": [
    "### 4. Equilibrium & Polarization  - based on derivation\n",
    "$$P(z) = z ^T * z $$\n"
   ]
  },
  {
   "cell_type": "code",
   "execution_count": 17,
   "metadata": {},
   "outputs": [],
   "source": [
    "#     ##calculate equlibriua manually (Successful!!!)\n",
    "def equilibrium(n1,opinion,g,h,G1,beta,gamma): \n",
    "    ## Cki are the determinate parameter indicate if info. source influence the agent or not\n",
    "    c1i = [1,1,1,1,1,0,0,0,0,0,1,1,1,1,1,1,1,1,1,1]\n",
    "    c2i = [0,0,0,0,0,1,1,1,1,1,1,1,1,1,1,1,1,1,1,1]\n",
    "    C1 = np.diag(c1i, k=0)\n",
    "    C2 = np.diag(c2i, k=0)\n",
    "    # print(s1)\n",
    "    R1 = C1*opinion\n",
    "    R2 = C2*opinion\n",
    "    I = np.eye(n1)\n",
    "    Ematrix = I - G1 + gamma*(R2 - R1 + h*C1 - g*C2)\n",
    "    Ematrix_inverse = np.linalg.inv(Ematrix)\n",
    "    rowsum = np.sum(G1,1)\n",
    "    rowsumm_atrix = np.zeros((n1, n1))\n",
    "    for i in range(n1):\n",
    "        rowsumm_atrix[i,i] = rowsum[i]\n",
    "    addMatrix = I - rowsumm_atrix - (C1+C2)*beta + (C1*h + C2*g)*gamma\n",
    "    A = np.matmul(Ematrix_inverse,addMatrix)\n",
    "    Vector_A = (c1i*h + c2i*g)*beta + (c2i*g**2-c1i*h**2)*gamma\n",
    "    # print(np.shape(Vector_A))\n",
    "    trans_Vector_A = Vector_A.transpose()\n",
    "    # print(np.shape(trans_Vector_A))\n",
    "    L = np.matmul(Ematrix_inverse, trans_Vector_A)\n",
    "    # print(L)\n",
    "    z1 = np.matmul(A,s1) + L\n",
    "    \n",
    "#     print(\"equilibrium opinion\")\n",
    "#     print(z1)\n",
    "    return z1"
   ]
  },
  {
   "cell_type": "code",
   "execution_count": 18,
   "metadata": {},
   "outputs": [
    {
     "name": "stdout",
     "output_type": "stream",
     "text": [
      "check: Equilibrium op should NOT have any negative value\n",
      "[[0.4442]\n",
      " [0.6086]\n",
      " [0.4222]\n",
      " [0.382 ]\n",
      " [0.1411]\n",
      " [0.7014]\n",
      " [0.6963]\n",
      " [0.6028]\n",
      " [0.694 ]\n",
      " [0.6322]\n",
      " [0.5542]\n",
      " [0.5293]\n",
      " [0.5501]\n",
      " [0.6079]\n",
      " [0.5642]\n",
      " [0.4568]\n",
      " [0.4486]\n",
      " [0.4947]\n",
      " [0.5824]\n",
      " [0.3742]]\n",
      "Innate_polarization:\n",
      "1.3659838081223787\n",
      "Equilibrium polarization:\n",
      "0.3458367762412874\n",
      "Difference:\n",
      "1.0201470318810912\n",
      "[[-0.23554]\n",
      " [-0.31748]\n",
      " [-0.2088 ]\n",
      " [-0.14842]\n",
      " [ 0.0467 ]\n",
      " [ 0.10212]\n",
      " [ 0.11257]\n",
      " [ 0.19123]\n",
      " [ 0.1269 ]\n",
      " [ 0.16914]\n",
      " [-0.37576]\n",
      " [-0.10618]\n",
      " [-0.20239]\n",
      " [-0.2534 ]\n",
      " [-0.12854]\n",
      " [ 0.25388]\n",
      " [ 0.28839]\n",
      " [ 0.05997]\n",
      " [-0.27716]\n",
      " [ 0.34496]]\n"
     ]
    }
   ],
   "source": [
    "np.set_printoptions(precision=4)\n",
    "\n",
    "#Test obj_innate_polarization function \n",
    "#No Op Change Equilibriua of Stand\n",
    "z1  = equilibrium(n1, s1, g,h,G1,beta,gamma)\n",
    "print('check: Equilibrium op should NOT have any negative value')\n",
    "print(z1)\n",
    "\n",
    "y = mean_center(s1,n1)\n",
    "# print(y)\n",
    "innat_pol = np.dot(np.transpose(y), y)[0,0] \n",
    "print('Innate_polarization:')\n",
    "print(innat_pol)\n",
    "\n",
    "# Test equilibrium polarization\n",
    "equ_pol = obj_polarization(G1, s1, s2, n1)\n",
    "print('Equilibrium polarization:')\n",
    "print(equ_pol)\n",
    "\n",
    "di = innat_pol - equ_pol\n",
    "print(\"Difference:\")\n",
    "print(di)\n",
    "print(z1-s1)"
   ]
  },
  {
   "cell_type": "markdown",
   "metadata": {},
   "source": [
    "#### Perfect Network Generation Above\n",
    "_________________________________________________________________________________________________________________\n"
   ]
  },
  {
   "cell_type": "code",
   "execution_count": 19,
   "metadata": {},
   "outputs": [
    {
     "name": "stdout",
     "output_type": "stream",
     "text": [
      "Innate opinion in the game\n",
      "[[0.6797]\n",
      " [0.9261]\n",
      " [0.631 ]\n",
      " [0.5304]\n",
      " [0.0944]\n",
      " [0.5992]\n",
      " [0.5837]\n",
      " [0.4116]\n",
      " [0.5671]\n",
      " [0.463 ]\n",
      " [0.93  ]\n",
      " [0.6354]\n",
      " [0.7525]\n",
      " [0.8613]\n",
      " [0.6927]\n",
      " [0.2029]\n",
      " [0.1602]\n",
      " [0.4348]\n",
      " [0.8596]\n",
      " [0.0292]]\n"
     ]
    }
   ],
   "source": [
    "np.set_printoptions(precision=4)\n",
    "print('Innate opinion in the game')\n",
    "print(op)"
   ]
  },
  {
   "cell_type": "markdown",
   "metadata": {},
   "source": [
    "## 4. Maximize & Minimizer's Behavior"
   ]
  },
  {
   "cell_type": "markdown",
   "metadata": {},
   "source": [
    "###     Maximizer's Choice\n",
    "\n",
    "Innate greedy algorithm (polarization):\n",
    "\n",
    "For each $i$ from $1$ to $k$, we choose $v_i$ such that:\n",
    "\n",
    "$$v_i = argmax_{v \\in V - \\hat{s}} \\max \\left(\\bar{s}_1^T \\bar{s}_1, \\bar{s}_0^T \\bar{s}_0 \\right) $$"
   ]
  },
  {
   "cell_type": "code",
   "execution_count": 20,
   "metadata": {},
   "outputs": [],
   "source": [
    "# determines if value of opinion at v should be set to 0 or 1 to maximize equilibrium polarization \n",
    "def maximize_equi_polarization(op, n1, v):\n",
    "    \n",
    "    innat_equi_por = obj_polarization(G1, op, s2, n1)\n",
    "    temp = op[v, 0]\n",
    "    por_arr = np.zeros(11)\n",
    "#     print(por_arr)\n",
    "    \n",
    "    max_opi_option = [0, 0.1, 0.2, 0.3, 0.4, 0.5, 0.6, 0.7, 0.8, 0.9, 1.0]\n",
    "    \n",
    "    # objective if set opinion to 0, 0.1, ..., 1.0\n",
    "    i = 0\n",
    "    for new_op in max_opi_option:\n",
    "#         print('change op to '+ str(i/10))\n",
    "        \n",
    "        op[v, 0] = new_op\n",
    "        por_arr[i] = obj_polarization(G1, op, s2, n1)\n",
    "#         print(por_arr[i])\n",
    "        i = i + 1\n",
    "        op[v, 0] = temp\n",
    "#     print(por_arr)\n",
    "    \n",
    "#     z = equilibrium(n1,s1,g,h,G1,beta,gamma)\n",
    "    \n",
    "    \n",
    "    maxmize_op = np.argmax(por_arr)/10\n",
    "    max_por = np.max(por_arr)\n",
    " \n",
    "#     print('new_op', 'innat_equi_por', 'max_por')\n",
    "#     print(maxmize_op, innat_equi_por, max_por)\n",
    "\n",
    "    return (maxmize_op, innat_equi_por, max_por)"
   ]
  },
  {
   "cell_type": "code",
   "execution_count": 21,
   "metadata": {},
   "outputs": [
    {
     "ename": "NameError",
     "evalue": "name 'v' is not defined",
     "output_type": "error",
     "traceback": [
      "\u001b[1;31m---------------------------------------------------------------------------\u001b[0m",
      "\u001b[1;31mNameError\u001b[0m                                 Traceback (most recent call last)",
      "\u001b[1;32m<ipython-input-21-bbd076cf4fcf>\u001b[0m in \u001b[0;36m<module>\u001b[1;34m\u001b[0m\n\u001b[1;32m----> 1\u001b[1;33m \u001b[1;33m(\u001b[0m\u001b[0mnew_op\u001b[0m\u001b[1;33m,\u001b[0m \u001b[0minnat_equi_por\u001b[0m\u001b[1;33m,\u001b[0m \u001b[0mmax_por\u001b[0m\u001b[1;33m)\u001b[0m \u001b[1;33m=\u001b[0m  \u001b[0mmaximize_equi_polarization\u001b[0m\u001b[1;33m(\u001b[0m\u001b[0mop\u001b[0m\u001b[1;33m,\u001b[0m \u001b[0mn1\u001b[0m\u001b[1;33m,\u001b[0m \u001b[0mv\u001b[0m\u001b[1;33m)\u001b[0m\u001b[1;33m\u001b[0m\u001b[1;33m\u001b[0m\u001b[0m\n\u001b[0m",
      "\u001b[1;31mNameError\u001b[0m: name 'v' is not defined"
     ]
    }
   ],
   "source": [
    "(new_op, innat_equi_por, max_por) =  maximize_equi_polarization(op, n1, v)"
   ]
  },
  {
   "cell_type": "code",
   "execution_count": 54,
   "metadata": {},
   "outputs": [],
   "source": [
    "def choose_max_vertex(op, n1, min_touched):\n",
    "    # iterate over all the vertices that have not yet been changed\n",
    "    vertices = np.where((op != 0.0) & (op != 1.0))\n",
    "    # current best vertex, its opinion {0, 1}, \"innate\" objective, and objective\n",
    "    \n",
    "    innat_equi_por = obj_polarization(G1, op, s2, n1)\n",
    "#     print(\"innate equi por to compare\")\n",
    "#     print(innat_equi_por)\n",
    "    \n",
    "    champion = (None, None, 0, innat_equi_por)\n",
    "\n",
    "    for v in vertices[0]:\n",
    "        print('Max start with agent '+ str(v) )\n",
    "        if v not in min_touched:\n",
    "            (changed_opinion, innat_equi_por, max_por) = maximize_equi_polarization(op, n1, v)\n",
    "\n",
    "            if max_por >= champion[3]:\n",
    "                champion = (v, changed_opinion, innat_equi_por, max_por)\n",
    "\n",
    "    return (champion)\n"
   ]
  },
  {
   "cell_type": "code",
   "execution_count": 55,
   "metadata": {},
   "outputs": [
    {
     "ename": "TypeError",
     "evalue": "choose_max_vertex() missing 1 required positional argument: 'min_touched'",
     "output_type": "error",
     "traceback": [
      "\u001b[1;31m---------------------------------------------------------------------------\u001b[0m",
      "\u001b[1;31mTypeError\u001b[0m                                 Traceback (most recent call last)",
      "\u001b[1;32m<ipython-input-55-fadaeec22d30>\u001b[0m in \u001b[0;36m<module>\u001b[1;34m\u001b[0m\n\u001b[1;32m----> 1\u001b[1;33m \u001b[0mmax_champion\u001b[0m \u001b[1;33m=\u001b[0m \u001b[0mchoose_max_vertex\u001b[0m\u001b[1;33m(\u001b[0m\u001b[0mop\u001b[0m\u001b[1;33m,\u001b[0m \u001b[0mn1\u001b[0m\u001b[1;33m)\u001b[0m\u001b[1;33m\u001b[0m\u001b[1;33m\u001b[0m\u001b[0m\n\u001b[0m\u001b[0;32m      2\u001b[0m \u001b[0mprint\u001b[0m\u001b[1;33m(\u001b[0m\u001b[1;34m'v'\u001b[0m\u001b[1;33m,\u001b[0m \u001b[1;34m'changed_opinion'\u001b[0m\u001b[1;33m,\u001b[0m \u001b[1;34m'innate_obj'\u001b[0m\u001b[1;33m,\u001b[0m \u001b[1;34m'obj'\u001b[0m\u001b[1;33m)\u001b[0m\u001b[1;33m\u001b[0m\u001b[1;33m\u001b[0m\u001b[0m\n\u001b[0;32m      3\u001b[0m \u001b[0mprint\u001b[0m \u001b[1;33m(\u001b[0m\u001b[0mmax_champion\u001b[0m\u001b[1;33m)\u001b[0m\u001b[1;33m\u001b[0m\u001b[1;33m\u001b[0m\u001b[0m\n",
      "\u001b[1;31mTypeError\u001b[0m: choose_max_vertex() missing 1 required positional argument: 'min_touched'"
     ]
    }
   ],
   "source": [
    "max_champion = choose_max_vertex(op, n1)\n",
    "print('v', 'changed_opinion', 'innate_obj', 'obj')\n",
    "print (max_champion)\n"
   ]
  },
  {
   "cell_type": "markdown",
   "metadata": {},
   "source": [
    "### Minimizer's Choice\n"
   ]
  },
  {
   "cell_type": "code",
   "execution_count": 56,
   "metadata": {},
   "outputs": [],
   "source": [
    "# print('Here s1 and op is not changed Yet')\n",
    "# print(s1)\n",
    "\n",
    "# op = s1\n",
    "# print(op)"
   ]
  },
  {
   "cell_type": "code",
   "execution_count": 57,
   "metadata": {},
   "outputs": [],
   "source": [
    "# determines if a given vertex should be set to zero or one, all else equal\n",
    "def minimize_opinion(op, s2, n1, v):\n",
    "    \n",
    "    innat_equi_por = obj_polarization(G1, op, s2, n1)\n",
    "    # save original value of innate opinion\n",
    "    temp = op[v,0]\n",
    "    # minimizer's options\n",
    "    min_opi_option = [0, 0.1, 0.2, 0.3, 0.4, 0.5, 0.6, 0.7, 0.8, 0.9, 1.0]\n",
    "    obj = np.zeros(11)\n",
    "\n",
    "    # objective if set opinion to 0, 0.1, ..., 1.0\n",
    "    i = 0\n",
    "    for new_op in min_opi_option:\n",
    "        op[v, 0] = new_op\n",
    "        obj[i] = obj_polarization(G1, op, s2, n1)\n",
    "#         print('change op to '+ str(i/10))\n",
    "#         print(obj[i])\n",
    "        i = i + 1\n",
    "        # restore original opinion\n",
    "        op[v, 0] = temp\n",
    "        \n",
    "\n",
    "    minimize_op = np.argmin(obj)/10\n",
    "    min_obj = np.min(obj)\n",
    "    \n",
    "#     print('new_op', 'innat_equi_por', 'min_por')\n",
    "#     print(minimize_op, innat_equi_por, min_obj)\n",
    "    \n",
    "    # pick the opinion value that yields bigger objective function value\n",
    "    return (minimize_op, innat_equi_por, min_obj)"
   ]
  },
  {
   "cell_type": "code",
   "execution_count": 58,
   "metadata": {},
   "outputs": [
    {
     "ename": "NameError",
     "evalue": "name 'v' is not defined",
     "output_type": "error",
     "traceback": [
      "\u001b[1;31m---------------------------------------------------------------------------\u001b[0m",
      "\u001b[1;31mNameError\u001b[0m                                 Traceback (most recent call last)",
      "\u001b[1;32m<ipython-input-58-89942fdcd21c>\u001b[0m in \u001b[0;36m<module>\u001b[1;34m\u001b[0m\n\u001b[1;32m----> 1\u001b[1;33m \u001b[1;33m(\u001b[0m\u001b[0mminimize_op\u001b[0m\u001b[1;33m,\u001b[0m \u001b[0minnat_equi_por\u001b[0m\u001b[1;33m,\u001b[0m \u001b[0mmin_obj\u001b[0m\u001b[1;33m)\u001b[0m \u001b[1;33m=\u001b[0m \u001b[0mminimize_opinion\u001b[0m\u001b[1;33m(\u001b[0m\u001b[0ms1\u001b[0m\u001b[1;33m,\u001b[0m \u001b[0ms2\u001b[0m\u001b[1;33m,\u001b[0m \u001b[0mn1\u001b[0m\u001b[1;33m,\u001b[0m \u001b[0mv\u001b[0m\u001b[1;33m)\u001b[0m\u001b[1;33m\u001b[0m\u001b[1;33m\u001b[0m\u001b[0m\n\u001b[0m",
      "\u001b[1;31mNameError\u001b[0m: name 'v' is not defined"
     ]
    }
   ],
   "source": [
    "(minimize_op, innat_equi_por, min_obj) = minimize_opinion(s1, s2, n1, v)"
   ]
  },
  {
   "cell_type": "code",
   "execution_count": 59,
   "metadata": {},
   "outputs": [],
   "source": [
    "def choose_min_vertex(op, n1, max_touched):\n",
    "    # iterate over all the vertices that have not yet been changed\n",
    "    vertices = np.where((op != 0.0) & (op != 1.0))\n",
    "    # current best vertex, its opinion {0, 1}, \"innate\" objective, and  current best objective\n",
    "\n",
    "    innat_equi_por = obj_polarization(G1, op, s2, n1)\n",
    "#     print(\"innate equi por to compare\")\n",
    "#     print(innat_equi_por)\n",
    "\n",
    "    champion = (None, None, 0, innat_equi_por)\n",
    "\n",
    "    for v in vertices[0]:\n",
    "        if v not in max_touched:\n",
    "            print('Min start with agent '+ str(v) )\n",
    "            (minimize_op, innat_equi_por, min_pol) = minimize_opinion(op, s2, n1, v)  \n",
    "\n",
    "            if min_pol <= champion[3]:\n",
    "                champion = (v, minimize_op, innat_equi_por, min_pol)\n",
    "\n",
    "    return (champion)"
   ]
  },
  {
   "cell_type": "code",
   "execution_count": null,
   "metadata": {},
   "outputs": [],
   "source": []
  },
  {
   "cell_type": "code",
   "execution_count": 61,
   "metadata": {},
   "outputs": [
    {
     "name": "stdout",
     "output_type": "stream",
     "text": [
      "Min start with agent 0\n",
      "Min start with agent 1\n",
      "Min start with agent 2\n",
      "Min start with agent 3\n",
      "Min start with agent 5\n",
      "Min start with agent 6\n",
      "Min start with agent 7\n",
      "Min start with agent 8\n",
      "Min start with agent 9\n",
      "Min start with agent 10\n",
      "Min start with agent 11\n",
      "Min start with agent 12\n",
      "Min start with agent 13\n",
      "Min start with agent 14\n",
      "Min start with agent 15\n",
      "Min start with agent 16\n",
      "Min start with agent 17\n",
      "Min start with agent 18\n",
      "Min start with agent 19\n",
      "v changed_opinion innate_obj obj\n",
      "(5, 0.0, 0.3458367762412874, 0.3080754390467239)\n"
     ]
    }
   ],
   "source": [
    "# # eq1 = equilibrium(n1,op,g,h,G1,beta,gamma) \n",
    "# # print(eq1)\n",
    "\n",
    "# ### change opinion\n",
    "# op[v,0] = max_champion[1]\n",
    "# equi_opi_max = equilibrium(n1,op,g,h,G1,beta,gamma) #Take the equilibrium opinion after maxmizer's operation\n",
    "# max_input = equi_opi_max \n",
    "\n",
    "### use new equilibrium\n",
    "champion = choose_min_vertex(op, n1, max_touched)\n",
    "print('v', 'changed_opinion', 'innate_obj', 'obj')\n",
    "print (champion)"
   ]
  },
  {
   "cell_type": "markdown",
   "metadata": {},
   "source": [
    "### Testing maxmizer's behavior"
   ]
  },
  {
   "cell_type": "code",
   "execution_count": 62,
   "metadata": {},
   "outputs": [],
   "source": [
    "# max_champion = choose_max_vertex(op, n1)\n",
    "# (v, changed_opinion, innate_obj, obj) = max_champion\n",
    "\n",
    "# print('__________________________________')\n",
    "# print(\"Maximizer find its target agent!\")\n",
    "# print('v', 'changed_opinion', 'innate_obj', 'obj')\n",
    "# print(max_champion)\n",
    "\n",
    "# #Store innate_op of the selected vertex\n",
    "# old_opinion = op[v, 0]\n",
    "\n",
    "# ##### change the agent's opinion\n",
    "# op[v,0] = max_champion[1]\n",
    "# ## check if agent's opinionis is changed or not\n",
    "# print(\"Maximizer changed agent\" + str(v+1) +\" opinion \" + str(old_opinion) + \" to \"+ str(max_champion[1]))\n",
    "# #         print(op)\n",
    "\n"
   ]
  },
  {
   "cell_type": "code",
   "execution_count": 63,
   "metadata": {},
   "outputs": [],
   "source": [
    "# ### opinion changed ---> find the equilibrium opinion \n",
    "# equi_opi_max = equilibrium(n1,op,g,h,G1,beta,gamma) #Take the equilibrium opinion after maxmizer's operation\n",
    "# max_input = equi_opi_max \n",
    "# op_mean = mean_center(max_input, n1) # equi. polarization\n",
    "# por_max = np.dot(np.transpose(op_mean), op_mean)[0,0]\n",
    "# print(\"Network reaches equilibrium Polarization: \" + str(por_max))\n",
    "# # print(\"Equilibrium Opinion\" + str(max_input))\n",
    "\n",
    "# print('Minimizer start with')\n",
    "# print (max_input)"
   ]
  },
  {
   "cell_type": "code",
   "execution_count": 64,
   "metadata": {},
   "outputs": [],
   "source": [
    "####Op has been updated by maximizer, so minimizer react to the innate op after that\n",
    "def minimizer_play(s1,v1,max_opinion,n1, max_touched): \n",
    "    \n",
    "    op = copy.copy(s1)\n",
    "    #update innat opinion \n",
    "    op[v1,0] = max_opinion\n",
    "    print('_______________________')\n",
    "    print('Minimizer Play')\n",
    "#     print('Only 1 opinion changed')\n",
    "#     print(op)\n",
    "    \n",
    "    min_champion = choose_min_vertex(op, n1, max_touched)\n",
    "    (v2, min_opinion, innat_equi_por, min_pol) = min_champion\n",
    "    \n",
    "    if v2 == None:\n",
    "        print('Minimizer fail')\n",
    "\n",
    "    else:\n",
    "        print(\"                                \")\n",
    "        print(\"Minimizer finds its target agent:\")\n",
    "#         print('v2', 'changed_opinion', 'innate_obj', 'obj')\n",
    "#         print(v2, min_opinion, innat_equi_por, min_pol)\n",
    "        #Store innate_op of the min_selected vertex\n",
    "        old_opinion_min = op[v2,0]\n",
    "        ##### change the agent's opinion\n",
    "        op[v2,0] = min_opinion   #-------------------------------------------------> store minimize strategy\n",
    "\n",
    "\n",
    "        print(\"    \"+\"Agent\" + str(v2) +\" 's opinion \" + str(old_opinion_min) + \" changed to \"+ str(min_opinion))\n",
    "\n",
    "#         print(\"Network reaches equilibrium Polarization: \" + str(min_pol))\n",
    "#         print('2 opinion changed')\n",
    "#         print(op)\n",
    "\n",
    "\n",
    "        #restore op\n",
    "#         op[v1] = old_opinion_min\n",
    "#         op[v2] = old_opinion_max\n",
    "        #alternative way to restore\n",
    "#         op = reset \n",
    "#         print(\"Should be innate op\")\n",
    "#         print(op)\n",
    "    return (v2,min_opinion, min_pol)"
   ]
  },
  {
   "cell_type": "code",
   "execution_count": 65,
   "metadata": {},
   "outputs": [],
   "source": [
    "def maximizer_play(s1,v2,min_opinion,n1,min_touched): \n",
    "    op = copy.copy(s1)\n",
    "    #update innat opinion \n",
    "    op[v2,0] = min_opinion\n",
    "#     print('Only 1 opinion changed')\n",
    "#     print(op)\n",
    "    \n",
    "\n",
    "    max_champion = choose_max_vertex(op, n1, min_touched)\n",
    "    (v1, max_opinion, innate_obj, max_pol) = max_champion\n",
    "\n",
    "    if v1 == None:\n",
    "        print('Maximizer fail')\n",
    "\n",
    "    else:\n",
    "        print(\"                                \")\n",
    "        print(\"Maximizer finds its target agent:\")\n",
    "#         print('v1', 'changed_opinion', 'innate_obj', 'obj')\n",
    "#         print(max_champion)\n",
    "\n",
    "        #Store innate_op of the max_selected vertex\n",
    "        old_opinion_max = op[v1, 0]\n",
    "        ##### change the agent's opinion\n",
    "        op[v1,0] = max_opinion\n",
    "        ## check if agent's opinionis is changed or not\n",
    "        print(\"    \"+\"Agent\" + str(v1) +\" 's opinion \" + str(old_opinion_max) + \" changed to \"+ str(max_opinion))\n",
    "#         print(\"Network reaches equilibrium Polarization: \" + str(max_pol))\n",
    "#         print('2 opinion changed')\n",
    "#         print(op)\n",
    "        #restore op\n",
    "#         op[v1] = old_opinion_min\n",
    "#         op[v2] = old_opinion_max\n",
    "        \n",
    "#         #alternative way to restore\n",
    "#         op = reset \n",
    "        \n",
    "#         print(\"Should be innate op\")\n",
    "#         print(op)\n",
    "\n",
    "    return(v1, max_opinion, max_pol)"
   ]
  },
  {
   "cell_type": "code",
   "execution_count": 66,
   "metadata": {},
   "outputs": [],
   "source": [
    "def random_play(s1,n1):\n",
    "    \n",
    "    op = copy.copy(s1)\n",
    "    max_opi_option = [0, 1.0]\n",
    "    \n",
    "    v = random.randint(0,n1-1)\n",
    "#     print(v)\n",
    "    new_op = random.randint(0, 1)\n",
    "#     print(new_op)\n",
    "    \n",
    "    # Store old opinion\n",
    "    old_opinion = op[v,0]\n",
    "    \n",
    "    #update the opinion\n",
    "    op[v,0] = new_op \n",
    "#     print('Only 1 opinion changed')\n",
    "#     print(op)\n",
    "    print(\"    \"+\"Agent\" + str(v) +\" 's opinion \" + str(old_opinion) + \" changed to \"+ str(new_op))\n",
    "    por = obj_polarization(G1, op, s2, n1) \n",
    "    ### opinion changed ---> find the equilibrium opinion \n",
    "\n",
    "\n",
    "    equi = equilibrium(n1,op,g,h,G1,beta,gamma) #Take the equilibrium opinion after maxmizer's operation\n",
    "    \n",
    "    \n",
    "    #restore op\n",
    "    op[v] = old_opinion\n",
    "    print(\"Network reaches equilibrium Polarization: \" + str(por))\n",
    "#     print('Should be restored')\n",
    "#     print(op)\n",
    "    return (v, new_op, por)\n",
    "\n",
    "\n",
    "\n"
   ]
  },
  {
   "cell_type": "code",
   "execution_count": 67,
   "metadata": {},
   "outputs": [],
   "source": [
    "# # # Testing block to see if player operate properly\n",
    "# (max_input, por_max) =  maximizer_play(op,n1)\n",
    "# # result =  minimizer_play(max_input, n1)\n"
   ]
  },
  {
   "cell_type": "markdown",
   "metadata": {},
   "source": [
    "# Equilibrium"
   ]
  },
  {
   "cell_type": "code",
   "execution_count": 68,
   "metadata": {},
   "outputs": [
    {
     "name": "stdout",
     "output_type": "stream",
     "text": [
      "[[0.67969]\n",
      " [0.92609]\n",
      " [0.63097]\n",
      " [0.53043]\n",
      " [0.09439]\n",
      " [0.59924]\n",
      " [0.58372]\n",
      " [0.41157]\n",
      " [0.56711]\n",
      " [0.46302]\n",
      " [0.92996]\n",
      " [0.63543]\n",
      " [0.75248]\n",
      " [0.86128]\n",
      " [0.6927 ]\n",
      " [0.20287]\n",
      " [0.16018]\n",
      " [0.43476]\n",
      " [0.85955]\n",
      " [0.0292 ]]\n"
     ]
    }
   ],
   "source": [
    "print(op)"
   ]
  },
  {
   "cell_type": "markdown",
   "metadata": {},
   "source": [
    "# Game Start!"
   ]
  },
  {
   "cell_type": "code",
   "execution_count": 69,
   "metadata": {},
   "outputs": [
    {
     "name": "stdout",
     "output_type": "stream",
     "text": [
      "min_touched\n",
      "[]\n",
      "Maximizer random selection\n",
      "    Agent7 's opinion 0.41156772304612566 changed to 1\n",
      "Network reaches equilibrium Polarization: 0.3458367762412874\n",
      "v1 max_opinion\n",
      "7 1\n",
      "Game 1\n",
      "_____________________\n",
      "_______________________\n",
      "Minimizer Play\n",
      "Min start with agent 0\n",
      "Min start with agent 1\n",
      "Min start with agent 2\n",
      "Min start with agent 3\n",
      "Min start with agent 4\n",
      "Min start with agent 5\n",
      "Min start with agent 6\n",
      "Min start with agent 8\n",
      "Min start with agent 9\n",
      "Min start with agent 10\n",
      "Min start with agent 11\n",
      "Min start with agent 12\n",
      "Min start with agent 13\n",
      "Min start with agent 14\n",
      "Min start with agent 15\n",
      "Min start with agent 16\n",
      "Min start with agent 17\n",
      "Min start with agent 18\n",
      "Min start with agent 19\n",
      "                                \n",
      "Minimizer finds its target agent:\n",
      "    Agent19 's opinion 0.029199013765241588 changed to 0.0\n",
      "min_touched\n",
      "[19]\n",
      "max_touched\n",
      "[7]\n",
      "Max start with agent 0\n",
      "Max start with agent 1\n",
      "Max start with agent 2\n",
      "Max start with agent 3\n",
      "Max start with agent 4\n",
      "Max start with agent 5\n",
      "Max start with agent 6\n",
      "Max start with agent 7\n",
      "Max start with agent 8\n",
      "Max start with agent 9\n",
      "Max start with agent 10\n",
      "Max start with agent 11\n",
      "Max start with agent 12\n",
      "Max start with agent 13\n",
      "Max start with agent 14\n",
      "Max start with agent 15\n",
      "Max start with agent 16\n",
      "Max start with agent 17\n",
      "Max start with agent 18\n",
      "                                \n",
      "Maximizer finds its target agent:\n",
      "    Agent18 's opinion 0.8595541978513177 changed to 0.0\n",
      "min_touched\n",
      "[19]\n",
      "max_touched\n",
      "[7, 18]\n",
      "Game 2\n",
      "_____________________\n",
      "Reached PURE Nash Equilibrium at game2 Equi_Por:0.3458367762412874\n",
      "Maximizer\n",
      "   changed Agent18 's opinion to 0.0\n",
      "Minimizer\n",
      "   changed Agent19 's opinion to 0.0\n"
     ]
    }
   ],
   "source": [
    "\n",
    "Flag = 0\n",
    "i = 0\n",
    "max_touched = []\n",
    "min_touched = []\n",
    "print('min_touched')\n",
    "print(min_touched)\n",
    "min_pol = 0\n",
    "\n",
    "# Game start from maximizer random play\n",
    "print('Maximizer random selection')\n",
    "(v1, max_opinion, max_pol) = random_play(op,n1)\n",
    "max_touched.append(v1)\n",
    "print(\"v1 max_opinion\")\n",
    "print(v1, max_opinion)\n",
    "\n",
    "while Flag == 0: \n",
    "    i = i + 1\n",
    "    print(\"Game \" + str(i))\n",
    "    print(\"_____________________\")\n",
    "    \n",
    "#     a = round(equi_min,4)\n",
    "#     b = round(equi_max,4)\n",
    "    if max_pol == min_pol:\n",
    "        print(\"Reached PURE Nash Equilibrium at game\"+ str(i) + \" Equi_Por:\" + str(max_pol) )\n",
    "        print('Maximizer')\n",
    "        print(\"   changed \"+\"Agent\" + str(v1) +\" 's opinion to \"+ str(max_opinion))\n",
    "        print('Minimizer')\n",
    "        print(\"   changed \"+\"Agent\" + str(v2) +\" 's opinion to \"+ str(min_opinion))\n",
    "        break\n",
    "\n",
    "    ############################## maximizer play  \n",
    "    else:\n",
    "        (v2, min_opinion, min_pol) = minimizer_play(op,v1,max_opinion,n1, max_touched)\n",
    "        min_touched.append(v2)\n",
    "        print('min_touched')\n",
    "        print(min_touched)\n",
    "        print('max_touched')\n",
    "        print(max_touched)\n",
    "        (v1, max_opinion, max_pol) = maximizer_play(op,v2,min_opinion,n1,min_touched)\n",
    "        max_touched.append(v1)\n",
    "        print('min_touched')\n",
    "        print(min_touched)\n",
    "        print('max_touched')\n",
    "        print(max_touched)\n",
    "\n"
   ]
  },
  {
   "cell_type": "code",
   "execution_count": 70,
   "metadata": {},
   "outputs": [],
   "source": []
  },
  {
   "cell_type": "code",
   "execution_count": null,
   "metadata": {},
   "outputs": [],
   "source": []
  },
  {
   "cell_type": "code",
   "execution_count": null,
   "metadata": {},
   "outputs": [],
   "source": []
  },
  {
   "cell_type": "code",
   "execution_count": null,
   "metadata": {},
   "outputs": [],
   "source": []
  }
 ],
 "metadata": {
  "kernelspec": {
   "display_name": "Python 3",
   "language": "python",
   "name": "python3"
  },
  "language_info": {
   "codemirror_mode": {
    "name": "ipython",
    "version": 3
   },
   "file_extension": ".py",
   "mimetype": "text/x-python",
   "name": "python",
   "nbconvert_exporter": "python",
   "pygments_lexer": "ipython3",
   "version": "3.8.5"
  }
 },
 "nbformat": 4,
 "nbformat_minor": 4
}
