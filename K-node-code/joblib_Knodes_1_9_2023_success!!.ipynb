{
 "cells": [
  {
   "cell_type": "code",
   "execution_count": 140,
   "metadata": {
    "id": "0rz_DqZRAO2o"
   },
   "outputs": [],
   "source": [
    "##### This code is from Updated Testing Reddit - No Con- bias (Fictitious Play)-01092022\n",
    "##### This code replace the big real datanetwork with small sythetic network \n",
    "import scipy\n",
    "import numpy as np\n",
    "import matplotlib.pyplot as plt\n",
    "import networkx as nx\n",
    "from itertools import combinations\n",
    "import time\n",
    "import random\n",
    "from random import randint\n",
    "from scipy.stats import beta\n",
    "import pandas as pd\n",
    "import copy\n",
    "%matplotlib inline\n",
    "# %run Check_Derivation_of_Two_Opinions.ipynb\n",
    "#%run pure_strategy_selection.ipynb  #include simple selection algorithm\n",
    "import scipy.io\n",
    "import collections\n",
    "import sys\n",
    "from itertools import count\n",
    "from itertools import combinations\n",
    "from itertools import product\n",
    "import scipy.optimize\n",
    "import csv\n",
    "import os.path\n",
    "from math import comb\n",
    "from itertools import count\n",
    "from time import sleep\n",
    "import time\n",
    "import multiprocessing\n",
    "from multiprocessing import Process\n",
    "from multiprocessing import Queue\n",
    "from operator import itemgetter\n",
    "\n",
    "# Game Parameters\n",
    "# Game_rounds =200 # Rounds + 1- use for printing data\n",
    "memory = 50\n",
    "\n",
    "save_path = 'C:/Users/xzhan176/OneDrive/Misinfo Paper/Sythetic Network - less memory version/'\n"
   ]
  },
  {
   "cell_type": "code",
   "execution_count": null,
   "metadata": {},
   "outputs": [],
   "source": []
  },
  {
   "cell_type": "markdown",
   "metadata": {
    "id": "Q1V_MLZjAO2q"
   },
   "source": [
    "    # Flexible Manual set condition \n",
    "      > initial starting node\n",
    "      > memory of the player \n",
    "    # Fixed initial condition + memeory = 50"
   ]
  },
  {
   "cell_type": "markdown",
   "metadata": {
    "id": "WEZ4Q6zhAO2r"
   },
   "source": [
    "## Mathmatic Functions"
   ]
  },
  {
   "cell_type": "code",
   "execution_count": 141,
   "metadata": {
    "id": "sspKxgdfAO2r"
   },
   "outputs": [],
   "source": [
    "# centers the opinion vector around 0\\n\",\n",
    "def mean_center(op, n):\n",
    "    ones = np.ones((n, 1))\n",
    "    x = op - (np.dot(np.transpose(op),ones)/n) * ones\n",
    "    return x\n",
    "    \n",
    "# compute number of edges, m\\n\n",
    "def num_edges(L, n):\n",
    "    m = 0\n",
    "    for i in range(n):\n",
    "        for j in range(n):\n",
    "            if i > j and L[i,j] < 0:\n",
    "                m += 1            \n",
    "    return m\n",
    "\n",
    "# Compute number of possible actions\n",
    "def len_actions(k, n):\n",
    "    # create all combination of K opinions\n",
    "    max_option = [0, 1]  \n",
    "    k_opinions =list(product(max_option, repeat=k))  # All k opinion combinations\n",
    "    len_kops = len(k_opinions) # - number of combinations exist\n",
    "    # Horizontal length of all possible actions\n",
    "    h = comb(n,k) * len_kops\n",
    "    return h\n",
    "\n",
    "\n",
    "# maximizing polarization only: \\\\bar{z}^T \\\\bar{z}   \n",
    "def obj_polarization(A, L, op, n):\n",
    "    op_mean = mean_center(op, n)\n",
    "    z_mean = np.dot(A, op_mean)\n",
    "    return np.dot(np.transpose(z_mean), z_mean)[0,0] \n",
    "\n",
    "# Calculate innate polarization\n",
    "def obj_innate_polarization(s, n):  \n",
    "#     np.set_printoptions(precision=5)\n",
    "    op_mean = mean_center(s, n)\n",
    "    return np.dot(np.transpose(op_mean), op_mean)[0,0]\n",
    "\n",
    "np.set_printoptions(precision=5)"
   ]
  },
  {
   "cell_type": "code",
   "execution_count": 142,
   "metadata": {
    "colab": {
     "base_uri": "https://localhost:8080/"
    },
    "id": "qblyOWFDAO2s",
    "outputId": "d443386e-b25a-4ae0-d381-49fda1ffb9f3"
   },
   "outputs": [
    {
     "name": "stdout",
     "output_type": "stream",
     "text": [
      "4900\n"
     ]
    }
   ],
   "source": [
    "k = 2\n",
    "n = 50\n",
    "# #comb(n,k)\n",
    "h = len_actions(k, n)\n",
    "print(h)\n",
    "np.set_printoptions(precision=5)"
   ]
  },
  {
   "cell_type": "code",
   "execution_count": 143,
   "metadata": {
    "id": "Rab6BWqFAO2s"
   },
   "outputs": [],
   "source": [
    "########### create all combination\n",
    "def cgen(i,n,k):\n",
    "    \"\"\"\n",
    "    returns the i-th combination of k numbers chosen from 1,2,...,n\n",
    "    \"\"\"\n",
    "    c = []\n",
    "    r = i+0\n",
    "    j = -1\n",
    "    for s in range(1,k+1):\n",
    "        cs = j+1\n",
    "        while r-comb(n-1-cs,k-s)>=0:\n",
    "            r -= comb(n-1-cs,k-s)\n",
    "            cs += 1\n",
    "        c.append(cs)\n",
    "        j = cs\n",
    "    return c\n",
    "# Create available combinations\n",
    "def convert_available(k_nodes, touched, k):\n",
    "    \n",
    "    #touched = list(set(touched)) #[2,4,6,8] unqie values of touched\n",
    "    touched.sort()\n",
    "    for i in touched: \n",
    "        for j in range(k): #[2,3,4,5,6,7,8,9]   \n",
    "            if k_nodes[j]>=i:\n",
    "                k_nodes[j] = k_nodes[j] + 1\n",
    "    return k_nodes\n",
    "\n",
    "# def creat_all_comb(i_th, n, k):\n",
    "# ########### create all combination of K opinions\n",
    "#     max_option = [0, 1]\n",
    "#     k_opinions =[]\n",
    "#     k_opinions = product(max_option, repeat=k)  # - all k opinion combinations\n",
    "#     k_nodes = cgen(i_th,n,k)\n",
    "#     return(k_nodes, k_opinions)\n",
    "\n",
    "def creat_all_comb(n, k):\n",
    "########### create all combination of K opinions\n",
    "    max_option = [0, 1]\n",
    "    k_opinions =[]\n",
    "    k_opinions = product(max_option, repeat=k)  # - all k opinion combinations\n",
    "    \n",
    "    return list(k_opinions)\n",
    "\n",
    "\n",
    "########### create available combination of K nodes\n",
    "def creat_available_comb(i_th, n,k,touched):\n",
    "\n",
    "    a = len(set(touched))  # number of unqiue touched nodes\n",
    "    len_nodesets = comb(n-a,k) #  number of available combination of k nodes\n",
    "    \n",
    "    k_fake = cgen(i_th,n-a,k) # generate the i-th list from total n-a agents\n",
    "    k_nodes = convert_available(k_fake, touched, k) # convert the i-th list to real k nodes\n",
    "\n",
    "    return (k_nodes)\n",
    "\n",
    "# output is changed opinion set based on inputs \n",
    "def change_k_innate_opinion(s, node_set, k_opinion): # node_set - 1 set  k_opinion- 1 set\n",
    "    op =  copy.copy(s) # make a copy of the innate opinion array \n",
    "\n",
    "    for j in range(k):\n",
    "        b = node_set[j] # b - agent index\n",
    "#         print('agent index' + str(b))\n",
    "#         print('op length'+ str(len(op)))\n",
    "#         print('k_opinions'+str(list(k_opinions)))\n",
    "        op[b]=k_opinion[j]   # f - index of which opinion combination\n",
    "\n",
    "    return op"
   ]
  },
  {
   "cell_type": "code",
   "execution_count": 144,
   "metadata": {
    "id": "M_qWqYEZAO2t"
   },
   "outputs": [],
   "source": [
    "# i_th = 0\n",
    "# v2 = creat_available_comb(i_th, n,k,touched)\n",
    "# print(v2)"
   ]
  },
  {
   "cell_type": "code",
   "execution_count": 145,
   "metadata": {
    "id": "qQAy_anpAO2t"
   },
   "outputs": [],
   "source": [
    "# # i = 4\n",
    "# # n = 20\n",
    "# # k = 2\n",
    "# # touched = [8, 17, 2, 6]\n",
    "# # creat_available_comb(i, n,k,touched)\n",
    "# k_nodes=[1,2]\n",
    "# touched = [2,3]\n",
    "# k = 2\n",
    "# convert_available(k_nodes, touched, k)"
   ]
  },
  {
   "cell_type": "markdown",
   "metadata": {
    "id": "FwojG-i6AO2t"
   },
   "source": [
    "### 1. Import Network"
   ]
  },
  {
   "cell_type": "code",
   "execution_count": 146,
   "metadata": {
    "colab": {
     "base_uri": "https://localhost:8080/"
    },
    "id": "y1_aVj2PEmPy",
    "outputId": "916952a8-3821-4aff-f68f-dc9207081ce6"
   },
   "outputs": [
    {
     "name": "stdout",
     "output_type": "stream",
     "text": [
      "c1\n",
      "[ 0  1  2  3  4  5  6  7  8  9 10 11 12 13 14 15 16 17 18 19 20 21 22 23\n",
      " 24 25 26 27 28 29 30 31 32 33 34 35 36 37 38 39 40 41 42 43 44 45 46 47\n",
      " 48 49]\n",
      "G for agents completed!\n",
      "[[0.     0.0286 0.0359 ... 0.0058 0.0368 0.0311]\n",
      " [0.0286 0.     0.0218 ... 0.0236 0.0363 0.0317]\n",
      " [0.0359 0.0218 0.     ... 0.0219 0.     0.0094]\n",
      " ...\n",
      " [0.0058 0.0236 0.0219 ... 0.     0.0303 0.    ]\n",
      " [0.0368 0.0363 0.     ... 0.0303 0.     0.0124]\n",
      " [0.0311 0.0317 0.0094 ... 0.     0.0124 0.    ]]\n",
      "Column Sum\n",
      "[1. 1. 1. 1. 1. 1. 1. 1. 1. 1. 1. 1. 1. 1. 1. 1. 1. 1. 1. 1. 1. 1. 1. 1.\n",
      " 1. 1. 1. 1. 1. 1. 1. 1. 1. 1. 1. 1. 1. 1. 1. 1. 1. 1. 1. 1. 1. 1. 1. 1.\n",
      " 1. 1.]\n"
     ]
    }
   ],
   "source": [
    "############################ Make Innate Opinion ################################\n",
    "##create two set of weights connected with density 1) inviduals  2) individual & informaton Source\n",
    "c1 = np.sort(np.random.choice(n, n, replace=False)) #assume (1-r) are individuals\n",
    "print('c1')\n",
    "print(c1)\n",
    "l1 = len(c1)\n",
    "\n",
    "def make_innat_opinions(n, c1): # Make opinion for agents only - no info source is involved\n",
    "    \n",
    "    # Make list of ind innate opinion to define info source opinion\n",
    "    innat_s = np.random.uniform(low=0, high=1, size=int(n))   #individual's innate opinion \n",
    "\n",
    "    s = np.zeros((n, 1))\n",
    "    \n",
    "    idx1 = 0\n",
    "    for i in range(len(s)):\n",
    "        s[i] = innat_s[idx1]  #set innate opinion for ind.\n",
    "        idx1 += 1\n",
    "  \n",
    "    return s\n",
    "\n",
    "\n",
    "##################################Creating Adjacency Matrix ########################\n",
    "np.set_printoptions(precision=4)\n",
    "### Prepare for create adjacent matrix\n",
    "p1 = 0.9 # density within ind.\n",
    "p2 = 0 # density of edges between Info Source and Indivisuals\n",
    "\n",
    "pre_weights1 = scipy.sparse.random(1, int(0.5*l1*(l1 - 1)), density=p1).A[0] \n",
    "weights1 = pre_weights1/25\n",
    "\n",
    "\n",
    "# print(\"weight1\")\n",
    "# print(weights1)\n",
    "weights1.shape\n",
    "\n",
    "# b = weights2.round()  #generate a binary array to indicate the connection between ind. and inf. source \n",
    "                          #without consider the innate opinions, just based on the edges between info source and ind.\n",
    "\n",
    "    \n",
    "    \n",
    "# create n x n adjacency matrix with existing init_G\n",
    "G = np.zeros((n, n))\n",
    "    \n",
    "## Assign edges between ind to ind \n",
    "idx = 0\n",
    "for i in c1:\n",
    "    for j in c1:\n",
    "            if i == j:\n",
    "                G[i][j] =0\n",
    "                continue\n",
    "            elif i < j:\n",
    "                G[i][j] = weights1[idx]\n",
    "                idx += 1\n",
    "#                 print(idx)\n",
    "#                 print (G1[i][j])\n",
    "            else:\n",
    "                G[i][j] = G[j][i]\n",
    "print(\"G for agents completed!\")\n",
    "print(G)\n",
    "\n",
    "L = scipy.sparse.csgraph.laplacian(G, normed=False)\n",
    "A = np.linalg.inv(np.identity(n) + L)\n",
    "m = num_edges(L, n)\n",
    "columnsum_ij = np.sum(A, axis=0)\n",
    "print('Column Sum')\n",
    "print(columnsum_ij)\n",
    "# what the twitter graph looks like \n",
    "# nxG = nx.from_numpy_matrix(G)\n",
    "# plt.figure(figsize=(20, 20))\n",
    "# nx.draw(nxG)\n",
    "\n",
    "La = scipy.sparse.csgraph.laplacian(G, normed=False)\n",
    "\n",
    "nxG = nx.from_numpy_matrix(G)\n",
    "\n",
    "color_map = []\n",
    "for node in nxG:\n",
    "    if node in c1:\n",
    "        color_map.append('Blue')\n",
    "    else: \n",
    "        color_map.append('Red')  \n",
    "\n",
    "# #nxG1 = nx.DiGraph(G)\n",
    "# nx.draw(nxG, node_color=color_map, with_labels=False)\n",
    "# plt.figure(figsize=(25, 25))\n",
    "# plt.show()"
   ]
  },
  {
   "cell_type": "code",
   "execution_count": 147,
   "metadata": {
    "colab": {
     "base_uri": "https://localhost:8080/"
    },
    "id": "mGQnh3qjAO2u",
    "outputId": "877338b0-84a4-4ea5-813f-19227c3a80d3"
   },
   "outputs": [
    {
     "name": "stdout",
     "output_type": "stream",
     "text": [
      "[[0.1941]\n",
      " [0.1608]\n",
      " [0.1616]\n",
      " [0.1791]\n",
      " [0.8969]\n",
      " [0.742 ]\n",
      " [0.1674]\n",
      " [0.3606]\n",
      " [0.1182]\n",
      " [0.8569]\n",
      " [0.3653]\n",
      " [0.3202]\n",
      " [0.2345]\n",
      " [0.9211]\n",
      " [0.4399]\n",
      " [0.0124]\n",
      " [0.843 ]\n",
      " [0.0749]\n",
      " [0.6393]\n",
      " [0.638 ]\n",
      " [0.8078]\n",
      " [0.976 ]\n",
      " [0.2906]\n",
      " [0.7653]\n",
      " [0.9213]\n",
      " [0.4807]\n",
      " [0.5997]\n",
      " [0.0917]\n",
      " [0.8187]\n",
      " [0.9969]\n",
      " [0.1947]\n",
      " [0.1849]\n",
      " [0.6305]\n",
      " [0.6979]\n",
      " [0.9063]\n",
      " [0.0532]\n",
      " [0.0486]\n",
      " [0.6794]\n",
      " [0.4311]\n",
      " [0.1731]\n",
      " [0.6264]\n",
      " [0.2354]\n",
      " [0.908 ]\n",
      " [0.5339]\n",
      " [0.2706]\n",
      " [0.6742]\n",
      " [0.9781]\n",
      " [0.8998]\n",
      " [0.8533]\n",
      " [0.2371]]\n"
     ]
    }
   ],
   "source": [
    "s = make_innat_opinions(n, c1)\n",
    "print(s)\n",
    "# #################### Import Sythetic Network Data\n",
    "# df = pd.read_csv (save_path+'data/Adjacency Matrix.csv', header=None)\n",
    "# G = np.array(df[df.columns[:]])\n",
    "# # print(G)\n",
    "# df1 = pd.read_csv(save_path+'data/Innate Opinion.csv', header = None)\n",
    "# s = np.array(df1[df1.columns[:]])\n",
    "# # print(s)\n",
    "# # print(G.shape)\n",
    "\n",
    "# # Set n according to the data\n",
    "# n = len(s[:])\n",
    "# print(n)"
   ]
  },
  {
   "cell_type": "code",
   "execution_count": 148,
   "metadata": {
    "id": "PV9KGKMnAO2u"
   },
   "outputs": [],
   "source": [
    "# G = creat_network(n)\n",
    "# s = make_innat_opinion(n)"
   ]
  },
  {
   "cell_type": "code",
   "execution_count": 149,
   "metadata": {
    "id": "GQ9aXQXZAO2u"
   },
   "outputs": [],
   "source": [
    "################## Process the Network Data\n",
    "L = scipy.sparse.csgraph.laplacian(G, normed=False)  # Return the Laplacian matrix\n",
    "A = np.linalg.inv(np.identity(n) + L)  # A = (I + L)^(-1)\\n  Stanford paper theory\n",
    "m = num_edges(L, n)                    # call the function to calculate the number of edges\n",
    "# what the twitter graph looks like \n",
    "nxG = nx.from_numpy_matrix(G)          \n",
    "#plt.figure(figsize=(20, 20))\n",
    "# nx.draw(nxG)\n",
    "columnsum_ij = np.sum(A, axis=0)\n",
    "# print(columnsum_ij)\n"
   ]
  },
  {
   "cell_type": "markdown",
   "metadata": {
    "id": "ITpFRQgzAO2u"
   },
   "source": [
    "### 2. Equilibrium & Polarization \n",
    "$$P(z) = z ^T * z $$\n"
   ]
  },
  {
   "cell_type": "code",
   "execution_count": 150,
   "metadata": {
    "id": "NMIW06RpAO2v"
   },
   "outputs": [],
   "source": [
    "# op = s\n",
    "# y = mean_center(s,n)\n",
    "# # print(y)\n",
    "# innat_pol = np.dot(np.transpose(y), y)[0,0] \n",
    "# print('Innate_polarization:')\n",
    "# print(innat_pol)\n",
    "\n",
    "# # Test equilibrium polarization\n",
    "# equ_pol = obj_polarization(A, L, s, n)\n",
    "# print('Equi_polarization:')\n",
    "# print(equ_pol)\n",
    "\n",
    "# di = equ_pol-innat_pol\n",
    "# print(\"Difference:\")\n",
    "# print(di)"
   ]
  },
  {
   "cell_type": "markdown",
   "metadata": {
    "id": "6NZm9FywAO2v"
   },
   "source": [
    "### 3. Helper Functions"
   ]
  },
  {
   "cell_type": "code",
   "execution_count": 151,
   "metadata": {
    "id": "56bA_9OmAO2v"
   },
   "outputs": [],
   "source": [
    "def k_random_play(s,n,k):  # player randomly choose an agent and randomly change the agent\n",
    "    \n",
    "    op = copy.copy(s)\n",
    "    \n",
    "    ########### create all combination of K nodes\n",
    "    k_opinions = creat_all_comb(n, k)\n",
    "    len_nodesets = comb(n,k)\n",
    "\n",
    "    i_th = random.randint(0,len_nodesets-1)  # randomly select an agent index\n",
    "#     v_list = node_sets[v_index]\n",
    "    v_list = cgen(i_th,n,k)\n",
    "    \n",
    "    ########### create all combination of K opinions\n",
    "    len_kops = len(k_opinions) # - number of combinations exist\n",
    "    op_index = random.randint(0,len_kops-1) # randomly select index for an OPINION list \n",
    "    new_op = k_opinions[op_index]  # randomly select an opininon list(0 and 1) to update the opinion array\n",
    "#     print('Nodes, opinions')\n",
    "#     print(v_list,new_op)\n",
    "#     print(new_op)\n",
    "    op = change_k_innate_opinion(s, v_list, new_op)\n",
    "\n",
    "   # print(\"    \"+\"Agent\" + str(v) +\" 's opinion \" + str(old_opinion) + \" changed to \"+ str(new_op))\n",
    "    \n",
    "    por = obj_polarization(A, L, op, n)\n",
    "    \n",
    "    column = len_kops*i_th + op_index\n",
    "#     print(\"Network reaches stead_state Polarization: \" + str(por))\n",
    "\n",
    "    return (v_list, new_op, por, column)\n"
   ]
  },
  {
   "cell_type": "code",
   "execution_count": 152,
   "metadata": {
    "id": "cSAvYI_ZAO2v"
   },
   "outputs": [],
   "source": [
    "def k_random_play_1(s,n,k,max_touched):  # player randomly choose an agent and randomly change the agent\n",
    "    \n",
    "    op = copy.copy(s)\n",
    "#     max_opi_option = random.uniform(0, 1)   # options that maximizer have\n",
    "\n",
    "    a = len(set(max_touched))  # number of unqiue touched nodes\n",
    "    len_nodesets = comb(n-a,k) #  number of available combination of k nodes\n",
    "    \n",
    "    i_th = random.randint(0,len_nodesets-1)  # randomly select an action index\n",
    "    v_list = creat_available_comb(i_th, n,k,max_touched)\n",
    "  \n",
    "    new_op_list = []\n",
    "    for i in range(k):\n",
    "        #new_op = random.uniform(0, 1)  # randomly select an opininon between 0 and 1\n",
    "        new_op = 0.5\n",
    "        new_op_list.append(new_op)\n",
    "   \n",
    "    new_op_list = tuple(new_op_list)\n",
    "#     print('Nodes, opinions')\n",
    "#     print(v_list,new_op_list)\n",
    "    op = change_k_innate_opinion(s, v_list, new_op_list)\n",
    "   # print(\"    \"+\"Agent\" + str(v) +\" 's opinion \" + str(old_opinion) + \" changed to \"+ str(new_op))\n",
    "    por = obj_polarization(A, L, op, n)\n",
    "#     print(\"Network reaches steady-state Polarization: \" + str(por))\n",
    "#     print('Should be restored')\n",
    "#     print(op)\n",
    "    return (v_list, new_op_list, por)\n",
    "\n",
    "\n",
    "\n"
   ]
  },
  {
   "cell_type": "code",
   "execution_count": 153,
   "metadata": {
    "id": "RTqB0BfgAO2v"
   },
   "outputs": [],
   "source": [
    "# k = 2\n",
    "# max_touched = [1,2]\n",
    "# (v, new_op_list, por) =k_random_play_1(s,n,k,max_touched)\n",
    "# print(v, new_op_list, por)"
   ]
  },
  {
   "cell_type": "code",
   "execution_count": 154,
   "metadata": {
    "id": "yOKh2AQDAO2v"
   },
   "outputs": [],
   "source": [
    "# max_touched = [0]\n",
    "# v2 = [0]\n",
    "# k = 2\n",
    "# node_set = [1,2]\n",
    "# k_opinion = [0,0]"
   ]
  },
  {
   "cell_type": "markdown",
   "metadata": {
    "id": "1sVp1ReiAO2w"
   },
   "source": [
    "### Mixed Strategy Payoff\n"
   ]
  },
  {
   "cell_type": "code",
   "execution_count": 155,
   "metadata": {
    "id": "3qWjDcUyAO2w"
   },
   "outputs": [],
   "source": [
    "np.set_printoptions(precision=3)\n",
    "def make_k_payoff_row(op1, h, v2): #op1 here is only changed by Min\n",
    "    payoff_row = np.zeros(h)\n",
    "    \n",
    "    column = 0 \n",
    "    i = 1\n",
    "    for i in range(0, comb(n,k)):# i - which set of nodes option \n",
    "#         print('nodeset'+ str(i))\n",
    "        nodes = cgen(i,n,k)\n",
    "#         print(nodes)\n",
    "        k_opinions = creat_all_comb(n, k)\n",
    "\n",
    "        for ops in k_opinions: # tuple index - select one combinatio of opinions\n",
    "#             print('opset'+ str(j))\n",
    "#             j = j + 1\n",
    "            op2 = change_k_innate_opinion(op1, nodes, ops) # op2 has changed by both min and max now\n",
    "            check =  any(node in nodes for node in v2)     \n",
    "            \n",
    " # when v1 == v2, the polarization should be negative for max, infinet for min. \n",
    " # Replace the the column_index of agent v2 with 0 for max                   \n",
    "            if check is False:    #if v1 != v2\n",
    "                # calculate the payofflarization\n",
    "                payoff = obj_polarization(A, L, op2, n) # calculate the payofflarization\n",
    "                payoff_row[column] = payoff\n",
    "                column = column + 1  \n",
    "#                 print(payoff_row) \n",
    "            else:                #if v1 == v2   \n",
    "                payoff_row[column] = 10000  # use to avoid min and max choose the same agent\n",
    "                column = column + 1  \n",
    "#                 print(payoff_row)   \n",
    "            \n",
    "#     print(payoff_row)        \n",
    "\n",
    "\n",
    "    return payoff_row    "
   ]
  },
  {
   "cell_type": "code",
   "execution_count": 156,
   "metadata": {
    "id": "G6hsYTJGAO2w"
   },
   "outputs": [],
   "source": [
    "# h =  len_actions(k, n)\n",
    "# print(h)\n",
    "# v2 = (1,2)\n",
    "# payoff_row = make_k_payoff_row(s, h, v2)\n",
    "\n",
    "# print(payoff_row)\n",
    "# # print(len(s))"
   ]
  },
  {
   "cell_type": "markdown",
   "metadata": {
    "id": "dh_aPh3DAO2w"
   },
   "source": [
    "### Minimizer Mixed Strategy"
   ]
  },
  {
   "cell_type": "code",
   "execution_count": 157,
   "metadata": {
    "id": "Z7CbW71hAO2w"
   },
   "outputs": [],
   "source": [
    "# Calculate polarization of minimizer's Mixed Strategy\n",
    "def mixed_K_min_polarization(s,v2,k_opinion,fla_max_fre):\n",
    "\n",
    "    op1 = change_k_innate_opinion(s, v2, k_opinion) # only updated by minimizer's current change\n",
    "    # calculate the polarization with both min(did above) and max's action(in make_payoff_row)\n",
    "    payoff_row = make_k_payoff_row(op1, h, v2)  # the vector list out 2*n payoffs after min's action combine with 2*n possible max's actions\n",
    "#     print('payoff_row')\n",
    "#     print(payoff_row)\n",
    "    #calculate fictitious payoff - equi_min  \n",
    "    payoff_cal = payoff_row * fla_max_fre # fla_max_fre recorded the frequency of each maximizer's action, frequency sum = 1\n",
    "                                             # payoff (2*n array) * maximizer_action_frequency (2*n array)\n",
    "    # print('payoff_cal')\n",
    "    # print(payoff_cal)\n",
    "    mixed_pol = np.sum(payoff_cal) # add up all, calculate average/expected payoff\n",
    "#     print('Mixed_pol')\n",
    "#     print(mixed_pol)\n",
    "\n",
    "    # Replace the the column_index of agent v2 with -100 for max\n",
    "\n",
    "    payoff_row = [-10000 if ele == 10000 else ele for ele in payoff_row]\n",
    "\n",
    "\n",
    "    return (mixed_pol,payoff_row)\n"
   ]
  },
  {
   "cell_type": "code",
   "execution_count": 158,
   "metadata": {
    "id": "VeF0sy0yAO2w"
   },
   "outputs": [],
   "source": [
    "# node_set = [1,2]\n",
    "# k_opinion = [0,1]\n",
    "# op = change_k_innate_opinion(s, node_set, k_opinion)\n",
    "# print(op)\n",
    "# v2 = [3,4]\n",
    "# a= mixed_K_min_polarization(s,v2,k_opinion,fla_max_fre)\n",
    "# print(a)"
   ]
  },
  {
   "cell_type": "code",
   "execution_count": 159,
   "metadata": {
    "id": "qnKaZUPsAO2w"
   },
   "outputs": [],
   "source": [
    "############################################ k Min_opinion - Python Package Solve  ################################\n",
    "# k = 2\n",
    "# v2=[1,2]\n",
    "\n",
    "\n",
    "############## Create the sum_term - exclude selected nodes \n",
    "#M_1= sum_term - term_out    # numerator\n",
    "def sum_rest(n, op, v2):\n",
    "    # Reshape opinion array\n",
    "    op = np.reshape(op, (n,1))\n",
    "    \n",
    "    E_new =np.array([1/n] * n *n)  \n",
    "    E_new = np.reshape(E_new, (n,n)) # create a n*n matrix with all elements 1\n",
    "    #A_new = np.reshape(A, (n,n))\n",
    "    A_new = copy.copy(A)\n",
    "    A_temp=A_new-E_new\n",
    "    M_new_temp=A_temp@op\n",
    "    def sumFunction(x):\n",
    "        s_i = op[x]*A_temp[x]\n",
    "        return s_i\n",
    "    np.sum(A, axis=0)   \n",
    "    Out_term = np.sum([sumFunction(x) for x in v2],axis=0)  \n",
    "    Out_term = np.reshape(Out_term, (n,1))\n",
    "    M_rest = np.transpose(M_new_temp-Out_term)\n",
    "#     print('M')\n",
    "#     print(M_rest)\n",
    "    return M_rest\n",
    "\n",
    "############## Derivate min_opinions - using above result#####################################\n",
    "def k_derivate_s(v2,k,n,M): \n",
    "        # k - # of selected nodes\n",
    "        # V2 - selection list(k nodes) of minimier\n",
    "         #  take the node index from selection list\n",
    "         #  it's also the column index for these two nodes\n",
    "        # op - n*1 innate opinion array that updated by maximizer\n",
    "        # A - n*n adjacency matrix \n",
    "\n",
    "    # create a parameter array with all 1/n \n",
    "    c =np.array([1/n] * n)   \n",
    "    #c = np.reshape(c, (n,1))\n",
    "\n",
    "    ############## Create left side of '=' matrix\n",
    "    def leftFunction(x,y):\n",
    "        a_i = np.transpose(A[x]-c)@(A[y]-c)\n",
    "        return [a_i]\n",
    "    a = np.concatenate([leftFunction(x,y) for y in v2 for x in v2]) \n",
    "    a = np.reshape(a, (k,k))\n",
    "#     print('a')\n",
    "#     print(a)\n",
    "    ############ Create right side of '=' matrix\n",
    "    def rightFunction(x, M):\n",
    "        Mi = np.dot(M, (A[x]-c))\n",
    "        return -Mi  \n",
    "    b = np.concatenate([rightFunction(x,M) for x in v2])   \n",
    "#     print('b')\n",
    "#     print(b)\n",
    "    result = np.linalg.solve(a, b)\n",
    "#     print(a,b)   \n",
    "    return result\n",
    "\n",
    "\n",
    "# %run Check_Derivation_of_Two_Opinions.ipynb\n",
    "# M_1 = sum_rest(n, s, v2)\n",
    "\n",
    "# print('Testing sample - 3 results should be the same:')\n",
    "# result = k_derivate_s(v2,k,n,M_1)\n",
    "# print('result')\n",
    "# print(result)\n",
    "    \n",
    "# print('check result')\n",
    "# (x,y) = py_pack(A, s, n, v2)\n",
    "# (si,sl) = deriv_sty(A, s, n, v2)"
   ]
  },
  {
   "cell_type": "code",
   "execution_count": 160,
   "metadata": {
    "id": "-6tVGIOjG1kA"
   },
   "outputs": [],
   "source": [
    "# Prepare for multi-processing\n",
    "class Result:\n",
    "    def __init__(self,index,weight_op,payoff_row,mixed_por):\n",
    "        self.weight_op=weight_op\n",
    "        self.payoff_row=payoff_row\n",
    "        self.mixed_por= mixed_por\n",
    "        self.index=index\n",
    "       \n",
    "\n",
    "def identifyMin(min_por, allResult):\n",
    "    min_res = min(allResult,key=itemgetter(3))\n",
    "    if min_res[3] > min_por:\n",
    "        print(\"Min fail\")\n",
    "        sys.exit()\n",
    "    return min_res"
   ]
  },
  {
   "cell_type": "code",
   "execution_count": 134,
   "metadata": {
    "id": "1ys7oMmiAO2x"
   },
   "outputs": [],
   "source": [
    "def min_k_mixed_opinion(s, n, len_nodesets, i_th, max_touched, fla_max_fre):\n",
    "    if i_th >= len_nodesets:# the forloop give n, which we take maximum (n-1)\n",
    "        i_th = len_nodesets - 1\n",
    "    v2 = creat_available_comb(i_th, n,k,max_touched)\n",
    "\n",
    "    weight_op = 0\n",
    "    weight_M = 0\n",
    "    # loop for each max_action(in total 2*n) \n",
    "    k_opinions = creat_all_comb(n, k)\n",
    "    len_kops = len(k_opinions)\n",
    "\n",
    "    for column in range(h):\n",
    "        # print(column)\n",
    "        if fla_max_fre[column] !=0:\n",
    "            if column > k:\n",
    "                nodeset_index = int(column/len_kops)\n",
    "                opset_index = column%len_kops\n",
    "            else:\n",
    "#                 print('less than 1')\n",
    "                nodeset_index = 0\n",
    "                opset_index = column\n",
    "                \n",
    "            # Calculating Max's action at this column\n",
    "            v1 = cgen(nodeset_index,n,k)\n",
    "            max_opinion = k_opinions[opset_index] \n",
    "            op1 = change_k_innate_opinion(s, v1, max_opinion) # change innate opinion by max action\n",
    "            M_rest = sum_rest(n, op1, v2)  #{sum}{j}(s_j(h_j -c))  - rest of terms\n",
    "            weight_M = weight_M + fla_max_fre[column]*M_rest # {sum}{v} p_v * M\n",
    "\n",
    "    k_opinion = k_derivate_s(v2,k,n,weight_M) # give a set of k weighted opinions\n",
    "    (mixed_por, payoff_row) = mixed_K_min_polarization(s, v2, k_opinion,fla_max_fre)\n",
    "\n",
    "    res = (v2,k_opinion,payoff_row,mixed_por)\n",
    "    if any(x < 0 for x in k_opinion):\n",
    "        print('Min_opinion less than 0') # min_opinion should be in the range (0,1)\n",
    "        print(k_opinion)\n",
    "        sys.exit()\n",
    "    \n",
    "   # queue.put(res) ### added\n",
    "  \n",
    "    return(res)    \n",
    " \n",
    "\n"
   ]
  },
  {
   "cell_type": "code",
   "execution_count": 165,
   "metadata": {},
   "outputs": [
    {
     "name": "stdout",
     "output_type": "stream",
     "text": [
      "([48, 49], array([0.514, 0.503]), [1.404182035722917, 1.4080070489902115, 1.398964424973381, 1.3970416252891116, 1.4083225444124583, 1.3878639180114476, 1.402511849459538, 1.3800041411575128, 1.4153502808855247, 1.4058445604326426, 1.410613587775122, 1.3932613163051277, 1.3689210175052815, 1.401394908071464, 1.3683875938088592, 1.3946086519157115, 1.4361976126983804, 1.4292068928283024, 1.4302239898431615, 1.4230064936219986, 1.413420795764745, 1.3985352063358878, 1.4092255592731533, 1.382710621696321, 1.4498833750816407, 1.415140497454882, 1.444322896601442, 1.407967454839349, 1.3992208371150436, 1.3911799205222732, 1.3931892934241836, 1.3842147161768557, 1.4034475613733215, 1.4012350731180434, 1.4033760753109088, 1.3940794448305278, 1.4342231890202768, 1.4395804715300569, 1.4347198722404326, 1.4219020862148488, 1.432611233573634, 1.423725391401946, 1.4305415144584686, 1.4089362090310138, 1.421006199941134, 1.4119397319975584, 1.4188652022370127, 1.3927390905299282, 1.366726763019751, 1.3924974082451014, 1.3691394970895716, 1.3856223863239818, 1.4300153059282998, 1.4509969607446669, 1.432421142781338, 1.4339722368002255, 1.3750588786723195, 1.3424424916851878, 1.3691181680488853, 1.3202988147923098, 1.4261709306469161, 1.4020287570708314, 1.428264784390918, 1.394352623780435, 1.389729972798539, 1.3878083791164462, 1.3835748620135722, 1.3818297173974434, 1.4473640054506272, 1.4289016723234464, 1.4456125044662884, 1.4202825051434411, 1.4329589650426746, 1.4443948473105057, 1.440595744487967, 1.4304352371885987, 1.392959617220408, 1.415727481650848, 1.394861712934214, 1.4076714277459927, 1.3542154301339386, 1.3796454040852808, 1.358721734139857, 1.3732416009387594, 1.426910245386296, 1.4191354761773654, 1.4258666524922206, 1.400549017893393, 1.4160913144894323, 1.4249310928957366, 1.4122832922785227, 1.4180736309174191, 1.3916155624998865, 1.3915847205836518, 1.399948887658831, 1.384206883245287, 1.4390388990843244, 1.4541036863331327, 1.4380169884714507, 1.4424311374625227, 1.4358235587170234, 1.4329193839045202, 1.4417883081486704, 1.4186969039641182, 1.3986829966851504, 1.367184092074931, 1.393544750836956, 1.3510969478034167, 1.3996336828656708, 1.4070035876785032, 1.399789198910659, 1.3994673217013047, 1.3702877446666726, 1.37244376234034, 1.3689742072371498, 1.3662867528919227, 1.4041720015284214, 1.4389007400497806, 1.3992992593978393, 1.4275094002844118, 1.4223448656000923, 1.3923500028280889, 1.4167138855893138, 1.3839558509839969, 1.425966472680697, 1.4426233589005677, 1.4243528842479916, 1.4338273173095324, 1.4316063041118592, 1.4315589610979336, 1.4362126379720608, 1.4207654280318986, 1.3834959323302551, 1.3942309442808862, 1.3876102042031624, 1.3870292033115423, 1.3839792346043605, 1.3898828316182998, 1.3787057475580657, 1.3682984733672126, 1.3847058977724749, 1.4033190361366192, 1.3794758118544084, 1.379340481501073, 1.4546362084050202, 1.417239451181191, 1.4539836872904341, 1.4085069206830234, 1.451768711645418, 1.4423343657547858, 1.4515494998792629, 1.42837509587086, 1.4166851280028312, 1.4138206459631881, 1.412814272188466, 1.3968309818253903, 1.4326943390066846, 1.4356231580239882, 1.4360817363233185, 1.4237983426079697, 1.4337440178732441, 1.4069092179780358, 1.4288695508261506, 1.3966513836930763, 1.4025098330303065, 1.393143531515319, 1.401700141148919, 1.3864614373520119, 1.4401035166323073, 1.4294954435939131, 1.439303477808794, 1.4186903155108928, 1.4171013935398071, 1.424097760970048, 1.4121999612206924, 1.414612206138369, 1.4349374732829001, 1.4219398789931772, 1.4334687018799541, 1.4135392853593265, 1.3761037787009602, 1.377553649355367, 1.3827014234644694, 1.3711269288550991, 1.3839245608397408, 1.4028029763315775, 1.395082822323456, 1.3947347864718342, -10000, -10000, -10000, -10000, -10000, -10000, -10000, -10000, 1.401689010053546, 1.3822596358493309, 1.4058327278677814, 1.3775295759466268, 1.409164915910412, 1.3980855826631102, 1.4118178908532557, 1.4010538434136715, 1.363833689888117, 1.39476920024428, 1.3647315156006492, 1.397686776994529, 1.4277449169882965, 1.4234301047950422, 1.443004791907145, 1.4217756201349725, 1.4069523880698829, 1.3920741626904614, 1.4120190390755023, 1.3830587784315451, 1.4423872028866795, 1.4104982797783225, 1.45219740350807, 1.4006143019463317, 1.3925756450868636, 1.3860409544138625, 1.3965253012070813, 1.379496956464631, 1.39662792941492, 1.3948267572535624, 1.4088559673023604, 1.3959466201483972, 1.4280933306286503, 1.4325271086541909, 1.4367176401817248, 1.4249576993608586, 1.4258885591436443, 1.4178007716144578, 1.435101846406066, 1.4066992285998263, 1.4150093002259272, 1.4039375976606339, 1.4196231865343618, 1.4004309936060189, 1.35882913444784, 1.3861528230844502, 1.3807592741338677, 1.3872150469556108, 1.4249990167798274, 1.4426825404879813, 1.4290026668284046, 1.443744207498392, 1.3686125517229228, 1.3343170692344268, 1.371435159519097, 1.3280250091885497, 1.4198998089795327, 1.3955250591392185, 1.431330323718898, 1.3966098414055825, 1.3830959130952847, 1.383401731807922, 1.3868271992897785, 1.3734943926443122, 1.440947437053274, 1.4224059425337123, 1.448641223725212, 1.4223029625026729, 1.4283550642274658, 1.4368704908081982, 1.4361077734520555, 1.436718485497289, 1.3874415342032598, 1.409034458787952, 1.3939576872269765, 1.4108380429754914, 1.346988672975709, 1.373196912428424, 1.3672737394012064, 1.37547404444005, 1.420999263648938, 1.4113106745265263, 1.4264033839323462, 1.4074425918520679, 1.4095333635516667, 1.4184917500595566, 1.4156242113772337, 1.4201644370848263, 1.3851138591008245, 1.3851204937273587, 1.4055091274727816, 1.3863198508965684, 1.4328120903155264, 1.4473768650810546, 1.440206411706841, 1.4450256406624138, 1.4316325256931284, 1.424932995597845, 1.4347996517269008, 1.4273369489535939, 1.3922230217860196, 1.3606455701232123, 1.3960990505651671, 1.3517950988199336, 1.3930744786407319, 1.4005567898218965, 1.4039569805125638, 1.4014565432417299, 1.3644428991635138, 1.3659746386559495, 1.3691099243483258, 1.3686779467819052, 1.3972998351280552, 1.4341086894128368, 1.404059610505981, 1.4200651309036831, 1.4157333224476574, 1.3865192497457206, 1.4199571937239073, 1.3825525699123657, 1.4195774155053151, 1.4361103970699867, 1.4272665742486192, 1.4359010962151388, 1.4266100978983318, 1.4244551766756937, 1.4331447858137873, 1.4255091135834344, 1.3761055174422785, 1.3878591749349978, 1.3969351511414945, 1.3886961097658572, 1.3775569376934538, 1.3826176075667158, 1.3810354269605007, 1.3716513170644762, 1.3782662587544157, 1.3963132037694714, 1.381904976993014, 1.3808441198040111, 1.4476684291719555, 1.4110085301126998, 1.4601164592731921, 1.4091219601810612, 1.4455551998656535, 1.435532379121398, 1.4538356624579614, 1.4308885881143873, 1.4104898070288376, 1.406054939112909, 1.414249732393282, 1.4037466420089735, 1.4277520928712155, 1.428246570250737, 1.4324800033401373, 1.4297522635540467, 1.4267448363668798, 1.402169727912554, 1.4342923977611832, 1.3891674151646662, 1.394838586708869, 1.386798340610151, 1.411471562632499, 1.3880971888750135, 1.4345183197485099, 1.4222583345669877, 1.4381904458344859, 1.4241273814391382, 1.4107584147625407, 1.417295814125807, 1.4141927067292985, 1.4180514025242872, 1.428663943135838, 1.4153791077707096, 1.4358094641611443, 1.4159444115106972, 1.3711166170982638, 1.371053384281697, 1.3799985060848232, 1.373624818779445, 1.379717243751557, 1.3960841756393405, 1.3892540335126538, 1.3980334165321988, -10000, -10000, -10000, -10000, -10000, -10000, -10000, -10000, 1.4132315058219804, 1.4019221634632058, 1.3920641587307574, 1.3824915396951214, 1.3644969379113132, 1.3991808817594629, 1.3626396177338114, 1.3761417299635255, 1.43316794286825, 1.4269695335554349, 1.4161509241030066, 1.4047782383803782, 1.4111358522855506, 1.395313341119111, 1.391646757612588, 1.3676563785021614, 1.447547531049508, 1.4125108473075842, 1.4267339705916415, 1.391578674105419, 1.3965760641086546, 1.3902527306129753, 1.37710816753453, 1.3590371419158225, 1.4016749104953283, 1.398681555158019, 1.383968104042929, 1.3772992692273216, 1.4326623625338875, 1.4356077833756433, 1.4143272732625531, 1.4103700582124579, 1.4304347205826378, 1.4207203263896946, 1.4128270977053057, 1.3929653496777878, 1.4192059320072894, 1.4074040989762358, 1.3991849191224346, 1.3838213432829218, 1.3630494159421234, 1.3901615204279885, 1.3601098685646023, 1.3677697262052468, 1.4282377772009127, 1.4477094749702821, 1.4135359206637719, 1.4190173734967098, 1.3726396030285377, 1.3382110274910661, 1.3518856443851277, 1.3092124042013933, 1.4246783983444278, 1.3994101455264043, 1.4078386617718825, 1.377805565729925, 1.3871316894467602, 1.3872989986838569, 1.367227785578737, 1.3546830966144614, 1.445722707850631, 1.4260082261911886, 1.4251858659174932, 1.404971630675301, 1.4318362784135303, 1.4412046481730836, 1.4193642846538639, 1.4155912326802103, 1.3893564552344793, 1.4135620711240118, 1.385344755633271, 1.388697363280213, 1.353332449656269, 1.3771652863311017, 1.3356183357173408, 1.3562316712308595, 1.4254191191649328, 1.4143732336345871, 1.4048032352191417, 1.3929300048444822, 1.4120192642437803, 1.4229891637401524, 1.404051825999971, 1.3981810641997505, 1.389176398719652, 1.3891427212973293, 1.385685758303664, 1.3668036493082463, 1.4373664514729287, 1.4508308729614425, 1.417898424829643, 1.428474889958022, 1.4349821440419226, 1.4294094447306642, 1.4187621680063272, 1.405458581483145, 1.396387004088758, 1.363297725952895, 1.375833903158794, 1.3394366964815467, 1.395780425433182, 1.4048743424082062, 1.3912187526688895, 1.3804100446590788, 1.3678912128357266, 1.3700018444426854, 1.3525528527304558, 1.3491282398699824, 1.4016147987187346, 1.4369363909768786, 1.3829966019155722, 1.4068227181702928, 1.4195593987893709, 1.3914233270308625, 1.4014429608765346, 1.3584886764331114, 1.4238694226511832, 1.43997953004976, 1.4063178907039875, 1.4171861810979265, 1.4297052218945476, 1.4288831820215635, 1.4184101394041277, 1.4038889174833087, 1.3800167054170405, 1.3918963760300458, 1.3778946118895896, 1.369104093298759, 1.3815264157114946, 1.3876374226316701, 1.3617811890424973, 1.34702286190566, 1.382282890701084, 1.400510098952044, 1.3624053367375015, 1.3605070902947771, 1.4523727177716443, 1.4147135352823788, 1.437004991063305, 1.3912669323175368, 1.449908876774043, 1.439124481663213, 1.4325640817181673, 1.4136332639941933, 1.4144425533578358, 1.4104273679926453, 1.3950808425722174, 1.3824318943705851, 1.4308526826501993, 1.4328234918838492, 1.4177262371927537, 1.4073573423344812, 1.4309896205081003, 1.4054826752990506, 1.4135893796567613, 1.3734027507096527, 1.4006409794491481, 1.3906437126642746, 1.3826429335181283, 1.3694978146611123, 1.4381347751556217, 1.4266407256755014, 1.4207663191904367, 1.402739618400064, 1.414594874630179, 1.42183049909995, 1.3956286493186494, 1.3958793918340255, 1.433148248556439, 1.4191826988746725, 1.413866122014772, 1.3975654994931024, 1.3733312876965296, 1.3751192672319528, 1.3698187104460136, 1.353875170200915, 1.3834843857405534, 1.4001383302373176, 1.3710183447594493, 1.3783477807909785, -10000, -10000, -10000, -10000, -10000, -10000, -10000, -10000, 1.3720330819508648, 1.4063826053459945, 1.376476876288271, 1.393576320506996, 1.4389028274996631, 1.4347277385303205, 1.4397225164169898, 1.419579315329465, 1.4181931770404055, 1.403439187509977, 1.4093972790168894, 1.3813048860270485, 1.4537174606998837, 1.4216380714781378, 1.4486813470527842, 1.3999815242552862, 1.4040146805213753, 1.3959785577994017, 1.3931088016074227, 1.3840340353250877, 1.4093478591637962, 1.4058448034705677, 1.3987229365343203, 1.394748751516572, 1.4390530996891522, 1.4443131885196163, 1.4350209294721583, 1.421126121062199, 1.437387433376742, 1.4285584708563146, 1.4308737881018208, 1.4079422204317853, 1.426338638201201, 1.4149780397121112, 1.4166417362405401, 1.399602688765201, 1.3721952482804562, 1.3972340499824736, 1.3666738716861893, 1.3857334445622325, 1.4347584236013708, 1.4558566752932496, 1.433279987361451, 1.432668879568645, 1.3798873877130111, 1.3445246751796087, 1.368886379968943, 1.3312986947878709, 1.4312152742205009, 1.4067766067479335, 1.4277166896101074, 1.3943451950769, 1.3942931111565586, 1.3954583032551522, 1.3845415588875085, 1.3686615281675627, 1.4504090319818732, 1.434683171570227, 1.453907045109874, 1.415457880503081, 1.4386125570818071, 1.448701775973199, 1.43771922536857, 1.4319225913333178, 1.3973137035402394, 1.4206266719398437, 1.3974616580969474, 1.4069384349194385, 1.3571146143854662, 1.3844864307263745, 1.3682090341756845, 1.372913638854195, 1.4325607318917577, 1.4218402667116672, 1.4222772009458926, 1.4089928928190305, 1.4213670561032408, 1.4295779251062526, 1.41018007161093, 1.4185978424382308, 1.3972370229820872, 1.396308513980292, 1.3972780086435401, 1.3843347160030803, 1.4444962366980523, 1.4581819946693586, 1.4353147378843498, 1.445158066054251, 1.4412726278527506, 1.4372768409669663, 1.4397092430110456, 1.4199306175132846, 1.403493503642637, 1.371818994925723, 1.3934627070804915, 1.3509026583299477, 1.4055916341584362, 1.411540365694254, 1.3948907957529504, 1.4004391515530206, 1.372639670715123, 1.3772458203483926, 1.3804825737781008, 1.3661580953047718, 1.4084379166440573, 1.445881109207913, 1.4017358383309408, 1.4169569884059996, 1.426655489239412, 1.3992771011284946, 1.4188820042016386, 1.3738987089866583, 1.4304272640442754, 1.447613311078053, 1.4261691847449791, 1.4326162867493815, 1.4366499801831085, 1.436245493103496, 1.4358780772801, 1.4207779270508525, 1.3870333563220383, 1.3991552485551249, 1.3941390049135927, 1.3862526563642068, 1.3887559491564556, 1.3949919122105552, 1.378767277091173, 1.3654700674743272, 1.389505884965093, 1.4080043450897244, 1.3794342965771422, 1.3782540575574909, 1.460086383246857, 1.4217243810765414, 1.451345214803692, 1.409616206752271, 1.4563420790438182, 1.4474205311607573, 1.4529665666740854, 1.426290497300693, 1.4215465713747801, 1.4182948657770367, 1.4126049097203948, 1.3972976496760467, 1.4389892434437388, 1.4395227270603512, 1.429909496879584, 1.427331847371142, 1.4378143624777482, 1.4140550219305472, 1.4322024704407879, 1.3854355826957505, 1.4071511111812345, 1.3979534552378519, 1.4027564431212904, 1.386252736585944, 1.445151855575636, 1.4340681830636535, 1.4384946426628826, 1.4192234623385098, 1.4221857194461198, 1.4281107005494103, 1.4108825836941148, 1.4178219895820132, 1.4398262695238166, 1.4266886683709572, 1.4333351815409228, 1.4134668599679172, 1.3804712384712565, 1.3823576050663606, 1.3856334187245132, 1.3709669781888234, 1.3908247208927316, 1.407362919898259, 1.386787099362983, 1.3955558665524892, -10000, -10000, -10000, -10000, -10000, -10000, -10000, -10000, 1.3837299825612486, 1.3924381749390151, 1.4280135902697206, 1.419170126773964, 1.3709339641167841, 1.3660117111501204, 1.4044748816118504, 1.3859281620802675, 1.4024578111327517, 1.38603828773176, 1.4412094604488095, 1.4040124480509903, 1.3576491591698536, 1.355976297801201, 1.389772428556359, 1.3807978452083924, 1.3642757686426406, 1.3601409322672275, 1.3950130986710532, 1.3914885635302523, 1.3897234982848468, 1.4051576183411523, 1.4265238006167498, 1.426790511150401, 1.3903977324177679, 1.3858674590427715, 1.4240938480333496, 1.4119552753676792, 1.3767832825068793, 1.3822307501928572, 1.4127042556782565, 1.3982787928514906, 1.3206421124777337, 1.3521296161550793, 1.3596240794871495, 1.3827281665789666, 1.3893876109367107, 1.4099342721565082, 1.4222841718326897, 1.4391113044715163, 1.3340545033348574, 1.3163638533736552, 1.3655649468300117, 1.3277276253827401, 1.3863784648996882, 1.3610184595960868, 1.418276327021643, 1.3921599846469368, 1.348255593321218, 1.3550806426692548, 1.380243647291573, 1.3773553192894727, 1.4056593499447287, 1.3885823192893585, 1.4388570157576428, 1.4187494569879153, 1.3874875647216247, 1.4062154344961033, 1.4269162339677908, 1.432841174397966, 1.3539163510775167, 1.374485857977655, 1.3849374431556511, 1.405803077191561, 1.3059283099423369, 1.3390100416122115, 1.3478188107638625, 1.3700088690920034, 1.381250744760445, 1.3901315952950393, 1.4190108153193925, 1.405526427467925, 1.3606086635219565, 1.3886079436151815, 1.4087222979202418, 1.414700955656293, 1.338621392062104, 1.351805222726505, 1.386587856840036, 1.3816390867154256, 1.3946733703879455, 1.4171155735654124, 1.4309954943115795, 1.4429080309004447, 1.3928506263018938, 1.3935379387713043, 1.4291319710729486, 1.4214469330322281, 1.3561589865765737, 1.3432596844157745, 1.3895373001007512, 1.3535322710908426, 1.3575572323661529, 1.3664629474966938, 1.3915820608618596, 1.397111120912035, 1.3263363817742728, 1.3316345166960337, 1.3621336518117335, 1.362880607729779, 1.3628083213176174, 1.4003343692696892, 1.3949504440983427, 1.4279472628161616, 1.3803948799718482, 1.3565164667808705, 1.4130265977289462, 1.381731095153169, 1.3842901796298253, 1.402306754594744, 1.4174860667119527, 1.4324325546318306, 1.381217822485448, 1.3948813873922452, 1.4254727584717104, 1.4205178339705253, 1.3333839682445483, 1.3543722004407308, 1.3772241418871916, 1.3843325198770144, 1.3423720730841948, 1.363078378228316, 1.3746989355734271, 1.3753723840023349, 1.3431452693473716, 1.3770066182209457, 1.3754296438738731, 1.3882339874755498, 1.4012835985500454, 1.382335453763498, 1.4477052740281406, 1.4064405270011928, 1.4046638854546682, 1.4098119406926268, 1.44421372172582, 1.430130826351866, 1.3741043564307909, 1.381416573886526, 1.4078201981566003, 1.400947774232267, 1.3846657295585445, 1.3991036241876151, 1.4260259033114124, 1.4243407184972225, 1.3885361106465108, 1.3803429156043932, 1.4249637564108544, 1.3948223088353071, 1.34544971413329, 1.3539698553756128, 1.3959708505913802, 1.3832788428574898, 1.394620879291991, 1.3927475244885934, 1.4322364681329853, 1.4184598895606604, 1.3753934180849368, 1.3856748021306868, 1.4079131845732165, 1.4135401918922346, 1.3953563072671977, 1.3805225053442927, 1.4262476912759707, 1.411961113184436, 1.3231744441772961, 1.337005356660237, 1.3706930471882428, 1.3679021517879297, 1.347384370528002, 1.3615074892033567, 1.3776177082077983, 1.3928821342788886, -10000, -10000, -10000, -10000, -10000, -10000, -10000, -10000, 1.4365879067540845, 1.4350516135663702, 1.433073904007218, 1.410504695862575, 1.472068529836684, 1.44624675331779, 1.4695208095714551, 1.4312541654226254, 1.4244031628894098, 1.4182181463258567, 1.4176929049095173, 1.4087624513564077, 1.4181608362742584, 1.42842166983017, 1.427118821751744, 1.4187162040104218, 1.4562310869062176, 1.4708798286397795, 1.4555066480132777, 1.452879081377482, 1.4557328561637601, 1.4539687615283852, 1.452836136727223, 1.4381469170058527, 1.4449562913241605, 1.4420792946518577, 1.4409243909915763, 1.4252434336851225, 1.3944878938044976, 1.417696872351523, 1.3865109481202502, 1.4107428856670714, 1.4499144390298546, 1.4834043745729246, 1.4525313883793052, 1.4640812675188082, 1.4002935557263458, 1.381126709029658, 1.393536502845867, 1.3520053058757622, 1.4536805894764728, 1.427037728208044, 1.4459591447557552, 1.4201309217952978, 1.4151887935489076, 1.412504406371108, 1.4080735784806269, 1.4064633706562326, 1.4660422422893442, 1.4580970379656435, 1.4692171590962144, 1.4453015102112567, 1.449878847423415, 1.4746088999957407, 1.4578792388430308, 1.4590435606644692, 1.4080902580599703, 1.4435732663320724, 1.4170019907982105, 1.4327438786772035, 1.372015872531796, 1.4052340405249473, 1.3780106756409163, 1.3978788202263668, 1.4534357730953118, 1.4417938922628195, 1.4462199809646568, 1.4352011070776154, 1.441944937631655, 1.4501941925053934, 1.4349115782791637, 1.4431590367743214, 1.406083555908607, 1.4179199475990103, 1.4175705821677784, 1.4093037580080128, 1.4574676260656991, 1.4870376050505987, 1.4611696511938033, 1.4684049065333378, 1.4537168470034194, 1.4633325307305958, 1.459968010752277, 1.44743011041099, 1.4230390566368665, 1.4029468535371947, 1.4176760286852894, 1.3793469538432275, 1.4137331546955387, 1.4349077965553572, 1.423577746836768, 1.4241356325047823, 1.3937822791649852, 1.3978514039380352, 1.3905807790879505, 1.3908046669271437, 1.4295252648545829, 1.4645026290058756, 1.4228877437712137, 1.455824942887146, 1.4446969473719795, 1.431195253826135, 1.4419058164621887, 1.4054533293444922, 1.444899190310887, 1.4718166430937945, 1.4477672148169813, 1.458977654948118, 1.4605840784870647, 1.4554129558976583, 1.4515412357300015, 1.4492472957377225, 1.3963027730361053, 1.4209341373596467, 1.4089249620108482, 1.4118680979999523, 1.4088358955129512, 1.4249761738487483, 1.4027628267917884, 1.4008405345487203, 1.410029585137515, 1.4302461948162328, 1.403338452385048, 1.4164899519577072, 1.4723264314782063, 1.4462804426691067, 1.4771203686414123, 1.4336633138380925, 1.4779412379009005, 1.4667185777095004, 1.4714168255421043, 1.4590102666698417, 1.4412781474913052, 1.4430848969279673, 1.4359272817146056, 1.4280070351014102, 1.4576691389379832, 1.4612793977959075, 1.4537023070844228, 1.4524150769395678, 1.455168377223791, 1.445227157985885, 1.4538254312551457, 1.419708407082956, 1.4233935596166238, 1.4190029129046096, 1.4238424659766094, 1.4112100132789513, 1.4579083959210024, 1.4615288283042929, 1.462509223004807, 1.4443366831086333, 1.4426233554452117, 1.4491751828586714, 1.4357509728845712, 1.4417028286833566, 1.455776060514747, 1.449547066797927, 1.4561134042168602, 1.4389491164151562, 1.3948297975979649, 1.4031045730727554, 1.400124229686691, 1.3957941840546, 1.3963509254318627, 1.4296493918912343, 1.4113284041541556, 1.4201636903522452, -10000, -10000, -10000, -10000, -10000, -10000, -10000, -10000, 1.452296469805345, 1.4190982259286609, 1.4391549601569484, 1.3948593113776666, 1.4018549070720572, 1.39665646268107, 1.3868470970654303, 1.3635851111312118, 1.406003478793534, 1.4042742404939241, 1.3983731151356682, 1.3855430185163935, 1.4383416193587648, 1.4405547723412289, 1.4220355549136732, 1.4219581857254915, 1.43524875279715, 1.4274014625781488, 1.4248139891965623, 1.3960144198539683, 1.4248060556422808, 1.4122011788905506, 1.4073448263516504, 1.3960981707580835, 1.3686115223706974, 1.395560429122935, 1.3678710705286035, 1.3770120630710285, 1.4332277368191852, 1.453658334527253, 1.4245477534089415, 1.425741049338654, 1.3780501040608037, 1.34372540169033, 1.36101395992009, 1.318107766226357, 1.4297437531133341, 1.4048864740757656, 1.4185490458878511, 1.3866357253587127, 1.3926620207808746, 1.3912471670528557, 1.3757308110770428, 1.3714932724562856, 1.449809560351738, 1.432167613081118, 1.4408905624109483, 1.410384700109005, 1.4370096445378693, 1.4467517158953203, 1.4293871165010381, 1.4242074855054734, 1.3947017947557505, 1.4189896747391262, 1.3942210548738454, 1.3978820684292972, 1.3583340461296385, 1.3825871665819178, 1.3466759436547273, 1.3653095686194656, 1.4307771638329294, 1.4199162145842998, 1.4141877182868599, 1.401423081823817, 1.417317524276213, 1.428435763356693, 1.4132984234804586, 1.4072693348933965, 1.3974192034248314, 1.3943127897580434, 1.3801320814385925, 1.3771824274753623, 1.441984518230148, 1.4571000530041909, 1.4309240719345726, 1.433387248680305, 1.4398827118948976, 1.4351624517195476, 1.4302708782363303, 1.4129932772042202, 1.4016541314748143, 1.3701430057017767, 1.385668449997144, 1.341535315907607, 1.4037259782769174, 1.4097251061390135, 1.3871804681973106, 1.3924501832631255, 1.3730893339316244, 1.375414304242914, 1.362551189645138, 1.3582509296856382, 1.4073930299334545, 1.440832511556235, 1.390222325349765, 1.4238056745311827, 1.4253119441860036, 1.395332959911052, 1.4087791796317788, 1.3755014972133601, 1.4295810807670466, 1.4452155610507194, 1.4138380441344758, 1.4272524928439538, 1.434488877010117, 1.4345668188143184, 1.4303309014265784, 1.411804567136691, 1.3855854582415288, 1.3972919466458733, 1.38559462451882, 1.378376815352565, 1.3870487822844877, 1.3910828885538777, 1.3703183710461266, 1.3666087370814717, 1.3876745288994883, 1.4063161125207737, 1.3715973177167387, 1.3683305131277583, 1.45789892074951, 1.4200713305974926, 1.4453724531724967, 1.4007500657382401, 1.454266287710622, 1.4459279546118462, 1.4468131715381178, 1.4159959288897743, 1.4196637409009967, 1.4167495896718205, 1.4051028971906305, 1.3872744878946421, 1.4352396492115664, 1.438846450929735, 1.431683155888183, 1.4136014352119208, 1.4365231541498482, 1.4104991073990474, 1.4219903213281155, 1.3848809190148215, 1.4032750203057178, 1.3963369164370216, 1.4054865775839134, 1.3772334488537865, 1.4439467064018001, 1.4317032086923365, 1.4277814122424364, 1.4137072809667566, 1.4193517301627865, 1.4290076722989429, 1.4079466906073943, 1.396399090374696, 1.4380287845034059, 1.4248512660325487, 1.4255798453520583, 1.4054398949820075, 1.3791133377354465, 1.380522779742413, 1.3765056277904466, 1.3630551133049966, 1.387877150047081, 1.4056635852934116, 1.3849236996724603, 1.386940978614166, -10000, -10000, -10000, -10000, -10000, -10000, -10000, -10000, 1.438067979670442, 1.4327386506125062, 1.4039603736229993, 1.3906077801753647, 1.4381295928399445, 1.4411517695515172, 1.4187823817460719, 1.4034726223345155, 1.472811412307026, 1.4797549605285558, 1.4429361100316591, 1.4356963551375252, 1.4721709535017462, 1.462060378152752, 1.4382196665144549, 1.4246589625286856, 1.4591490528390796, 1.454452142149195, 1.4290891193374509, 1.403089802816202, 1.4001867548767883, 1.4321541699558735, 1.3855661777571902, 1.3953470115610267, 1.4688441030396988, 1.4905959606515145, 1.4393292708202887, 1.4484853613130255, 1.4142489296849352, 1.3798258117678464, 1.3792391527348222, 1.341104903975945, 1.466817852918795, 1.4409207946668787, 1.4320924537085231, 1.405803378504055, 1.4286004586519312, 1.430644694704456, 1.3943615923652883, 1.3855014643678145, 1.486186971135588, 1.468263760626384, 1.4544503928384278, 1.4313350039813235, 1.4742278581201258, 1.4823702475760125, 1.4407611941506002, 1.446412719528002, 1.4273178098898844, 1.456039560448433, 1.4099311662283225, 1.4167791039225368, 1.3893500785443678, 1.4189122207939664, 1.3712117724443678, 1.3834402464222024, 1.4653909382335728, 1.4599798283103118, 1.434984735050742, 1.4135745163523037, 1.449850645420356, 1.4657569087373363, 1.4310511722585864, 1.4257167962934933, 1.4262133305475042, 1.4311425292327808, 1.4116241865007726, 1.394339151586983, 1.479127516077046, 1.4922764315963908, 1.444273358785162, 1.4570026999727332, 1.4729714724377077, 1.4734350559058718, 1.450034404515417, 1.4302905036727847, 1.4373922859850232, 1.4108933538642263, 1.4041478876215923, 1.357887524722876, 1.4338753910632795, 1.4472619036103003, 1.4158716263395523, 1.4084303649407126, 1.4040601814422216, 1.41162827419224, 1.386567154839422, 1.3765174253248993, 1.4435429782555942, 1.477227227171667, 1.4086062922126315, 1.441678464431029, 1.4615837892639354, 1.4312032832021873, 1.4266051923839913, 1.3958068476929975, 1.462051399795407, 1.483597819247063, 1.4379830926851813, 1.4421018878644363, 1.4714250707810277, 1.4704447736919737, 1.4403490689641094, 1.4336665078962394, 1.4237912838444293, 1.4332820248811768, 1.391128579777809, 1.3979788663905512, 1.423310737089126, 1.4261361622770228, 1.3882678106661392, 1.3908503985759575, 1.4237075506511965, 1.4457332567857455, 1.389602835082603, 1.3920712698713475, 1.4916762927799623, 1.4574111325532986, 1.4654761766407405, 1.4181759211165321, 1.4912004580246498, 1.4811533595802038, 1.4586002486360807, 1.4428562826617024, 1.4555856911095049, 1.4542638734131026, 1.4224930327122451, 1.4098306565833947, 1.4732389510904618, 1.4739695865686826, 1.4394936344612073, 1.438132173170219, 1.4712107937843522, 1.451600301888167, 1.4415545372446736, 1.3990093119453109, 1.439838834209604, 1.432497419458333, 1.4127527926943986, 1.3966341446969697, 1.479762931317074, 1.4682337417942075, 1.446218614395769, 1.4318583699241434, 1.4558352502360448, 1.464434586312764, 1.4226501915953291, 1.424335985641017, 1.4735080861664622, 1.4613960534132455, 1.4426236109447523, 1.4243240055438156, 1.4135887937326885, 1.4167588870973669, 1.3900574565464812, 1.381445367287364, 1.4194222984187188, 1.4423792202983186, 1.4038577419482547, 1.4051530908734473, -10000, -10000, -10000, -10000, -10000, -10000, -10000, -10000, 1.3917776219634281, 1.3896626853321803, 1.3942315702071109, 1.3796576877651556, 1.4237386941187695, 1.4260793280765327, 1.4170954819123298, 1.4151133649210164, 1.421517045755957, 1.411093938912257, 1.415817992372948, 1.3975140402293238, 1.4099314526022573, 1.398683543033957, 1.4039508573127413, 1.3831451443374507, 1.3555459621283972, 1.380876305535166, 1.3579408192771858, 1.371744302089005, 1.4201540808453788, 1.4372142145806506, 1.4113725027779986, 1.4297043698216703, 1.3635085101179762, 1.3279944018654106, 1.3553123375138505, 1.317707796518298, 1.4151832826250461, 1.3903308775661642, 1.4154201834097155, 1.3805329112202755, 1.3781221894013145, 1.3764867025568241, 1.3700597244775379, 1.366293213056534, 1.4359784834966725, 1.417202009236484, 1.4332670239453904, 1.4058704877580768, 1.423130051003056, 1.4318113702585795, 1.4226653166339391, 1.4191878649719365, 1.3827618610957673, 1.4038107022931183, 1.3760004759294835, 1.3952409730602644, 1.3427701256213056, 1.3680555874892546, 1.3508410352220854, 1.359432701497101, 1.4156850501819265, 1.4066675830604751, 1.4127795680794704, 1.3854679160619978, 1.4031048802778554, 1.4137740164804802, 1.4105617444946428, 1.4007446609236145, 1.3828386528795857, 1.3797584931714222, 1.3746166318575324, 1.3715363561073683, 1.4281504808251393, 1.4417634283181435, 1.4224310901827004, 1.4308378163110602, 1.4263218615078332, 1.4199416346440537, 1.420342700854548, 1.4102224359111006, 1.3871375611858738, 1.3551923432808919, 1.380217453596257, 1.334068317933531, 1.387309508417301, 1.3955806103793522, 1.3956718093341596, 1.3836863489584992, 1.3573573128615526, 1.3608616236237823, 1.368436765526061, 1.3525790576259702, 1.3925836570472818, 1.4273226530741863, 1.3864626172136334, 1.4104100096559247, 1.4105867708806834, 1.3815207738538262, 1.4046568356370919, 1.3631939113499314, 1.4147953196319203, 1.4307936557639678, 1.4104965353113046, 1.4202719582501198, 1.4205278383548314, 1.419752811490682, 1.4256591444418698, 1.4057515523460957, 1.3735360996722377, 1.3824765162851345, 1.3683944383376616, 1.3739360594002497, 1.3724329071589647, 1.3775848260564523, 1.3652982539224185, 1.350024578935575, 1.3732074384234976, 1.3900134289328956, 1.365739039925369, 1.3670468958378152, 1.4430428417037675, 1.4056564164826013, 1.4438947246431073, 1.3931519217413046, 1.4401914926960087, 1.430735969704593, 1.4416183261104187, 1.409778120128696, 1.4053182760387917, 1.4011858617683817, 1.3989684516557328, 1.3840205312461986, 1.4223292714805442, 1.423308483248088, 1.4194226866221626, 1.4119163565330495, 1.4219597684427843, 1.3959655552265438, 1.4174934741192682, 1.3755464009065943, 1.3899991596539558, 1.3816508273303971, 1.3983543927463127, 1.3717492518187446, 1.4292905677775183, 1.4172339481487763, 1.4232969772537576, 1.4070663901768055, 1.4054866140402171, 1.4125880525669279, 1.3995421295517636, 1.398226520790415, 1.4232646541907892, 1.410395326804059, 1.4234483517407286, 1.3981103316810948, 1.3666883485463148, 1.3659187647277915, 1.3610186087615874, 1.357639570639015, 1.3746691055714586, 1.3909570939170166, 1.3751352222048487, 1.3817675664858402, -10000, -10000, -10000, -10000, -10000, -10000, -10000, -10000, 1.4248018504321853, 1.4389706914789149, 1.4264740130745213, 1.4262431626023044, 1.425853600221952, 1.4187006169465022, 1.423835940494973, 1.4117797731006245, 1.4138134536915952, 1.4089678468105116, 1.4122874247696307, 1.3986520976337657, 1.3590335496625952, 1.3864222782933928, 1.3591229791066235, 1.3825197439023955, 1.4243887344299702, 1.444060393416808, 1.4220648374059202, 1.4388642580296012, 1.3688838881499557, 1.33402340682421, 1.3653095111278375, 1.3293979276971344, 1.4124805629802009, 1.3972207575503401, 1.419496425772823, 1.3916580353270676, 1.3831125552041845, 1.3867241512263986, 1.380005927736228, 1.3772002750662058, 1.4325063385521133, 1.4275822951698585, 1.4400134673837162, 1.4177347660428956, 1.4256984541608015, 1.438792085338215, 1.4264661613778893, 1.43273364816445, 1.3762503639560508, 1.4120247519285023, 1.3867458233500722, 1.4050861319108274, 1.3349608602550915, 1.3737635819607694, 1.3490165458905619, 1.369742188469583, 1.421262543649832, 1.41157753742768, 1.4181820137594532, 1.4067528094544828, 1.4010070449604322, 1.4214513087634655, 1.4083128186755225, 1.4145239916380181, 1.3833428393054563, 1.3855585998239386, 1.385449561750073, 1.3814849847657487, 1.4314638810978715, 1.449383059321829, 1.4306374339477146, 1.4428131902342207, 1.4275177256659852, 1.4281201658246223, 1.4291266075851858, 1.4210644558645071, 1.3923891359660219, 1.3618830387651781, 1.389135237401552, 1.3549906245887726, 1.386338645292183, 1.4023710892209205, 1.3924541279540277, 1.396635237616174, 1.3540666772970795, 1.3662722781114625, 1.3632640882277631, 1.3626448178266541, 1.395741007116492, 1.4419139162510843, 1.3950412728272408, 1.4263824177658697, 1.4143577100792446, 1.3940129344450525, 1.4129682772739518, 1.3807360264943527, 1.4198698852325986, 1.4363582198131974, 1.4171841001725152, 1.432242316760877, 1.4148789954146648, 1.4299109062007278, 1.42600803220225, 1.4199544516018707, 1.3772808221255037, 1.388029357082642, 1.3760307063620882, 1.3842003964021687, 1.377030804052791, 1.3969382660673766, 1.3745101543588627, 1.374380758782535, 1.3777483133347312, 1.4118801738568587, 1.3752481765004303, 1.387023233135542, 1.444703400360708, 1.4127969030582186, 1.446712152745798, 1.4065684275288761, 1.4402170477958776, 1.4431914383506252, 1.4442131436430885, 1.4295944725316352, 1.4088827353586115, 1.4152581133107178, 1.4076763509459878, 1.4002974479862442, 1.4265574403904568, 1.4293809709969465, 1.425051415727354, 1.4245522692529906, 1.4268257695685682, 1.4030295997849842, 1.4243602748527056, 1.3957987073621334, 1.3868066696594419, 1.3879031513378353, 1.3955138087505183, 1.3830701646144474, 1.4270960204593632, 1.4292327888602614, 1.4326595111968916, 1.4176569505663665, 1.4085637352628726, 1.4241883891368414, 1.4079819790595054, 1.4124991526502864, 1.423240379500046, 1.4183926082716023, 1.4271231678118816, 1.4111945302671955, 1.3630901695281952, 1.3715030700949316, 1.370336360756903, 1.3676734248729985, 1.3741409628100296, 1.3969988233943296, 1.3786507159798282, 1.392509808581934, -10000, -10000, -10000, -10000, -10000, -10000, -10000, -10000, 1.4561936110109888, 1.4507457233239642, 1.463200595643964, 1.441581536246994, 1.445372393435887, 1.4376569806907447, 1.4501955733655303, 1.4297162511319372, 1.3900823230509092, 1.4172942220937295, 1.4000921319080795, 1.4184229292047796, 1.455022572204038, 1.4752672193968335, 1.4605066794687376, 1.4724442737835268, 1.3997212008202, 1.368774076917063, 1.4017145845495893, 1.3575875758220777, 1.4528008461373192, 1.426349121913458, 1.4536766903656912, 1.4283565626549133, 1.4141262054502004, 1.4160327422274483, 1.4167341622794403, 1.4082538143366778, 1.4734010196599634, 1.4528207453651671, 1.4738567985702358, 1.4554257410910991, 1.457041147782668, 1.4694188134722317, 1.467837515598659, 1.4661610812085302, 1.4177492570921868, 1.4403851649976194, 1.423561508030878, 1.4412672174331198, 1.3749457485289711, 1.4044256770772074, 1.3932553980724558, 1.4058500615372254, 1.4520217718676485, 1.4427726403654741, 1.4553875100229061, 1.4408531191256684, 1.440501796913578, 1.4496977105194255, 1.4443179147997705, 1.4509184196070934, 1.4189746124677138, 1.416039281929133, 1.4211697065634932, 1.4178378255921988, 1.4618779173347036, 1.4807786756200931, 1.4714768433278975, 1.4742160542688973, 1.4581401819499278, 1.459181904746698, 1.4728818257955276, 1.4523935797219685, 1.422806360341097, 1.39741313011398, 1.4267017093325425, 1.3787744577501986, 1.4207047415659644, 1.4324864045251364, 1.435769632138475, 1.4313856088966905, 1.3922727998668503, 1.397135258561292, 1.4040547415080127, 1.398933834744263, 1.4291501939846727, 1.4623630129487633, 1.430846276031199, 1.4647455835720808, 1.4458869877510367, 1.4220626255874782, 1.4511118335806548, 1.4089256240831407, 1.4468886241098322, 1.4695107624233308, 1.4614211423388346, 1.4638950856060648, 1.4549192843437815, 1.456834950502666, 1.4662112826573797, 1.4545695902345988, 1.403271286107676, 1.419421143241486, 1.4239871206595007, 1.4192992328008955, 1.4084484305012346, 1.4183687268603644, 1.4113250977695757, 1.4015813675303452, 1.4095189994437636, 1.4254579855812208, 1.4114771845572625, 1.4247750704787403, 1.4782229551524528, 1.4424398851447182, 1.4859710349609885, 1.441476536675161, 1.4757335417121968, 1.4679653941957087, 1.4826767539762118, 1.463045829359619, 1.4405299538604732, 1.4425075275577344, 1.445861336735852, 1.4276113940877835, 1.4555618132376404, 1.4613889491550163, 1.4674258094658332, 1.457234617927247, 1.4574981177741295, 1.434609014789406, 1.4625446003338405, 1.4259924161867752, 1.4240586528966381, 1.4181441073925212, 1.437302647131912, 1.4188174715599833, 1.4637592700752415, 1.4550752816721224, 1.4712400369662055, 1.4519718841262579, 1.440799016664836, 1.4514370291012928, 1.4459857926244875, 1.4442178515393431, 1.4599628697717282, 1.4464574566541188, 1.463338486981362, 1.4475400117251473, 1.397560485047242, 1.4023088318591537, 1.4149927088964591, 1.4037897313757954, 1.4070982459255612, 1.4276540856916613, 1.42225310830315, 1.4280001282527595, -10000, -10000, -10000, -10000, -10000, -10000, -10000, -10000, 1.4442483756185764, 1.4323285166941435, 1.4332291069793768, 1.4198797332801334, 1.3862961677479047, 1.4153278027580773, 1.3895094501824152, 1.402724817989096, 1.4542587640145586, 1.4714431311678076, 1.4428684188336853, 1.4601342143250942, 1.3976081953016215, 1.3668982515114643, 1.3864495693909848, 1.3399620729188884, 1.4485122106102735, 1.4246449095317142, 1.4428742011099942, 1.4122254521230362, 1.4120856658044045, 1.4130643049579161, 1.4014018486714983, 1.3934285544636538, 1.4677392170635994, 1.4527147544330745, 1.4659110610798667, 1.4359849792988957, 1.457512423720801, 1.4658441582940909, 1.4483249551203548, 1.4532600940544844, 1.414350902645487, 1.438581669362474, 1.4115639594416516, 1.425188386647748, 1.3719697849141217, 1.4023369149664053, 1.3821215812647747, 1.3904534024493547, 1.4501255639816273, 1.4401405810067467, 1.4398554658647027, 1.4261390539561851, 1.437094596805458, 1.44798535687449, 1.4320579270193654, 1.4346937592865654, 1.4105366239202135, 1.4144695228389756, 1.4193642656011738, 1.4013917720894313, 1.4608609667448345, 1.4774878256207387, 1.4549558445339281, 1.4602467986522325, 1.4577174929461898, 1.4559456062032048, 1.4558234335580338, 1.438276685598396, 1.421507742668629, 1.3872623703899076, 1.4099752908060208, 1.3776709587849865, 1.4198188394920193, 1.430105290023139, 1.4197404171456345, 1.4162540054079054, 1.387851636789622, 1.3950324345679224, 1.3950701693079994, 1.383619753779446, 1.4262557549175419, 1.4634972964900497, 1.417198756783053, 1.442639752034526, 1.445065916259958, 1.4142702795303403, 1.4335586462996055, 1.403589110096621, 1.4479101643048942, 1.4655651924152466, 1.4412664544069793, 1.4514495428689196, 1.4527820851531887, 1.4547366349618933, 1.4523076681555325, 1.438673392272669, 1.4059412272847076, 1.4168171272612176, 1.4012031686940716, 1.404778871712212, 1.4066550280718655, 1.4106276625282814, 1.395505843111374, 1.3956216796700005, 1.4072175465607843, 1.4270919274536926, 1.3966073800966712, 1.401176332514586, 1.4768106453179461, 1.4400005296850684, 1.4700288305122091, 1.4264879724595132, 1.4749208042275848, 1.464142989004292, 1.465347959542746, 1.4504368160414713, 1.4390949792468002, 1.437172866399676, 1.4296267874284925, 1.4168081314608203, 1.4551444768924142, 1.4582694086182897, 1.449950636562369, 1.4432408745072918, 1.4549412797071173, 1.4339498587325825, 1.4486521999525446, 1.4061453632562408, 1.4200136943798916, 1.416230070697431, 1.427725180963671, 1.4029439748571892, 1.4600897331123268, 1.454326585709964, 1.460053413859728, 1.4330916912868408, 1.438174764257591, 1.4507129759976316, 1.4322563122635594, 1.4247054821926632, 1.4565437015123732, 1.444980139402274, 1.4510418542163088, 1.4307967859023907, 1.4014351414779163, 1.4000649652539652, 1.3891879257001634, 1.3887304000924006, 1.4090193722386097, 1.4250951693463856, 1.4002758197060448, 1.4134499247458328, -10000, -10000, -10000, -10000, -10000, -10000, -10000, -10000, 1.3747734344684943, 1.4037006961481964, 1.3818727782610938, 1.3896540068909728, 1.442650248980377, 1.4598110822152737, 1.430179682564659, 1.4475520227826366, 1.3860433003239638, 1.3509863993463205, 1.3737030640024077, 1.3356431837032465, 1.4352485728364566, 1.4133324469969835, 1.4376880010200015, 1.3981946648566732, 1.4004803309648126, 1.4012783444818402, 1.3889606987357377, 1.378308444031335, 1.4560792383832035, 1.441119083320363, 1.4568816308281138, 1.4213047971184996, 1.4448485278501266, 1.454818216702975, 1.4398852493536316, 1.4382340131865232, 1.402098580804521, 1.4271135394704797, 1.4041178421964418, 1.4113101297674544, 1.363171567045144, 1.3906486678716785, 1.36812558140058, 1.3778448439145667, 1.4381290421149049, 1.4294435385770197, 1.4288421907719093, 1.4095219180056267, 1.4236675474168106, 1.4369208830583013, 1.4276246559150039, 1.4195351126114917, 1.405229873244684, 1.40231170339819, 1.3934887866259638, 1.38987984016415, 1.4484947758488524, 1.4666762242072648, 1.4467428868335288, 1.4428207776542825, 1.4472285369379012, 1.4435725775000279, 1.4429477707175828, 1.4257908675102695, 1.409586186281151, 1.3786428843100955, 1.398256422936733, 1.3558829780822004, 1.410860402793928, 1.417897347992076, 1.4025321243631805, 1.4046232401526053, 1.3793575225724983, 1.3834037823089842, 1.3790105991144923, 1.3709885894470761, 1.4147036977416045, 1.4516020863595707, 1.4051776922104602, 1.4274301285997142, 1.4328004509465337, 1.4055018244933901, 1.4229714774555853, 1.381889467384285, 1.4354873813790263, 1.4544175192073874, 1.432968538853757, 1.4362615791061417, 1.4430517850212625, 1.4423004282072682, 1.4374741210964244, 1.4269800472353475, 1.3944548433545598, 1.405184568772515, 1.39054467343542, 1.3919320483267437, 1.3949672323271187, 1.4002345108397163, 1.3831639278577341, 1.377645911533675, 1.3957298187701044, 1.4129077059449244, 1.3838092567804816, 1.3915911614103518, 1.4660798647701148, 1.4279625400175182, 1.4561578638511534, 1.414426165236673, 1.46407369566479, 1.4515054714074322, 1.4508376265222998, 1.440261150768712, 1.4273794909630673, 1.4260155133670924, 1.4179890209377737, 1.399370106474873, 1.4456752400364943, 1.4453685780883796, 1.4325418415808562, 1.4334418335385704, 1.4437139935437853, 1.4210593337561757, 1.4365817138986319, 1.3916479473940688, 1.4138477826438556, 1.4040587654366976, 1.404246439793385, 1.3913999894792966, 1.450376954283983, 1.4410437731919976, 1.4453226355109736, 1.422273367820622, 1.427289890242579, 1.437115622535921, 1.4192035299779677, 1.4131712438535389, 1.4453326528252788, 1.4331641564180113, 1.4392058027246475, 1.4177654379251188, 1.389888036864938, 1.3884444928989315, 1.375985889148987, 1.3761010583378157, 1.395693352738335, 1.4136663856246507, 1.3941593402552739, 1.4000814843766878, -10000, -10000, -10000, -10000, -10000, -10000, -10000, -10000, 1.3814071406760382, 1.4164067685728627, 1.4138714837245276, 1.4295573868839382, 1.3324206508035297, 1.3156488614764812, 1.3566446468067235, 1.3192560857953166, 1.3796344754073733, 1.3603501122289026, 1.409783821775931, 1.3831666003515146, 1.347258166846559, 1.3457411016496836, 1.3712563001331142, 1.3693372197452018, 1.3957317126233617, 1.3916460793966394, 1.4306033159192983, 1.4094617438185328, 1.390056676302309, 1.4022147929279356, 1.4174284145111464, 1.4242516059364538, 1.3508438483856873, 1.3732084732049414, 1.3761532482817052, 1.3968572871386191, 1.3045313805925236, 1.3373820509298922, 1.3386064220451719, 1.3611014625150815, 1.3845319666315459, 1.3765396666891534, 1.409505657474675, 1.3980528946764212, 1.369122487240894, 1.3838776888484052, 1.398497615458124, 1.4061878636232836, 1.3477258663346976, 1.349266875653986, 1.3763164090211706, 1.3728402002855902, 1.3879636717740107, 1.4209884379473425, 1.4223842084674918, 1.4336655211668874, 1.3901220309186162, 1.3926537970894568, 1.4201805724572742, 1.412556680701201, 1.356483781872508, 1.3223417832619133, 1.3804002369370953, 1.3468206914723178, 1.3493285219078126, 1.3663032670301138, 1.3831611051424093, 1.3880870614531777, 1.3232439996923797, 1.3300166757097416, 1.353226104396851, 1.3539658571428128, 1.3613448961955004, 1.3980541931622832, 1.3859989989858608, 1.419184403521105, 1.3761623465070376, 1.366400151687538, 1.4042996459496782, 1.371988587645133, 1.3840336289297495, 1.3998837268816628, 1.4084036014243155, 1.4236161414786042, 1.3859596028830832, 1.390504619477644, 1.4156723736250374, 1.4119864025184121, 1.3423377966788395, 1.351656826955836, 1.367073644423708, 1.3755454935851987, 1.341521560604863, 1.3477289958015901, 1.365690126754628, 1.368130654920341, 1.3421726916601178, 1.3626715381553196, 1.3664324085181179, 1.3809332607790357, 1.4084500878547686, 1.3765651821760334, 1.4376403592161102, 1.3980686152402448, 1.4071318410617875, 1.4027905544791666, 1.4347313987798471, 1.4219652700690322, 1.3734849053785236, 1.3750032581330085, 1.3987552192855994, 1.3927507305354072, 1.3824269806325002, 1.3978487227185403, 1.416899544245902, 1.4155521994923144, 1.3884521464064024, 1.3737242774560376, 1.4157818822878627, 1.3867751343568708, 1.3609252794428937, 1.3506152173723784, 1.3850865105465453, 1.3745636555623721, 1.3915119162841265, 1.3924227566417051, 1.4232827320769272, 1.4095792139467382, 1.3718434108606137, 1.3892481192815676, 1.3991306715583685, 1.4042690770964656, 1.3842638064804964, 1.3834773139197214, 1.4181542063430586, 1.4026494458483254, 1.3226465853932101, 1.3353584402605883, 1.3612588167204331, 1.3589990386906936, 1.3270400867121297, 1.3619696436355082, 1.3703343308225846, 1.383785762134455, -10000, -10000, -10000, -10000, -10000, -10000, -10000, -10000, 1.3959297777269093, 1.3612844185983952, 1.4131717075385173, 1.3759899018589872, 1.4476649467356613, 1.4227536899170004, 1.467035229555336, 1.4395617673193677, 1.410218915765899, 1.4130590546777446, 1.4282345098263296, 1.4203282010424245, 1.465126630135793, 1.4514870076476016, 1.4912825007982904, 1.4636499849491167, 1.4530506421333587, 1.4656683743135512, 1.4780542134569576, 1.4784571549002183, 1.4135414801821464, 1.4366359733044236, 1.4349006524908519, 1.452859168459207, 1.3721251698419552, 1.4005633265799378, 1.400707535772527, 1.4174940491456494, 1.4462974629855956, 1.4435412473075062, 1.4690726601920265, 1.4471685152564326, 1.4333419661957412, 1.4468790547809613, 1.4597543181162673, 1.4612681556858107, 1.410642814396928, 1.4125856937250543, 1.4383733332298245, 1.4288978874416194, 1.45736931219402, 1.4776664408313676, 1.482556386995111, 1.4862604261328207, 1.457851460310988, 1.4529760336405495, 1.4777159443449817, 1.4684150236807039, 1.4192671291873435, 1.3906217746769902, 1.4375149760261312, 1.3975523722303826, 1.4182177694831166, 1.4283500637213828, 1.4433476728633239, 1.443806967646387, 1.389103564608791, 1.3932958252558052, 1.413058555761297, 1.4104851430359937, 1.423466999486528, 1.4661604851515908, 1.444762425872479, 1.4664745972803772, 1.4418442077424123, 1.4191309252671123, 1.462340591045249, 1.4218558351551995, 1.44442509893245, 1.4648681932195275, 1.4690596760814576, 1.4777271559132945, 1.4549697865128979, 1.4513150189813673, 1.471198922385549, 1.4689501453534062, 1.406520689862041, 1.4148514725911494, 1.4233027143303245, 1.4321061804699013, 1.4046464780361172, 1.4139020803598314, 1.4226457306110523, 1.4170853252630713, 1.4052489208564172, 1.4300858223604225, 1.4235496975658248, 1.425967099484304, 1.470140392581114, 1.440606023333809, 1.5019149798350888, 1.4509430898943076, 1.4694099932814928, 1.4674096125200995, 1.4965177380400467, 1.471556533189913, 1.4367248472044658, 1.4385162149966058, 1.4567694125274824, 1.4421892171237332, 1.4544752901101887, 1.4559111187998204, 1.4737640222202624, 1.471882134778716, 1.4548776500956375, 1.4268198904277234, 1.4719927607432275, 1.4443398972245558, 1.4154019713627841, 1.4147950120372284, 1.453044877440003, 1.4299354412249803, 1.4592967476868908, 1.4517837001453222, 1.482620367017284, 1.4636575563583019, 1.4366472530514107, 1.4484472153504282, 1.4573597668897627, 1.456217778491111, 1.4516958955129948, 1.444761131777386, 1.480259242517023, 1.4564842588362212, 1.4001896748588778, 1.398326912214698, 1.415655188286007, 1.415576361774363, 1.404404487028398, 1.4236894113015204, 1.4300791582758237, 1.439957391037689, -10000, -10000, -10000, -10000, -10000, -10000, -10000, -10000, 1.3918759018573708, 1.3660306329739182, 1.3692268189489414, 1.3278268016410093, 1.353989002715684, 1.3522048001667866, 1.31885023540354, 1.3087587991669447, 1.412341258975915, 1.392771546743646, 1.3881928937984032, 1.350457852072202, 1.399818041796994, 1.4071948011161486, 1.370863025149609, 1.3675719650341898, 1.3586752418848729, 1.3796526406415097, 1.3321706315959148, 1.341688759544252, 1.3203195776413286, 1.3438695968147396, 1.3032316594888624, 1.3076491216739048, 1.3921341119564625, 1.3810748313287045, 1.3591894237845912, 1.3384388335207382, 1.3807399441338641, 1.3890841202031932, 1.3509119212755953, 1.3515038273402964, 1.358546689803742, 1.355626769782368, 1.334676935563279, 1.3188502660925319, 1.4042222739154766, 1.4173856420281732, 1.3748777060737556, 1.374693186053566, 1.402425978095113, 1.3956314804999224, 1.3680053957914158, 1.3589755319008847, 1.3631425593698565, 1.3295683115827954, 1.3277482752441698, 1.2901716064281556, 1.3649973707848955, 1.3710305966300687, 1.3395356227138824, 1.3329889214356867, 1.3353379233418674, 1.3367106409782505, 1.3121623043446822, 1.300910061291022, 1.3686362582422287, 1.402363782240033, 1.3370141906567914, 1.3494824608416711, 1.3867000370079277, 1.356240881717163, 1.3520111197021474, 1.3157528649776449, 1.3910319840426557, 1.406426017130849, 1.3619311717754614, 1.3667610434114243, 1.3979419344412616, 1.394934023643197, 1.3637741114691597, 1.3584832793968888, 1.3497634179439337, 1.3582937821134404, 1.3133921844524763, 1.3225956534864163, 1.3484148849752269, 1.3511944357496022, 1.3128324411952113, 1.3122550279986624, 1.349144844006712, 1.364270214881108, 1.3139753856120782, 1.3169339974226508, 1.4198187880567696, 1.381077775054776, 1.3963124459253864, 1.3395330894051074, 1.417130909928669, 1.4051611977493734, 1.3859315074757221, 1.363378920805322, 1.3813665004716786, 1.3761217868205846, 1.3479191872605072, 1.3293082942385257, 1.39874057703874, 1.3988327938857519, 1.3688262636263577, 1.3595847669397334, 1.398247757216477, 1.3704172795331295, 1.3634188099575075, 1.3316287218897, 1.3676363136620282, 1.3573260168869008, 1.3461913210132557, 1.3201144778600327, 1.4053965200021468, 1.3928711331056263, 1.370690741472335, 1.3561886434991142, 1.3815869474493467, 1.387784234589502, 1.3478011354847015, 1.3466984688115962, 1.40009395545035, 1.385780403979301, 1.3659301232562289, 1.3492471758225515, 1.342760762058064, 1.3417695898819306, 1.3138388409988568, 1.3058555071205065, 1.3513047497089274, 1.36672591826566, 1.3354262736409097, 1.328750892593111, -10000, -10000, -10000, -10000, -10000, -10000, -10000, -10000, 1.4065309062293112, 1.4064758428229485, 1.3806553602203349, 1.3784266755572099, 1.454330274532209, 1.4514705676682045, 1.4411354021063416, 1.4181852090041525, 1.45353147842371, 1.4592750598645154, 1.4263572357659804, 1.4338811116465318, 1.3996961361359663, 1.4350964878465517, 1.3876150312213646, 1.4057367811239816, 1.3593332286748796, 1.396876992359804, 1.3497719988194168, 1.3704333047044468, 1.4398258039870626, 1.4459015227404866, 1.4197363359749622, 1.4053422182508495, 1.4230838796946954, 1.4449220260188922, 1.4093843117014073, 1.4151005012082245, 1.3944632990276489, 1.4097288156621237, 1.3884761695196333, 1.3819783645913084, 1.451199149357401, 1.4762084459749678, 1.4320106887977588, 1.4427706657812889, 1.448372119051588, 1.4527917549013243, 1.4303316431938464, 1.4214151314559857, 1.414304656368357, 1.3971962122053452, 1.3900621984222197, 1.3533615717176, 1.4040115448191965, 1.4267260556369972, 1.3943263540512476, 1.3970667183219774, 1.3721512843996195, 1.3894317526427156, 1.365110570639867, 1.3633338656509584, 1.4212226038422033, 1.4553872717428429, 1.3953461350526295, 1.4286790897133936, 1.4377685721266773, 1.4159785369399636, 1.41364749531374, 1.3814879469842374, 1.4443111370508253, 1.4587412867753509, 1.417649933547986, 1.4330679266590403, 1.4413487872463477, 1.451615036858911, 1.4263243682787428, 1.4208099790149333, 1.387392421673892, 1.4125196935573954, 1.3791897567004117, 1.3846381856070291, 1.4008789033347684, 1.4075546710033495, 1.3750892167253044, 1.3770934928531127, 1.4016874613238377, 1.4194620049283087, 1.3758106164788741, 1.3902632635067564, 1.4652891481521573, 1.437147698908242, 1.4479738456010796, 1.406992540606846, 1.4652193152108024, 1.463881849762545, 1.4446849367576897, 1.4305786577394173, 1.4336571233716895, 1.430612321631836, 1.4081045831188506, 1.4022531721382316, 1.4402890774802715, 1.4581375806964072, 1.4275318557764882, 1.4241787626700875, 1.4465612275194564, 1.4372412439379083, 1.4257063959444563, 1.3943692630861295, 1.4066852288523772, 1.4113775685106287, 1.3970179888873775, 1.3836806105492327, 1.4554226201831897, 1.447851886091477, 1.4325379258920892, 1.4190604177093866, 1.4315340215676653, 1.4477992810590048, 1.4087566256047932, 1.412970820033435, 1.452466912787839, 1.4385961361842554, 1.4268061461488644, 1.4123752103408627, 1.389446248381105, 1.3945748798762112, 1.3706096853068708, 1.3683754610958583, 1.3926134336072216, 1.4206625711709067, 1.3803474418108082, 1.393090670882862, -10000, -10000, -10000, -10000, -10000, -10000, -10000, -10000, 1.4265384289004528, 1.4076449605184316, 1.432345627806546, 1.4014159671691115, 1.413804586509631, 1.4221890716005707, 1.4216264456958947, 1.4147929306295797, 1.3730486376763233, 1.3943430612520409, 1.376113270756765, 1.391277330802785, 1.3342334579092445, 1.3585166802426478, 1.34499178423721, 1.3563182887754932, 1.406410228021983, 1.3965668529251065, 1.4097060063336442, 1.3820278798097765, 1.3950770497882927, 1.4038032455070324, 1.398075292448021, 1.4004179612746084, 1.3733431404173375, 1.3702419952355385, 1.3711979024685625, 1.3683766676631883, 1.418128576231262, 1.4327963102931736, 1.4269568755109847, 1.4193338050561004, 1.416554981598508, 1.4105950071392463, 1.4215696885048308, 1.404100876857235, 1.3777545652826297, 1.3443709649271232, 1.3761612701755501, 1.3395698151399427, 1.3796238189947334, 1.3856607501954943, 1.3794837806711766, 1.3833865128624854, 1.34965334789027, 1.351341106224196, 1.3540434039297302, 1.3494341028868737, 1.3830702790880376, 1.4178017294404954, 1.3844776844414886, 1.4022866346492608, 1.4010773332997295, 1.37198207995504, 1.402733604253633, 1.354473305612132, 1.40573508718274, 1.4210123477125702, 1.4039688692172514, 1.4190540036108692, 1.4122346692893784, 1.4097092436744962, 1.4151059387544782, 1.4057624509071194, 1.3632185863820563, 1.3730446150499733, 1.3769037182534802, 1.369548040540773, 1.363033883142724, 1.3660103447300294, 1.3613160805197175, 1.3611080550267503, 1.3637690477528717, 1.3790029467340077, 1.3620502060685782, 1.373819305377804, 1.433683562508927, 1.3960681510758364, 1.4440336446585076, 1.388405500952335, 1.4313329772613903, 1.4203548265799473, 1.435906313583323, 1.4099399846106322, 1.3957826104883229, 1.391770455743666, 1.3971265925211376, 1.3744484146567144, 1.4124486206096374, 1.4140117884033336, 1.423828664140608, 1.4042122463428655, 1.4126913722415502, 1.3856503617735894, 1.413439280339929, 1.3752050532579048, 1.3820016481124853, 1.3719822594369822, 1.3860123550816907, 1.369497382077147, 1.4194609711316124, 1.407993865707037, 1.425289996852663, 1.3993704127238176, 1.3958516081340973, 1.4033970944575138, 1.3991608906776403, 1.387502195356436, 1.4140723137795992, 1.4007245995292794, 1.421140232640648, 1.3945088187952137, 1.3559371073094972, 1.356431560884078, 1.3745781952776026, 1.3540852400411056, 1.364616062578772, 1.3815021726929277, 1.3836172934315591, 1.3772889701454922, -10000, -10000, -10000, -10000, -10000, -10000, -10000, -10000, 1.4634280371250243, 1.4857077471783366, 1.458638173194705, 1.457398753918425, 1.4292094748743605, 1.453385723765003, 1.4136359656253312, 1.4325858505709737, 1.393580257868392, 1.4169842898594718, 1.3739247961312144, 1.3971855938517208, 1.4644582293102273, 1.456131320299761, 1.445959813876312, 1.4331705673905009, 1.4496825509964046, 1.4634825669684037, 1.436534194905023, 1.4416493489239453, 1.4234522167347774, 1.4294461952057027, 1.4167345842945243, 1.4085343224649312, 1.47442511323864, 1.4936530415297287, 1.4593148284887847, 1.4687970255263365, 1.4674126108669152, 1.4741770994497023, 1.4603631892521474, 1.445874620857012, 1.4356344866745592, 1.4088923078540274, 1.4168259982277498, 1.3793190214059612, 1.4366030752518575, 1.444483691391636, 1.4193737715449197, 1.4241202790114522, 1.4058049931704861, 1.4098371399931797, 1.3904011999289263, 1.3900281317560077, 1.4415603014863836, 1.4762850409855708, 1.4221491401844113, 1.4549010858948077, 1.4588783200303017, 1.4335025303702134, 1.4405741493043003, 1.4071340751975716, 1.4613781068012368, 1.4811689970725246, 1.4460484252143537, 1.4587563541670878, 1.4616450083997183, 1.4721269211421697, 1.456608302524606, 1.445944422312878, 1.4102106055496324, 1.4327213753568397, 1.4102241243672093, 1.4108791205468936, 1.4209052890792138, 1.4354764304873973, 1.4020955288406771, 1.3981564776031892, 1.4222004870782268, 1.43861210150065, 1.402514572945809, 1.416677876978956, 1.4837444531438706, 1.4585342743834184, 1.4785666276298866, 1.4318405013367137, 1.4911012785556306, 1.4771546098959716, 1.47006161203122, 1.459001855365415, 1.453723806058839, 1.4528744443312331, 1.4351637138969013, 1.427179324342999, 1.46555150306558, 1.4757124216002664, 1.4557359523538143, 1.4499656258273692, 1.47020362904769, 1.447310116984311, 1.4522446453057285, 1.4215515817483533, 1.4311424270914852, 1.4314180119905822, 1.4266609209381977, 1.4100713228757258, 1.4751551581328033, 1.4689221009475555, 1.4606355889682632, 1.444521364373188, 1.4511778160647235, 1.4704103724056306, 1.436938548026151, 1.435638906573781, 1.469105485099527, 1.4608835163744767, 1.4557651059721857, 1.437968361467543, 1.4048856389971196, 1.4151335756125234, 1.4024195139985303, 1.394950874357888, 1.4121185844123172, 1.441214155010821, 1.4119565882387277, 1.4192328164626353, -10000, -10000, -10000, -10000, -10000, -10000, -10000, -10000, 1.4120619455817174, 1.4418890349426485, 1.4306909472803475, 1.446424214573843, 1.3663842336774072, 1.4047608295717662, 1.3966729123911286, 1.4114383146683187, 1.451299246742928, 1.4449546029416669, 1.4607459304250296, 1.4468230646437197, 1.438913523208078, 1.4503435310554473, 1.449975003165033, 1.4564174784112989, 1.406913345526209, 1.4172010728773352, 1.4334619386826637, 1.422797107449464, 1.4587600351950298, 1.4843995484779504, 1.4755296258346378, 1.4813545362842766, 1.4607422763910787, 1.457647855309693, 1.471490685717284, 1.4625533423537274, 1.4232676005978808, 1.394168920875128, 1.4311620761967343, 1.3949705969271098, 1.4224249060085477, 1.4322540195387332, 1.4347406908558424, 1.4383753946766817, 1.3899722241801282, 1.3972644183950702, 1.4067105544608483, 1.4044789952622034, 1.426783897573831, 1.4727749180483038, 1.4378511210923368, 1.4642068769376504, 1.446756924725725, 1.4188851789734667, 1.4547719497770863, 1.422731898234795, 1.4459874033371685, 1.470231824296548, 1.462107109553363, 1.4722740352503276, 1.4541703428737733, 1.4573332703885695, 1.4681961845589635, 1.4616426457139768, 1.4066667839035578, 1.4192043984585379, 1.419591831276346, 1.4258616675021794, 1.4087047438719535, 1.4160943132605195, 1.4163372260539315, 1.41643582222436, 1.4089709734230893, 1.4386782610019084, 1.417338332255603, 1.4239534621408492, 1.4756966907847175, 1.4438110757677394, 1.4904793901679732, 1.4474977291460003, 1.471751469993238, 1.4735033980784729, 1.488355186748316, 1.4683941597398769, 1.4407514827361563, 1.4421516678879513, 1.4498438006705037, 1.4405687964759686, 1.4515956725720665, 1.463948291568336, 1.4709915493187284, 1.4639458361126607, 1.4561691477404295, 1.4394412200901507, 1.4675285797949074, 1.4333216975085425, 1.4152595034487452, 1.41916943888845, 1.443020577219807, 1.4243351961016015, 1.4641528012295255, 1.4549594499819283, 1.474206040631995, 1.4597516600732257, 1.4412929374708707, 1.450554945130236, 1.4498755272786006, 1.4541918941740573, 1.456880056823279, 1.4481278395124706, 1.4700318603184668, 1.4525168173954746, 1.400836969358202, 1.402359870055987, 1.4120687013376665, 1.4095150244122006, 1.410632520824152, 1.4273956714367602, 1.4201564166878704, 1.4343861536115092, -10000, -10000, -10000, -10000, -10000, -10000, -10000, -10000, 1.3370096666417561, 1.3633597409364024, 1.3615149548919931, 1.3841045837606547, 1.4067032802549142, 1.4123454167854224, 1.4335904558493704, 1.418407908684787, 1.3898566954967766, 1.411666949818731, 1.4235416619393813, 1.4285622639220081, 1.3750394266577415, 1.375299884768204, 1.399684786829127, 1.3958096699844253, 1.418166081447572, 1.4427271690736947, 1.445882766804216, 1.4561287422803388, 1.4204320002745068, 1.4160001184941085, 1.4430417955646095, 1.435650725676608, 1.3819607634560829, 1.3549834971486394, 1.4035501417754288, 1.3683445423744833, 1.3751433080300755, 1.3925076372588658, 1.4076212947666507, 1.4107647842923465, 1.3505974417523676, 1.3561466025000328, 1.376780148961093, 1.3769649754722397, 1.386414599559672, 1.4285890295275587, 1.4093492706405812, 1.4407399791852016, 1.4033846769356921, 1.3877350615314001, 1.427626168729582, 1.3935537683892543, 1.410248783064456, 1.4259697574840406, 1.4314414519631649, 1.4465953053611618, 1.4132271646955656, 1.4161476698973687, 1.4392090821725303, 1.434755343112884, 1.3645764810610042, 1.3781930804028257, 1.391109055242122, 1.3984394348142923, 1.3676608929077783, 1.3737634021585285, 1.3887177741415448, 1.3906549876429604, 1.367935295421744, 1.3960655431946742, 1.3895624862550333, 1.4014061770278183, 1.4371241726085056, 1.4015000467773007, 1.4607690917465042, 1.4210091134296836, 1.4292792500300564, 1.4341858904194018, 1.4591901454985754, 1.4430418346953906, 1.3988086032023381, 1.4050062616232597, 1.4221314693181033, 1.41395845626572, 1.4146898290832015, 1.4203272923194632, 1.4399150928339384, 1.4385442846097016, 1.4172469333328648, 1.391216323547178, 1.4386209648569457, 1.4103013244250562, 1.3876539011138074, 1.376688696652091, 1.4079729007558754, 1.3975761020205613, 1.416059694134253, 1.419940993610996, 1.4477552727059937, 1.4312953338912857, 1.3987702866730012, 1.4132439781881883, 1.4224082891708174, 1.4265238999754648, 1.4172543836972482, 1.4062968827372693, 1.4409149386243472, 1.4257663549861583, 1.351920084106235, 1.3614219878048714, 1.385566277206241, 1.3819706760951056, 1.3561784530452798, 1.3877688377556616, 1.3953305680852361, 1.4065644347296429, -10000, -10000, -10000, -10000, -10000, -10000, -10000, -10000, 1.371146450996831, 1.3675603164623915, 1.3967200080140731, 1.3853536217917477, 1.3624583929591878, 1.3701044925068235, 1.3852989274283014, 1.393561652350931, 1.3382976243057558, 1.3369333261550294, 1.3632298668344158, 1.360107488215725, 1.3792647918098733, 1.40520411354597, 1.4089516146956493, 1.421630926930388, 1.3821815497080132, 1.3777691876219196, 1.4069748171355028, 1.40009328886904, 1.342811958497381, 1.3257626686417043, 1.3676811308925587, 1.3336495031325608, 1.3388288839210507, 1.3538428089590449, 1.369805894386682, 1.37545818554119, 1.295550752881562, 1.3179604881072535, 1.3405105075417096, 1.3412051696453098, 1.3490550879670213, 1.386713605257901, 1.3732043849177056, 1.4065647659387421, 1.3636659426814244, 1.3560205968930645, 1.3913140794916476, 1.360220001323694, 1.3649066209723768, 1.3918945036443293, 1.3957931520356595, 1.4107676189231424, 1.3674312028798745, 1.3811795563811782, 1.402746508130012, 1.3992974028140708, 1.323230561924913, 1.3402754250704552, 1.3544421172490517, 1.3627716142252368, 1.3289197099779426, 1.3444593199285295, 1.3529305139182455, 1.355353500799481, 1.3299391794683104, 1.3530805201464304, 1.3536586057478703, 1.368432027453594, 1.3861041393168225, 1.3692932732361274, 1.4248377997624342, 1.3853278958669657, 1.3884068881593095, 1.399423273755282, 1.4219292993167558, 1.409259568997125, 1.3594495446809323, 1.372118785002823, 1.3859688600729445, 1.3801134790182785, 1.3733367521402342, 1.3839458241024865, 1.4034736483604249, 1.4031884430481014, 1.3747914959807217, 1.3666712415285236, 1.4028704022814276, 1.3745047416260177, 1.3408709174270537, 1.3393155667796783, 1.3725106191309187, 1.3617844014366947, 1.3869375311110996, 1.3737438139788631, 1.4098978146168362, 1.397363719541215, 1.3613590693024158, 1.3727746294136214, 1.3861434547307734, 1.39211952113269, 1.372216004297701, 1.3713446704848766, 1.4048338216975087, 1.39015949084959, 1.3051799096728702, 1.3233733180523766, 1.347805975256119, 1.3462539702295626, 1.3326197798144053, 1.3478955293222323, 1.3560511170879894, 1.3711947579518928, -10000, -10000, -10000, -10000, -10000, -10000, -10000, -10000, 1.4341744696227108, 1.4416919681493097, 1.4210712965876695, 1.431102128108888, 1.4089050844184494, 1.4086372328078185, 1.4066412075338968, 1.396696364670352, 1.4544506552795249, 1.4729673461803965, 1.4524002417707291, 1.4519262780500877, 1.451794371805784, 1.450724966594483, 1.4524862476280218, 1.4316217207356103, 1.4160050393021413, 1.3817691894010302, 1.4046324231441139, 1.372502100164555, 1.41651707527702, 1.4241163196370366, 1.4101892016635353, 1.411862435055983, 1.3874464617410918, 1.3895146451831866, 1.379190125410208, 1.3783258813520272, 1.4203520900572162, 1.4596575323656757, 1.4130861671025903, 1.4322901378510209, 1.439130090098418, 1.410681643832347, 1.4292755583668377, 1.39366065394354, 1.4399397863712513, 1.4615102391783115, 1.4424438016693224, 1.4423103144648683, 1.4481118873157521, 1.448874888503961, 1.4460564561037716, 1.4337464940459055, 1.401050601904081, 1.4112521361236954, 1.3950567240299945, 1.399536643090485, 1.4010589301726328, 1.4068021510260684, 1.3904298929554562, 1.3858319234866598, 1.401702754933368, 1.4218436419644396, 1.391387743504051, 1.3937508053743664, 1.4708132616720067, 1.434732569362804, 1.466376210211921, 1.4203708920608278, 1.4682977808743733, 1.4601210276726033, 1.4629388493370554, 1.4412586686816269, 1.4342882909925436, 1.4283506353342927, 1.4227947726866068, 1.418670430699211, 1.4489997545441489, 1.4531509757255954, 1.4468190323292713, 1.4366047520617937, 1.450788539590327, 1.4240668728171313, 1.4405470140339607, 1.4098408429869398, 1.4208381687433254, 1.4100873241259602, 1.4088937488366662, 1.3989851964281494, 1.454994938607979, 1.4484694279951928, 1.454883131237363, 1.4276280385051496, 1.4338892501004579, 1.441932556341995, 1.4245128818997654, 1.4258922942359726, 1.4489671757290312, 1.4404810910306978, 1.451373875924644, 1.4227346806468248, 1.3895767603472926, 1.3947052541768636, 1.3992861613968044, 1.383058608482302, 1.3992366229375108, 1.420070001168285, 1.4056636410852685, 1.406929966797644, -10000, -10000, -10000, -10000, -10000, -10000, -10000, -10000, 1.39412798305314, 1.3975739135817378, 1.4102321388133423, 1.4051510416785673, 1.4415488371464265, 1.4632822571598871, 1.4552837992430372, 1.4656030186314148, 1.4402307955331617, 1.4395083964489723, 1.4532585204682094, 1.4445660340482074, 1.4032061076468922, 1.3847171722464493, 1.4132667713924738, 1.3750023883323643, 1.4052247756665737, 1.4127468617628152, 1.4152324804703653, 1.4206051316274415, 1.365235793255648, 1.378193164981852, 1.3887771886040996, 1.3863931992654093, 1.4075090607653802, 1.454454898742138, 1.4191867536826983, 1.4485166104460894, 1.4252412212498848, 1.4104942210917235, 1.4373024538073977, 1.4019318236055798, 1.4218101214663148, 1.4541252929796684, 1.4441052315053766, 1.4541398075392333, 1.4375803904086908, 1.4371628166881592, 1.4482163780962698, 1.4443772258378405, 1.384480594420444, 1.4004355248882439, 1.4015109949869342, 1.4077758839554393, 1.3893576112261603, 1.4015967618159006, 1.3982664857699103, 1.3980912335130673, 1.3897728421750597, 1.4217253720605543, 1.3990996413141767, 1.4088683703997806, 1.4502810449269408, 1.427707950302614, 1.4730796451706007, 1.429088860253359, 1.4566039474901713, 1.4492121642845905, 1.4675042283869124, 1.4539592218692812, 1.4215107565720215, 1.4237877628384596, 1.4314975531449545, 1.423729815866218, 1.4362342943115243, 1.442636372355202, 1.4497416093746769, 1.4477477813655324, 1.4354761218594454, 1.4255615427211057, 1.4492504168555747, 1.4158626319258092, 1.4023452943033692, 1.3994549418859283, 1.419628553592088, 1.406787496478204, 1.4389824128320714, 1.4411793929819599, 1.4575179709756723, 1.440446592284584, 1.4228180942794686, 1.4298107135133034, 1.431379264552069, 1.437214272465851, 1.438400061578679, 1.4287445767455986, 1.4507769664410648, 1.4349967983252445, 1.3696851275430106, 1.3835406346884387, 1.3970184901208769, 1.3913618454234447, 1.3811501901329775, 1.4094639949779915, 1.4048784723538112, 1.4159882439260318, -10000, -10000, -10000, -10000, -10000, -10000, -10000, -10000, 1.4240787931762635, 1.4361408322060256, 1.420510456173364, 1.4335879783970369, 1.4120413527324298, 1.4214406611491743, 1.4195201802316881, 1.4113128718034718, 1.3806101257066152, 1.3673216515312392, 1.3795531907817278, 1.3441929315357897, 1.3781262880209741, 1.391730086816415, 1.3819123066187595, 1.3871295973271165, 1.3431307084536166, 1.3560738455592745, 1.3527392863513334, 1.3529539404916153, 1.386166220568284, 1.42912413605736, 1.3850923979276872, 1.4177452994214317, 1.4021914498519332, 1.3924768783949024, 1.4032889054052262, 1.3709803510238618, 1.397919333389399, 1.4330443460091327, 1.4084308062268662, 1.421997769607058, 1.4099281418943663, 1.417438115253446, 1.4148371125178232, 1.410900380905405, 1.3557760600786342, 1.3789967567709551, 1.3671389467672335, 1.3744240678469055, 1.3677678705446186, 1.370060994128125, 1.3646619967101308, 1.3674378406464593, 1.3681150399209776, 1.390578798088664, 1.3654302052701963, 1.3797650338800558, 1.4354510132157248, 1.4021486074217782, 1.4365463341571925, 1.3970978612598075, 1.4337254746163577, 1.4280949591109764, 1.4336726132738198, 1.4210190184157232, 1.3989691581929131, 1.4036857481511218, 1.3977918354330652, 1.3915164615069884, 1.4158877940603851, 1.4194598782488093, 1.415252411278265, 1.4149217195861685, 1.4128274823989608, 1.4051613727521879, 1.4149125817294546, 1.3853070355706207, 1.3836859684243454, 1.3769851404683118, 1.384355997656607, 1.373525035116041, 1.4206145787681865, 1.4157852499919348, 1.4220085011381176, 1.4087993578244118, 1.3989574992029759, 1.4123851789968742, 1.3980275387218821, 1.4035090915508281, 1.4121735121054044, 1.4086105096049613, 1.4169812168132205, 1.4017178133914905, 1.3426690989563645, 1.3615308410454874, 1.3607578885613363, 1.3579773731158213, 1.3632674995333587, 1.3868729941328581, 1.3684484050997838, 1.3828729843051155, -10000, -10000, -10000, -10000, -10000, -10000, -10000, -10000, 1.4661314905921117, 1.4613865950662634, 1.481720712690441, 1.4726544766589797, 1.4270672752564102, 1.404511030502024, 1.442175358903327, 1.3965959680970164, 1.4234461158356577, 1.437401414616399, 1.4502019152883099, 1.4473527121311165, 1.3949703918539613, 1.4016619388438731, 1.4193228439634984, 1.4146240215112758, 1.4332182411227965, 1.4687573656419581, 1.447056501184145, 1.4782780217628468, 1.4510670783243036, 1.4236779811546596, 1.4652732503027894, 1.4313480032631767, 1.45379814317845, 1.4726317455353166, 1.471478819589543, 1.4828845369689456, 1.4612053903460676, 1.4605920018966412, 1.4777207117529427, 1.4720672476080032, 1.4072412686816016, 1.4239990520393495, 1.4357349583467398, 1.4353953599667104, 1.41278776502129, 1.4261196621091243, 1.4269587128388546, 1.4182527991840097, 1.4135957413968843, 1.4386689321509416, 1.4276150634434268, 1.4316804428874852, 1.4850687028628689, 1.4458637063791793, 1.4977271399792202, 1.4590214251781084, 1.478659807056029, 1.4745912263061145, 1.4988600461108823, 1.4780821068747243, 1.4451741173612218, 1.4464400590695654, 1.46057607878778, 1.4479532571177522, 1.4578425483280097, 1.467245916034115, 1.4831244967457036, 1.4729176320432922, 1.4627098266087502, 1.4368868219017148, 1.4767147033975356, 1.4466134610923937, 1.4286281639984704, 1.422660160620411, 1.4501975145712447, 1.4347894003030945, 1.4695034798763449, 1.4585284105043754, 1.484250240603732, 1.4699991285261564, 1.4437537139059602, 1.460179901339843, 1.4625602473813735, 1.4575196188294877, 1.4579670106613283, 1.4541282685748906, 1.4856956053533843, 1.4600058530033668, 1.4041954131411745, 1.4067825389480157, 1.424650527576079, 1.419613442512596, 1.4171726556784374, 1.4315567044502162, 1.4287425565324654, 1.4447133143370854, -10000, -10000, -10000, -10000, -10000, -10000, -10000, -10000, 1.4259272561126841, 1.3955240505478297, 1.4195972902463376, 1.3838236630324867, 1.4272556208416072, 1.4342868991539208, 1.4220091171526346, 1.4271157435254458, 1.391103340483859, 1.3998089046741922, 1.3967306484930293, 1.3929476695382292, 1.4307352634900439, 1.4694776123297983, 1.4256267526353459, 1.4555669860343972, 1.4474917339613262, 1.429383452684186, 1.444499601175894, 1.405676780871925, 1.4475372765910863, 1.4733522804197916, 1.4518082064482065, 1.4600280370375023, 1.4600419454514644, 1.4584315181461656, 1.4548790515280041, 1.450891124521899, 1.4108686080462822, 1.4215727512177696, 1.407318910981819, 1.414412319758511, 1.411416606748765, 1.4155795447157775, 1.4047208667132196, 1.4065075734422454, 1.4118421548949374, 1.4347412425062918, 1.4056625553370947, 1.4153474567381419, 1.4781735893885284, 1.446380965317925, 1.479476378970896, 1.4357242001177277, 1.4775466974681986, 1.471746976703134, 1.4752536203373796, 1.4589466387162215, 1.4432953091452978, 1.444673820986759, 1.4384328037956418, 1.4284906850436756, 1.454791641462084, 1.4660972142033106, 1.4598031321601335, 1.452217742790543, 1.4613383539174345, 1.4334432196724367, 1.4545100192977718, 1.4266407189669508, 1.424177006545246, 1.4210634179483002, 1.428547410227047, 1.4131072407852034, 1.4673330709070862, 1.4569406579329867, 1.4624316011476932, 1.4484416338248767, 1.4437231191161368, 1.4533912365137374, 1.4385078380282903, 1.4422373814905654, 1.4584438679707108, 1.4511397805882575, 1.4595341622176958, 1.4404930820450752, 1.3970763921601868, 1.4050408141580826, 1.4050021805656951, 1.3978888258172095, 1.4047863354279615, 1.4308695206866233, 1.4143728967614972, 1.4222202158181383, -10000, -10000, -10000, -10000, -10000, -10000, -10000, -10000, 1.3875469429967087, 1.395082874903573, 1.3687395050084301, 1.358178253297511, 1.3584520131768067, 1.360492591637554, 1.3337958327745691, 1.3268405684979372, 1.3922781407411673, 1.4267143749948834, 1.3607201220304808, 1.3845453618142705, 1.4101131189952238, 1.3816376512454442, 1.3806357098466455, 1.3297344326411116, 1.4136382607270888, 1.4308937530272063, 1.3937193126763237, 1.3892369708088217, 1.4209152279168982, 1.4190629599610056, 1.3963061142113566, 1.381537557744374, 1.372710620851598, 1.3821596937117024, 1.3480876795603058, 1.3476056062750736, 1.3721999088467045, 1.3748825804522173, 1.3385439062432185, 1.341828743333885, 1.372830029674223, 1.3899022101889518, 1.3403191147671885, 1.3345052889160276, 1.4437116178065696, 1.4048043291389998, 1.4105152606987716, 1.3709785925213596, 1.4408702554534365, 1.4289945468462946, 1.4083062495066683, 1.3939715869808675, 1.405210702908274, 1.3995943445611476, 1.3711983178546627, 1.3678258259744231, 1.4213092278018018, 1.4233349850232349, 1.4016905568924019, 1.381358801541667, 1.4219710640675371, 1.3943808204979313, 1.3890904023820392, 1.35834308067614, 1.3906451202163683, 1.3811839986358634, 1.367371903781124, 1.346511426745356, 1.4283679397055016, 1.4173567424708748, 1.4037064008644315, 1.3759089552367543, 1.4049593343242026, 1.4126624632300255, 1.3760481998248584, 1.3663351125500962, 1.4225295051517135, 1.4102100310222578, 1.40378725226775, 1.3693931801316825, 1.3660181031043421, 1.365561138413102, 1.3390208359315605, 1.331789036725377, 1.3736880787692956, 1.3906612827234812, 1.3579922694339404, 1.355041117612633, -10000, -10000, -10000, -10000, -10000, -10000, -10000, -10000, 1.3586367551807883, 1.3624763434477205, 1.367708332452461, 1.3683433708753472, 1.3931008732014976, 1.4334714895593348, 1.4006204447216908, 1.4325546451302666, 1.411326103923752, 1.3869888245793833, 1.4186019645168182, 1.3866993540264585, 1.4153438049571343, 1.4330316622540995, 1.4230882382626806, 1.4378141611420443, 1.4216531039782556, 1.4215778589842718, 1.4300543416735396, 1.4263624568251938, 1.365501364579902, 1.3850872358062571, 1.383607844902341, 1.389700500479004, 1.3741412232864116, 1.3775155038580755, 1.38005963903769, 1.3826565945041547, 1.3745727355745796, 1.3964858192006155, 1.380861943427073, 1.394299860654492, 1.4426609255629468, 1.408211883396254, 1.4522853031125842, 1.412320399748432, 1.4410685283081315, 1.433321935398098, 1.449238194196107, 1.4361729024278858, 1.4043852981573712, 1.4149638110000438, 1.4136431399277247, 1.4046921343765537, 1.422607914931942, 1.4257183202927508, 1.4308829118177313, 1.4301652896168373, 1.4199180966133198, 1.4094499195670933, 1.430802019942278, 1.399067122654161, 1.3850471875913928, 1.3839296641932723, 1.4013366834421523, 1.3887518107227566, 1.4283409140790617, 1.4210853102387153, 1.437670548740655, 1.4239483458071625, 1.406073171620322, 1.4169703233386728, 1.413533535025174, 1.418579468368107, 1.4201307832127914, 1.4143036755582532, 1.433019998009482, 1.4167914404348765, 1.3655229735588028, 1.3675945717986762, 1.3751628446262314, 1.3733874727643633, 1.362789283676356, 1.3940732111217857, 1.386401751775848, 1.3979754750625932, -10000, -10000, -10000, -10000, -10000, -10000, -10000, -10000, 1.3640204385480146, 1.4015629225429616, 1.3660330399561644, 1.3994838316709597, 1.3830413076666206, 1.3514229815602938, 1.38405562383259, 1.3535278696787, 1.3785545074566188, 1.4075962202039973, 1.3884847851184017, 1.4037045059526094, 1.3842700658859954, 1.3953017153669756, 1.3953353651976979, 1.3922550589622595, 1.3353617762813954, 1.355508723517694, 1.3471316900455954, 1.3556340634026205, 1.3437018529057048, 1.3622582546399844, 1.3457626440995472, 1.348450982208702, 1.3447482542649762, 1.3706384067617072, 1.346496756056334, 1.361436881193749, 1.4109689051056318, 1.3795534647215857, 1.4173299100644468, 1.378341289020437, 1.4042043978629308, 1.4132378428929246, 1.4145589788406132, 1.4023916894995034, 1.3750209578041888, 1.3840587307259817, 1.3787459647147668, 1.3732900515837807, 1.383082873194645, 1.4019876716114594, 1.3961932039396054, 1.3961102613209588, 1.3908402655230168, 1.3780222452975126, 1.395613338260198, 1.367686535381103, 1.3508997708457435, 1.354756152438179, 1.3651978051367788, 1.3546467746318251, 1.4010085055365393, 1.3894476089520795, 1.402754180391732, 1.3902011532493415, 1.3734597135013806, 1.3953783298364661, 1.3789677745674274, 1.3850249124582623, 1.3908868182992218, 1.3844855138184275, 1.3974734557249606, 1.383105617909345, 1.3363516852411326, 1.3379532298998313, 1.3401967895733509, 1.339110410696919, 1.3354469726491822, 1.364187305995204, 1.348932821216157, 1.364037068829599, -10000, -10000, -10000, -10000, -10000, -10000, -10000, -10000, 1.4157619052218795, 1.3867009829635393, 1.45062172768087, 1.414009382407825, 1.4187010908473239, 1.436714283804044, 1.4610707773851987, 1.4649577469125126, 1.4272123476471508, 1.4242760593353656, 1.4610342732125718, 1.4575845305153647, 1.3774921716158937, 1.3877786612640177, 1.419091848557924, 1.4204014562522003, 1.3776076849043584, 1.3827839257721277, 1.4117380339665349, 1.4043903196992833, 1.3782756660631232, 1.3972991588424557, 1.4127506827529484, 1.4109767490706346, 1.4493294567130586, 1.4103083824740668, 1.4825972900011317, 1.443864318905479, 1.4456145420295259, 1.4355860563945066, 1.4836668337992602, 1.4629929308480976, 1.4101602246334437, 1.4079579038796333, 1.4464764678712827, 1.4277954241035644, 1.4257749871212708, 1.4295164786322379, 1.471352722574541, 1.4557555860526712, 1.4272033122494905, 1.4009225161414363, 1.4626002501766355, 1.4281074698693774, 1.3959941421490567, 1.3867439364824232, 1.4353146473059566, 1.4196141353081888, 1.4326409296510847, 1.4240037982385396, 1.4768345030806522, 1.4481004639163206, 1.410461569410506, 1.4183062383110183, 1.4463407187234716, 1.4452585745809579, 1.4267548158056698, 1.416386266814815, 1.473980174859753, 1.443198211914185, 1.3713004806481135, 1.3711074459460397, 1.4092099413611734, 1.4044716086600326, 1.379837723194692, 1.3961339966709438, 1.4186136386153643, 1.4290060524927024, -10000, -10000, -10000, -10000, -10000, -10000, -10000, -10000, 1.4360900387087252, 1.455113200117787, 1.4183806365928948, 1.4170668905456973, 1.443025373279291, 1.4432593658549127, 1.4248384297850456, 1.4073858485915713, 1.3956561542070973, 1.4057900714304683, 1.3729443042261553, 1.3744508821773422, 1.3956413313188998, 1.4006683179057176, 1.36576930942934, 1.3584160046735922, 1.3964117329050088, 1.4131658699982956, 1.3663487168958552, 1.3734769423452033, 1.466156966496489, 1.4288995534735691, 1.4418999115907243, 1.3954074098811282, 1.4647450723460644, 1.4521534842674884, 1.4330704813734676, 1.4231315494628272, 1.4282481733790258, 1.425686267931448, 1.40038417534348, 1.3824152122692888, 1.444517644008973, 1.4471146113199989, 1.4228649608305894, 1.4112886495927968, 1.4451625233136174, 1.4191641381909452, 1.4170267682079034, 1.380853935413592, 1.414066844946202, 1.4047648746418822, 1.3894487376140177, 1.3736346668331887, 1.4519272134646128, 1.4409290555870904, 1.4258769196169607, 1.4064862696665947, 1.4289164577086844, 1.4351750582482805, 1.3986076783290613, 1.4040444758384032, 1.446515583918413, 1.4335733399212747, 1.4210915415146932, 1.4005737108894434, 1.3868280704956797, 1.3891889985540264, 1.374488960546249, 1.358251103392928, 1.394918085831633, 1.414487647599218, 1.385910088570506, 1.3815599757770671, -10000, -10000, -10000, -10000, -10000, -10000, -10000, -10000, 1.4404031522251963, 1.4507003656049906, 1.4704264929613684, 1.459575157711374, 1.3944648690941754, 1.4107693308984879, 1.4208915264438586, 1.4248785539682287, 1.399556832087249, 1.4137089572955606, 1.415783592308454, 1.411831282355285, 1.4002509622108583, 1.428562983257423, 1.4165426847755809, 1.4236994222281136, 1.46293532367214, 1.4368984513712606, 1.4921292126715326, 1.445586743742957, 1.4686227755058148, 1.4572459532286826, 1.4843808397107314, 1.471855203793336, 1.4309227431652856, 1.4383356034362942, 1.4497066773922258, 1.4367798140611798, 1.4482805530578313, 1.4518966731526954, 1.4671598661742211, 1.4650028198606055, 1.4497804764950402, 1.4228619883172455, 1.4654022623832974, 1.4369592654361187, 1.4102004453587567, 1.4100038062639948, 1.440311111636667, 1.4237624458032014, 1.4518600434966005, 1.4492312200081883, 1.4755246329429428, 1.4571596945219358, 1.4296737779652586, 1.4493988432266938, 1.4507817172085766, 1.4489062728280377, 1.4481607050190277, 1.4393068549475752, 1.4692930505289596, 1.4517327696280522, 1.3885557262419923, 1.3936501067553344, 1.413394639964444, 1.408698871845536, 1.3996250772744445, 1.4188549438524964, 1.4207153230927652, 1.4334689554381295, -10000, -10000, -10000, -10000, -10000, -10000, -10000, -10000, 1.39794835553631, 1.4179639503010815, 1.4098158400214322, 1.4133875729310057, 1.406440433007289, 1.419905795591896, 1.4042224964570835, 1.4023176963068524, 1.4073934817445897, 1.4296298133929797, 1.404863253110309, 1.4166946813370442, 1.469804236948522, 1.443735164336227, 1.4793208441417183, 1.4347747401892899, 1.4768186898323052, 1.4623125993180508, 1.4722971100613576, 1.4612368307570662, 1.4372140425970061, 1.4478371646649164, 1.4381546980809397, 1.42580488301178, 1.4490680944064667, 1.462357375719253, 1.4579805954989158, 1.4521953104039176, 1.4553331219816426, 1.433912547427754, 1.4544756680064408, 1.4238006564665966, 1.4155708262093785, 1.4170004430159266, 1.4280626498549676, 1.4123910417019938, 1.4558875096312707, 1.4585396374615827, 1.46448055142722, 1.4453514380403527, 1.4363900186245049, 1.4565984431853285, 1.438821151883082, 1.4388248007760844, 1.451070449128848, 1.4480569411877724, 1.4589775103751963, 1.4397313479215357, 1.3920047100963677, 1.4005731173803386, 1.402487384695113, 1.3972346057590548, 1.41064159120064, 1.425237727283376, 1.4068953857426716, 1.4222805210425042, -10000, -10000, -10000, -10000, -10000, -10000, -10000, -10000, 1.3582863958793612, 1.370778116573602, 1.3673980838322717, 1.3691280112494773, 1.3592563375185214, 1.380079440018451, 1.3681089011827376, 1.3824788041476679, 1.4296993698997214, 1.391706119788629, 1.4389664838860257, 1.3999010856521328, 1.418719880350022, 1.427164468505564, 1.4370300537980234, 1.4228057925407298, 1.3910574124029012, 1.3898429158846266, 1.4003976118777102, 1.3945533165240707, 1.4070584820007903, 1.410456273140902, 1.4179619717856413, 1.4175847320269845, 1.4048434306313191, 1.3931233414611666, 1.417579796627996, 1.3880302612702162, 1.3742421544912247, 1.368097841024548, 1.3871506534305202, 1.376193861772947, 1.4101778505244202, 1.4081546598653563, 1.4249177371254826, 1.411279995733071, 1.391968797902232, 1.3981910076298085, 1.400542021517825, 1.406636728829142, 1.4037787160330972, 1.3994092259395394, 1.4197359141030368, 1.4043623051057175, 1.3549198484515608, 1.352118599798159, 1.3615988122797877, 1.3606989017663058, 1.3502621441443052, 1.3783873287950326, 1.3716857213407876, 1.3854913759165912, -10000, -10000, -10000, -10000, -10000, -10000, -10000, -10000, 1.3581936721681176, 1.3733401633415006, 1.3610888276238344, 1.373001223187406, 1.428989327813393, 1.3900706748479927, 1.4323183714487766, 1.3925295476078394, 1.4257583923251405, 1.4147685456028951, 1.4374933675515238, 1.4056310824633638, 1.390265210123594, 1.385893601083864, 1.3963816006493095, 1.3724937060328695, 1.4076617157313143, 1.4079594111692946, 1.4141807592225129, 1.408442325049107, 1.4072458973030744, 1.379635079463806, 1.4111725165728513, 1.3785124993844406, 1.3767550119413023, 1.366368897743289, 1.381538498826392, 1.368899526762442, 1.414351748001867, 1.4020035945404854, 1.41911309159932, 1.4029750473351188, 1.3905380705171937, 1.3971002233735337, 1.3955910601562598, 1.3935976717411185, 1.4090506497617712, 1.3948752876863968, 1.4139108391624702, 1.3965873567821014, 1.351848061211827, 1.3508186080313926, 1.355477615656219, 1.3535365416743912, 1.3599372152917848, 1.3758222481739648, 1.3751515762308646, 1.3771709132393637, -10000, -10000, -10000, -10000, -10000, -10000, -10000, -10000, 1.4295758692987093, 1.3908758657072766, 1.4482517304851799, 1.4041032677636491, 1.426825590059833, 1.4150652771074022, 1.4448204845500352, 1.4260526888964662, 1.3910151538235855, 1.3865577225245325, 1.4093825516306853, 1.385324659732007, 1.408293730548751, 1.4087559663307512, 1.429526771903551, 1.4199977865930378, 1.4080011644893715, 1.3803046305237396, 1.4238618851090323, 1.3924003126124211, 1.377393797161988, 1.367113740784426, 1.396587653926084, 1.3816605646498719, 1.4148646472985416, 1.4029326426692528, 1.4366227210664446, 1.4119849712735957, 1.3913762747518938, 1.3975573562608765, 1.4067647247041295, 1.4114153320388372, 1.4099275718426496, 1.3955418198390195, 1.4243088431294826, 1.4108027619955221, 1.3524007296245495, 1.3515577732911743, 1.372102065937119, 1.3664263919714723, 1.3607000419908533, 1.376554246208887, 1.3887623936890587, 1.3900712526676253, -10000, -10000, -10000, -10000, -10000, -10000, -10000, -10000, 1.495178044999435, 1.4891393190372197, 1.4600595355427588, 1.4450973560324392, 1.4609948920591143, 1.4613841128237377, 1.42350778901245, 1.415359930422233, 1.4758622143167028, 1.4815130681407926, 1.4421294660617459, 1.4394277707732592, 1.4791391230638857, 1.4500867806625548, 1.439767750067443, 1.4124415506619732, 1.4359679910555352, 1.4391729899878418, 1.4153282999673624, 1.398351478646409, 1.484187186022162, 1.4750575409055724, 1.447910163087366, 1.433746071748555, 1.46219450181119, 1.4683775387395017, 1.423259945888475, 1.4293305447062177, 1.4713113452339428, 1.4709208755664247, 1.446191616835834, 1.4252639367772608, 1.4136851477870134, 1.4225896976881005, 1.389092503934625, 1.383303380207423, 1.4183819900385004, 1.4488357307448283, 1.3996904853511105, 1.4076133828052615, -10000, -10000, -10000, -10000, -10000, -10000, -10000, -10000, 1.4574495789468502, 1.462240066586203, 1.4494453101170366, 1.4305700679400017, 1.471627249070677, 1.4795953341380899, 1.4711401090052645, 1.4605680671995551, 1.4741984606755285, 1.4543090778494951, 1.4664614921190113, 1.4280354612588333, 1.4431863310986657, 1.4353763198659681, 1.436764434926892, 1.422699848428536, 1.4787733989412644, 1.4745703761974163, 1.4770110090581619, 1.4534439458456792, 1.4579284364579934, 1.469590684387005, 1.4493149291934622, 1.4480887102687614, 1.4715302601361309, 1.4666863426320824, 1.474285430546871, 1.4474046033859294, 1.4140236226210394, 1.4197365019757364, 1.4173321578613347, 1.407290862165376, 1.422066993006963, 1.4453321045294198, 1.4269126234988625, 1.4313440442718195, -10000, -10000, -10000, -10000, -10000, -10000, -10000, -10000, 1.4394030988317281, 1.4416750858615068, 1.4422994653240955, 1.4313103956509208, 1.4398629222067156, 1.4137858762943827, 1.4369037773349669, 1.4004139005316796, 1.4089609748072647, 1.3994252511510479, 1.4086398907831326, 1.3934989550957035, 1.4474589672412743, 1.4348690265961748, 1.4419248959802093, 1.4295660785814213, 1.4229679088962066, 1.431556261777466, 1.4214364761155602, 1.4156890753686406, 1.4404527670002858, 1.4286151606307367, 1.44479874917656, 1.4184887134454462, 1.3809593817616221, 1.3838831876568938, 1.3981598468234808, 1.377966977666574, 1.3916937685440658, 1.4089363909478332, 1.3971767442021281, 1.4023127577055228, -10000, -10000, -10000, -10000, -10000, -10000, -10000, -10000, 1.4566443528068458, 1.4332708866959778, 1.4583142680374919, 1.4277473060459913, 1.4182816336153792, 1.4176635278196936, 1.4325906879700487, 1.416187810581658, 1.4643907528659987, 1.4527113671670426, 1.4651090627494405, 1.4520399710578848, 1.4410927707948176, 1.4470687005651244, 1.4410126305477684, 1.4471972359618304, 1.4545010299839132, 1.4476618032149942, 1.4625528563402113, 1.4437349228973957, 1.3969160726729855, 1.4013338014227954, 1.405473705041189, 1.4011182682197418, 1.4047919285191852, 1.4268353238088998, 1.4146746746693761, 1.4257086128579148, -10000, -10000, -10000, -10000, -10000, -10000, -10000, -10000, 1.4236305990391802, 1.4165116750864268, 1.408814325303869, 1.3873085879793896, 1.461763514075968, 1.4539675248482702, 1.4446648188414535, 1.4166765199695783, 1.439070813923364, 1.4504721756667616, 1.4172767331134972, 1.406188863918149, 1.458157169944983, 1.445073112072474, 1.4338823791103004, 1.4154511044460614, 1.3964854413994363, 1.4007772055687946, 1.3909149758738257, 1.372398777063168, 1.4104666320709918, 1.4255879604164332, 1.3824895928640566, 1.3977191640885844, -10000, -10000, -10000, -10000, -10000, -10000, -10000, -10000, 1.4234619162049569, 1.430380545302077, 1.42440345036416, 1.409881166105937, 1.4083794270773107, 1.4206903336196426, 1.399722319299519, 1.4052004169043728, 1.4221251184483508, 1.4173281613831339, 1.4187065257902831, 1.4033964514965853, 1.3667360200237333, 1.3703163828788711, 1.3612480553052144, 1.359698130499111, 1.3637952395071613, 1.396949406422887, 1.3711339192652994, 1.3844564117783276, -10000, -10000, -10000, -10000, -10000, -10000, -10000, -10000, 1.4460188186097482, 1.4581677348279172, 1.4365312397551164, 1.4373632150423599, 1.464797246737747, 1.452470011334855, 1.4547925171847078, 1.4386898851709096, 1.3979217633271446, 1.408055250277166, 1.4059112885846954, 1.395046100033786, 1.415853013822482, 1.4329346564927392, 1.406563873436067, 1.4200216510248178, -10000, -10000, -10000, -10000, -10000, -10000, -10000, -10000, 1.4416930855397407, 1.4283364291296392, 1.4502569810301313, 1.4332553940807455, 1.384629399376181, 1.384022212472372, 1.3924378506043522, 1.3900908127779394, 1.3882218425031074, 1.4095632972755008, 1.4149272509001984, 1.4133763611563306, -10000, -10000, -10000, -10000, -10000, -10000, -10000, -10000, 1.3928371504812977, 1.402754692158514, 1.3944475983324018, 1.3880550360333317, 1.3986814274700166, 1.4289611357845229, 1.404536690474954, 1.4123691769475704, -10000, -10000, -10000, -10000, -10000, -10000, -10000, -10000, 1.3505786512192492, 1.3706725060553286, 1.3540515848053312, 1.3690877914196182, -10000, -10000, -10000, -10000, -10000, -10000, -10000, -10000, -10000, -10000, -10000, -10000, -10000, -10000, -10000, -10000, -10000, -10000, -10000, -10000], 1.3887151631917392)\n"
     ]
    }
   ],
   "source": [
    "queue = Queue()\n",
    "v1 = [1,2]\n",
    "max_touched =[1,2]\n",
    "max_opinion = [0,1]\n",
    "a = len(set(max_touched))\n",
    "len_nodesets = comb(n-a,k)\n",
    "#########################\n",
    "fla_max_fre = np.zeros([1*h])\n",
    "fla_max_fre[2] = 0.1\n",
    "fla_max_fre[3] = 0.4\n",
    "fla_max_fre[7] = 0.5\n",
    "# print(fla_max_fre)\n",
    "i_th = len_nodesets-1\n",
    "    \n",
    "    \n",
    "res = min_k_mixed_opinion(s, n, len_nodesets, i_th, max_touched, fla_max_fre)\n",
    "print(res)"
   ]
  },
  {
   "cell_type": "code",
   "execution_count": 162,
   "metadata": {},
   "outputs": [],
   "source": [
    "# Minimizer search: Go through each agent \n",
    "from joblib import Parallel, delayed\n",
    "import time\n",
    "\n",
    "# def mixed_choose_min_vertex(s, n, v1, max_opinion, max_touched, fla_max_fre):\n",
    "#     # current polarization that changed by maximizer, \"innate\" objective that min start with\n",
    "# #     queue = Queue()\n",
    "\n",
    "a = len(set(max_touched))\n",
    "len_nodesets = comb(n-a,k)\n",
    "batch_size = multiprocessing.cpu_count()\n",
    "op = change_k_innate_opinion(s, v1, max_opinion) \n",
    "min_por = obj_polarization(A, L, op, n)\n",
    "champion = (None, None, None,min_por)  # assume the best action is champion\n",
    "\n",
    "results = Parallel(n_jobs=8)(delayed(min_k_mixed_opinion)(s, n, len_nodesets, i_th, max_touched, fla_max_fre) for i_th in range(len_nodesets))\n",
    "champion = identifyMin(min_por, results)\n",
    "#return (champion) "
   ]
  },
  {
   "cell_type": "code",
   "execution_count": 163,
   "metadata": {},
   "outputs": [
    {
     "name": "stderr",
     "output_type": "stream",
     "text": [
      "IOPub data rate exceeded.\n",
      "The notebook server will temporarily stop sending output\n",
      "to the client in order to avoid crashing it.\n",
      "To change this limit, set the config variable\n",
      "`--NotebookApp.iopub_data_rate_limit`.\n",
      "\n",
      "Current values:\n",
      "NotebookApp.iopub_data_rate_limit=1000000.0 (bytes/sec)\n",
      "NotebookApp.rate_limit_window=3.0 (secs)\n",
      "\n"
     ]
    }
   ],
   "source": [
    "print(results)\n"
   ]
  },
  {
   "cell_type": "code",
   "execution_count": 164,
   "metadata": {},
   "outputs": [
    {
     "name": "stdout",
     "output_type": "stream",
     "text": [
      "([15, 36], array([0.623, 0.547]), [1.3225433953135561, 1.311351202988365, 1.2984223152757148, 1.2814823099989598, 1.3271068528711167, 1.2890909925267, 1.302392688629891, 1.26232774638446, 1.333192967811301, 1.3130990948707373, 1.3095528054125933, 1.2816123814549165, 1.306207988189736, 1.314889579801726, 1.286771095205008, 1.2891998543576677, 1.362151932456354, 1.341673579831948, 1.3372748403128298, 1.3165697113373387, 1.331608625940281, 1.3033333504793, 1.3085099201603836, 1.2686052965514276, 1.372166467847701, 1.319848889040414, 1.347702520079197, 1.293772377136576, 1.3161443767166094, 1.2998366842552684, 1.2912093637374435, 1.2739680106215454, 1.3280770251113367, 1.315731558821224, 1.3091020697606186, 1.2896724612454027, 1.353738223625026, 1.3493256107464888, 1.3353314375568766, 1.3127437561429751, 1.352552128313233, 1.3311897918531372, 1.3315789399097622, 1.2974971401938995, 1.33796029309898, 1.3245975334337894, 1.3169158261065532, 1.2864934226778537, 1.294202939469616, 1.3074558263584866, 1.277712204251131, 1.2816773351490613, 1.3507995371814134, 1.360784160403388, 1.3343019047461457, 1.3248559671706406, -10000, -10000, -10000, -10000, 1.3547397277087356, 1.315623852780767, 1.337930112164432, 1.2890442502020647, 1.3061933128478058, 1.2973735858690598, 1.2811347327745333, 1.2724914548617514, 1.370558242509787, 1.3407586543548238, 1.3499032722371425, 1.313236017886513, 1.3624443310935934, 1.3526597037615624, 1.35117764125058, 1.31979662435135, 1.3237251676441026, 1.3281476233482348, 1.306723794069603, 1.3011881001550747, 1.287769788516204, 1.2951588161550993, 1.2733726232338172, 1.2698515437202729, 1.3480031655033362, 1.32251998119186, 1.3280561033209555, 1.2850300536195824, 1.3437973685474374, 1.3372720907065063, 1.321085877048222, 1.3115111594398834, 1.316474503984523, 1.3067702551185005, 1.305904359855162, 1.2804889484918305, 1.3648103002712404, 1.3594372426884407, 1.3448849203700615, 1.3288612245295253, 1.3545640528915097, 1.3470010469468616, 1.3416253330348513, 1.3138750977181541, 1.3160797404560207, 1.2687600416896077, 1.2920380253195207, 1.2337694281297877, 1.3248703666337942, 1.320893062680324, 1.306122413390477, 1.2944533274148196, 1.3046486997547966, 1.2883326124970997, 1.2844316930369684, 1.2632721337603767, 1.3249564864954078, 1.3348364317174601, 1.30118027507652, 1.3045416226637854, 1.3400919789408152, 1.3003588668214885, 1.315557529641731, 1.2730612456890913, 1.351720149733808, 1.3528216442014682, 1.3312030920127973, 1.3251221333221272, 1.355388924520209, 1.3441141409756776, 1.3410917890921052, 1.3144171386213366, 1.2998790692563307, 1.3101323345855378, 1.285089871840933, 1.2840271243278887, 1.3000629105186945, 1.303390183141099, 1.275885954184095, 1.2629023556017063, -10000, -10000, -10000, -10000, 1.3800672668590543, 1.328709846812997, 1.3605112764561627, 1.3010738470265242, 1.372855843985483, 1.3514957385359962, 1.3537331629310223, 1.318632999363765, 1.33518537730422, 1.3175690250368748, 1.3124110522015495, 1.2816758916107713, 1.3561444229272206, 1.347094806915667, 1.3406283509555492, 1.3163665222113425, 1.3499161374225621, 1.3221230651606086, 1.3261382010871632, 1.2929617615873434, 1.3295148743202048, 1.3079697053722024, 1.3098017131505117, 1.2823841419205901, 1.359045410519006, 1.3428270958910051, 1.3393419024071873, 1.3131184985196789, 1.334845664507006, 1.335198395096946, 1.311040762899586, 1.3068093709769615, 1.3524638973494518, 1.3371227547314648, 1.3320916566582008, 1.3098186918093087, 1.3022676784456073, 1.2932717199033443, 1.2899618539208106, 1.2679415301147707, 1.3141876795490077, 1.3171553925751809, 1.3064424717444176, 1.290183733427132, 1.320283776973695, 1.3162973316857394, 1.2972669478121066, 1.290903214198898, 1.3378641644847047, 1.3372503296980522, 1.3138272963308557, 1.3089595756916244, 1.3192192511532241, 1.282232643005603, 1.3083457633749742, 1.2624853775104135, 1.3257535354772085, 1.304086049742224, 1.3133893048275664, 1.2920371049002999, 1.2998665932135909, 1.3070098046155616, 1.2857472133336376, 1.294910175773325, 1.3524451693872899, 1.3346427244397074, 1.352687838713653, 1.3179710341871522, 1.3238861508864388, 1.2956182394748932, 1.3139355962995727, 1.2715856496234914, 1.3634162282937594, 1.3139526040048746, 1.3582092233226644, 1.289051420580398, 1.3082451173294491, 1.2934436507878773, 1.297177567857181, 1.2718824472461605, 1.320003325793955, 1.3080691755977625, 1.3172141580889098, 1.2941718329001115, 1.3463542978744194, 1.3410181805116421, 1.3399614018350086, 1.3184315656258245, 1.344575386524263, 1.3240111047066692, 1.3387714681941993, 1.297892356099552, 1.330709326024793, 1.3153413317378846, 1.3203060067407422, 1.2968175220907838, 1.2850512435387245, 1.2998571738388554, 1.2919641776322668, 1.2859021921175302, 1.3445291806739608, 1.3512156727877216, 1.333515625130052, 1.337260134205647, -10000, -10000, -10000, -10000, 1.3472145386823717, 1.3078660874901737, 1.3436278478292514, 1.293933664164052, 1.2983051857855714, 1.291712871201555, 1.2870192663875795, 1.26678832644546, 1.3628876067534532, 1.3330088572061092, 1.3555641878329059, 1.3178886715825844, 1.3565863629194042, 1.3438812799002746, 1.349321866551508, 1.3287120689968797, 1.316953017267974, 1.3202005331263584, 1.3084519646992052, 1.3069869117214123, 1.279288963998994, 1.2874562571392625, 1.284556824832006, 1.2747161835584029, 1.3408381164069978, 1.3134411121820406, 1.3312250310979203, 1.2945558239150965, 1.3359853502506915, 1.3295786805113463, 1.327058992483773, 1.31623416194413, 1.3087187332264807, 1.2990519609032272, 1.3140967960059522, 1.2852341124799513, 1.3573294241434621, 1.3514563540773823, 1.3497065399422914, 1.3340879240662558, 1.349118952508635, 1.337760591281206, 1.3372688729499214, 1.3251473390444692, 1.3083656981979095, 1.2609674523789087, 1.2972245213845717, 1.2370997754831445, 1.317057095049875, 1.3131921974647367, 1.3129223913292214, 1.2990747452920846, 1.2975497868926573, 1.2806094214537285, 1.287199606484984, 1.2682955239871987, 1.3168302527360614, 1.3287903137215358, 1.3085728225215019, 1.2997295496198964, 1.3322263684293998, 1.29327404638014, 1.3214330341131642, 1.2742901609542996, 1.3440770251994458, 1.345054615011907, 1.3367489783502644, 1.3298281085645738, 1.3491386509477015, 1.3357562891944568, 1.340656133270672, 1.3217930205097126, 1.291234587009374, 1.3025064978806693, 1.2970470151161044, 1.2883262271190432, 1.292386546248808, 1.2948708917305345, 1.2808478299233694, 1.2688873956358095, -10000, -10000, -10000, -10000, 1.3718454202670096, 1.3212248583855257, 1.3692762447757607, 1.3043210828614014, 1.3653882648467381, 1.3434396845436283, 1.3586515218465602, 1.323778687944132, 1.3277359889712461, 1.3085492508276153, 1.3164787087432053, 1.2912237481311941, 1.3499481094327708, 1.338464151783435, 1.3396588143092072, 1.324952639494259, 1.3416628885572175, 1.3161295077361461, 1.3341932443590354, 1.2881099893957733, 1.320589560639787, 1.3003704471080542, 1.3222053309709316, 1.2866520897804312, 1.3522061462762278, 1.3343359195050992, 1.3408610667697185, 1.3211877607847644, 1.327248618370759, 1.3271423808937248, 1.3156657047450315, 1.3128807636997193, 1.3449362998434102, 1.3293079161500168, 1.3370646152762302, 1.314856014297519, 1.2960264494839304, 1.2855173874706942, 1.289891132878004, 1.2730716163759568, 1.3087262951018435, 1.3091825245239632, 1.3032458792704549, 1.2961145598243362, 1.312637954025403, 1.308563122738276, 1.3023095459202185, 1.2959150512417195, 1.3302167511087084, 1.3292915006708554, 1.3186670798898867, 1.3145441275088778, 1.330243074256796, 1.3083455794103394, 1.291518493222167, 1.2713577216988492, 1.3009527901048066, 1.3118444349987635, 1.2815382359838985, 1.2712480492594205, 1.3582911441352632, 1.3386051020681196, 1.3237168914266138, 1.2988565729496568, 1.328492563970126, 1.2992803667715624, 1.291446235353757, 1.2540661702112066, 1.3689995053246073, 1.3163881204021552, 1.3306287109233348, 1.277898713256584, 1.3126684852192594, 1.2980783758550094, 1.275643354701729, 1.2493055532144506, 1.3254732557423825, 1.3123469223702382, 1.290209215346577, 1.2734074024961348, 1.351346278647676, 1.3445218041011142, 1.3154539554329352, 1.3017268449945227, 1.349544496831276, 1.3273536083499249, 1.3143796400105376, 1.2820413976946121, 1.3353289066741745, 1.3192307819215061, 1.2977506598459136, 1.2780907922847855, 1.2896944739010274, 1.304288820050413, 1.2691976925801, 1.2643397918842654, 1.3481908899630652, 1.3566655561380419, 1.3159317994825181, 1.3104162207210635, -10000, -10000, -10000, -10000, 1.3524160769152862, 1.312174122745379, 1.3180191063993352, 1.2730123090054932, 1.3027639110050662, 1.2960330869455094, 1.2653027731936368, 1.245859950932708, 1.3680858264188298, 1.3370340897316049, 1.3299917505422858, 1.2984402602723115, 1.360490525973488, 1.3486383861331792, 1.3304612982704154, 1.3054677366969, 1.3192908871672129, 1.3251510943304377, 1.2977219536225986, 1.2827291525432332, 1.2860556895475734, 1.2918475799099596, 1.2507843416652393, 1.2533567308663116, 1.3456809207910119, 1.3169266201581207, 1.307507802901815, 1.27792615742461, 1.3388941998108244, 1.334499043059961, 1.3133695276236088, 1.2921337095761531, 1.3132042217133275, 1.3034971373412172, 1.2921563473539333, 1.2636008314087281, 1.3623067341688841, 1.3553333108257895, 1.325281473582192, 1.3154200938789629, 1.3528915197254485, 1.3426599892820446, 1.3191143097464468, 1.3011518920911196, 1.3129526293686675, 1.2640425570766107, 1.2748422944952975, 1.2226242936618563, 1.3201859907103444, 1.317932698919066, 1.298067084002646, 1.2759111672265324, 1.3014210494328895, 1.285059576108484, 1.2685254553842127, 1.246628737592375, 1.3215681651947602, 1.332040964153597, 1.2853927344481915, 1.284370057403605, 1.3364753936391325, 1.2986010725333013, 1.3008017217828904, 1.2481091879921442, 1.348791981213333, 1.3493466968596997, 1.3136832153227314, 1.3089961139644601, 1.3526567238119367, 1.340607243408346, 1.3238044073781106, 1.2980557449266854, 1.2955687238521554, 1.306966647843737, 1.2758893963812987, 1.2666171311690442, 1.296778973134868, 1.300313655663508, 1.2594765125224647, 1.242141860994092, -10000, -10000, -10000, -10000, 1.3769726577347177, 1.325352812423224, 1.344047697082972, 1.284348975514976, 1.3701648906231472, 1.3474547359534625, 1.335262861623865, 1.3044062843410367, 1.3321116841682636, 1.313344628575371, 1.2951927394392395, 1.2677919210099047, 1.3534716480797742, 1.3434640222845666, 1.3227879686789223, 1.3004406387917928, 1.3463306215664574, 1.3198654039906623, 1.3113731467717125, 1.2702282454578584, 1.3268149022480853, 1.304638768030197, 1.2912596223736599, 1.265935636083629, 1.356245550551359, 1.3391412594816323, 1.3213198606427685, 1.2976829182627887, 1.3315080271064166, 1.3321000147358872, 1.2949845678514813, 1.2885916735265566, 1.3498435541320302, 1.333534456121999, 1.3130041936469568, 1.294360022797023, 1.2986640689502154, 1.2900062192889692, 1.2775942577562933, 1.251204888314526, 1.3129163859588593, 1.3136596279899597, 1.282893111034349, 1.2743118446002146, 1.314702889969039, 1.3134212412402428, 1.2930045578251979, 1.2721338957001675, 1.3341904502120876, 1.335267299106241, 1.299467726591855, 1.2849763792606672, 1.3075473126114763, 1.3181045370524136, 1.3014029544612002, 1.2947100997257324, 1.363084407233794, 1.345421685510123, 1.3533159436634385, 1.3196851098215854, 1.3346082671920987, 1.3064645916295463, 1.3152242166809, 1.2737421376589353, 1.374227813442101, 1.3245737230398273, 1.3586035473073195, 1.2923290233292932, 1.3191654800990982, 1.3028625815085535, 1.297671448697463, 1.2803299065465574, 1.3322045828779685, 1.318568549149905, 1.3109915077608103, 1.2968843447082272, 1.3567953942700584, 1.3522855877122057, 1.3421750715653826, 1.318510367767106, 1.355555588092498, 1.334250131283663, 1.3384537903298943, 1.3030457283714518, 1.3415199913352043, 1.3258631011244992, 1.321234936886861, 1.299899597689907, 1.2978986847064784, 1.3104197280720162, 1.281789155624529, 1.2883309701640928, 1.3537699148306415, 1.3638711349281274, 1.341703326103039, 1.3300951867158404, -10000, -10000, -10000, -10000, 1.3580113312584772, 1.3185989624340262, 1.343924594160402, 1.2955793982753103, 1.3089837111819826, 1.3032507699839229, 1.2886440064252502, 1.2658658424086506, 1.3718305290171902, 1.3447674135777614, 1.3647403896575085, 1.3149539700229331, 1.366325183108883, 1.3551938924004128, 1.3548436989079635, 1.3278265552728497, 1.3263065139400911, 1.3312740736133877, 1.3158663160091169, 1.3069976841053004, 1.2888962327438889, 1.2982271027723504, 1.2894025000464249, 1.2760661584124884, 1.351880911984955, 1.3234520317023188, 1.3310092285514077, 1.300016505322, 1.3473003701374031, 1.3401461828931793, 1.3255252331574099, 1.3185779477374755, 1.3203232244428809, 1.309721308491298, 1.3097760576166515, 1.287159358026404, 1.3684948978611255, 1.3617428110008236, 1.348725246559741, 1.338130729898034, 1.3582403820033944, 1.349585763985465, 1.3460888446740071, 1.321651388044101, 1.3191175073896644, 1.2716222045165568, 1.2984985583398367, 1.2401177154330993, 1.329055577902717, 1.3236571006722315, 1.3077665870095487, 1.301967734043316, 1.3052278857794042, 1.2913619304813095, 1.3024826363546997, 1.2696860529500062, 1.3274496615872011, 1.3400440608517492, 1.3101594307864022, 1.3005317875621536, 1.3426298625562922, 1.3055132250980517, 1.3242682250308362, 1.2695466804685331, 1.3544082010735434, 1.3560388563551107, 1.3395619692865648, 1.330453679538757, 1.3586598605676157, 1.347027932957397, 1.347299805176925, 1.3209722144170708, 1.3016437532242713, 1.3132838988359339, 1.2981612493281436, 1.2897931541573335, 1.3030668850469471, 1.3067265237095114, 1.2824900604939822, 1.266616526485601, -10000, -10000, -10000, -10000, 1.383744701677048, 1.3314220366845049, 1.364415380746201, 1.3087257098725522, 1.37565647136004, 1.3548091639181252, 1.3616928065026253, 1.323090977570378, 1.3382740806523263, 1.3202705048268808, 1.3187442665102584, 1.2886851362382084, 1.3606665873404318, 1.3492216359281866, 1.3409986882885945, 1.3264426037512953, 1.3522137420032232, 1.327496129089277, 1.3360136974785808, 1.2882885373667983, 1.33238341244729, 1.3110068890708926, 1.3174005918996636, 1.2887180179313025, 1.3623210094384917, 1.3456270953369025, 1.345075644038056, 1.3201942221240766, 1.3381572503894756, 1.3374385946524654, 1.3162659621497883, 1.3165617311973863, 1.3555799535665258, 1.3400988040854016, 1.3385007130959496, 1.3162888431946795, 1.3048623981920606, 1.2963029355904951, 1.299436425957635, 1.2743241562252754, 1.3193150995781557, 1.3199425961180191, 1.3046893255607248, 1.2975473902845671, 1.3213198114450302, 1.3196603843454864, 1.31298917591177, 1.2957593613461407, 1.3401477668697246, 1.3426471504470663, 1.3237452869546127, 1.304250378691875, 1.3273558460540573, 1.3225764056774953, 1.3478471548083368, 1.3255160585582517, 1.3067933380271546, 1.2884813990283677, 1.3165419565680285, 1.2846055510043217, 1.3424124476336465, 1.308418223052127, 1.357371797995512, 1.3026000844171648, 1.2922442425062541, 1.2823046052690308, 1.3005752129385668, 1.2833338537220298, 1.3065767761154907, 1.2923089617052428, 1.3135218071897108, 1.2998642940140752, 1.3269100766244306, 1.3325743012924187, 1.3399180800021413, 1.330414895147475, 1.3280101708922014, 1.3110034032287978, 1.337913987553591, 1.313298920599513, 1.3114089193995602, 1.312560095363923, 1.3235375936167446, 1.3048158390683642, 1.2657898326624335, 1.2847595780032997, 1.2809795007176568, 1.2915658294729941, 1.3278433859246588, 1.3373930155500635, 1.3369476478664457, 1.342777748910879, -10000, -10000, -10000, -10000, 1.3326188056963422, 1.292285099040857, 1.3407243688641048, 1.2996343251375146, 1.2823904771053192, 1.2823173931567031, 1.2905862321214818, 1.2807997708227283, 1.3465251307387232, 1.3181108450555705, 1.3559304975974447, 1.324485683799935, 1.3346444745073784, 1.3321518346819947, 1.3502808447993517, 1.334985275629665, 1.3023534452360463, 1.3045775434098772, 1.3095822383599882, 1.3121024636695902, 1.257154212059437, 1.2721949974168651, 1.2752524139267705, 1.2794015259424643, 1.32001520861232, 1.3111876440443686, 1.333982980217075, 1.302790177263062, 1.3059862613147961, 1.318620485160786, 1.3303075967588889, 1.3209211982477052, 1.2811518772815755, 1.2846623009961886, 1.3053260431053149, 1.2907038660309165, 1.3381163153096964, 1.340120673655555, 1.3506461402791383, 1.3421208320363949, 1.3292626642112149, 1.3252911455484804, 1.3417517100280776, 1.329407840855212, 1.2912272740822788, 1.2625071777652856, 1.3008132886522636, 1.2489874654861615, 1.3004654598691112, 1.298023966233349, 1.3106979894106257, 1.3048798406944981, 1.2783688805972315, 1.265194910587628, 1.2903738516805001, 1.272648702667181, 1.3012643500194387, 1.3139416046722032, 1.3096141738459717, 1.3177621992644832, 1.315813537047406, 1.2821968745091048, 1.3246529558503113, 1.283619203927211, 1.327715400417771, 1.3301765836304795, 1.337118988545706, 1.3365100847133733, 1.3226719866286327, 1.3251081110048235, 1.3431346236607025, 1.3269522586289115, 1.2674386489054588, 1.2879451344802175, 1.2874865235939097, 1.2941131549623086, 1.2761272927333642, 1.2942572734859499, 1.284661856268404, 1.282758980305776, -10000, -10000, -10000, -10000, 1.344386200738914, 1.3114773931301391, 1.367015577262817, 1.311790167413641, 1.3434225615295676, 1.3366448572086722, 1.3591800988465272, 1.3331714439137188, 1.3102761494670148, 1.3028364966950476, 1.3201996922386319, 1.2985753980865957, 1.325787357213915, 1.3282468168141282, 1.3433552320125905, 1.3296916121695435, 1.3223797739306635, 1.313228306521801, 1.3350151207408145, 1.3039154007985223, 1.2901262991580231, 1.2864675729673312, 1.3168551366619208, 1.2919842614950157, 1.3312343169135241, 1.3237507205205201, 1.3450576068003262, 1.3256707866383945, 1.3108092327869703, 1.3144469799924199, 1.3195367003210579, 1.318520070799775, 1.3305542750685846, 1.3133769248174147, 1.3376533601231648, 1.3210232337033658, 1.267009887656778, 1.2703949709430489, 1.2907361917135316, 1.2774994671165494, 1.295319032972104, 1.2935314491817946, 1.3017600716977074, 1.301113795303134, 1.2926303248067041, 1.2939245111170974, 1.305560905647953, 1.3004533487308516, 1.3139815892757043, 1.3164683088892437, 1.322487329196619, 1.320596786004172, 1.3611146297379753, 1.3461886505181369, 1.34411299423678, 1.3081541000600132, 1.4006905154110991, 1.3572940377116764, 1.3846551623915415, 1.3288138170621837, 1.3476655952993302, 1.3332138028672063, 1.3274677045651093, 1.3102704751434286, 1.349129192820628, 1.3492570483417046, 1.3445995455437851, 1.326063949767628, 1.3820850143193213, 1.3869638606645658, 1.367872942672053, 1.3554754806479397, 1.3820126437117137, 1.367772054787931, 1.365628291520848, 1.33846257751107, 1.368249277290361, 1.3610759888964432, 1.3507297442034485, 1.3307524951753793, 1.3283029630627172, 1.338994183273263, 1.3068383846241418, 1.3185525638344824, 1.3770375630913225, 1.39953046704, 1.366166879686445, 1.3667197272315548, -10000, -10000, -10000, -10000, 1.388588279346647, 1.3469717167263338, 1.3673792018716004, 1.3265772775592595, 1.3379910264065291, 1.3284085059320758, 1.3173881785839199, 1.308879837462872, 1.3955753721568585, 1.3762929128053751, 1.3852626562094001, 1.35000975229666, 1.3857031062826883, 1.389212649255152, 1.3802158649479754, 1.3601596771695519, 1.3451947012920193, 1.3623323008378139, 1.340618801275931, 1.3380152804286167, 1.3119091237224159, 1.3270863454031203, 1.3044162940772077, 1.3062434923502115, 1.3808675860207063, 1.3515172900856685, 1.3601641611357227, 1.3314368721461365, 1.3759898844980145, 1.3688740831245176, 1.3554688923911948, 1.3483512946391172, 1.337281390201598, 1.3394443749422136, 1.3352807837064407, 1.317340552596888, 1.3895779200609697, 1.3987100542142612, 1.3797923124347453, 1.3665897229426718, 1.3787962339862603, 1.3837530865812917, 1.3715597649807894, 1.3543630335073573, 1.3467746932160911, 1.3108616959602257, 1.3279240325101855, 1.2737741635119302, 1.3453087312720164, 1.3551361643655324, 1.341665690658918, 1.330876367560629, 1.3344821270614637, 1.320079146903149, 1.3177929942301003, 1.2995447771379292, 1.3566486426299238, 1.3667772134819092, 1.3365234887922264, 1.344611894608851, 1.3687829535210567, 1.3455430106278892, 1.3525041898569377, 1.306313453391918, 1.3769917601723525, 1.3883538212030495, 1.3663721519241183, 1.3620272003030442, 1.390705591703769, 1.3743070285837564, 1.3681751161923776, 1.3546537356694919, 1.3190248027705358, 1.3431744204726535, 1.31815935899095, 1.32062074835863, 1.3312584642356402, 1.344822418179902, 1.311697762760149, 1.3071991461255452, -10000, -10000, -10000, -10000, 1.4040963827405952, 1.3640897311092672, 1.3954026871494722, 1.3379849695239248, 1.4053672630493197, 1.3822188432990652, 1.385355217936195, 1.3610228995050782, 1.3661172896010487, 1.3531721688100085, 1.3472787910700206, 1.3246066742291231, 1.387458115666873, 1.3790899394959406, 1.3700036510589848, 1.3567379858852724, 1.3776793895814632, 1.3667798979768122, 1.3628488108584897, 1.3277735143195546, 1.3567374937148766, 1.3401679795698476, 1.3436987673205336, 1.3188874471898608, 1.3831891826160554, 1.3811993734097392, 1.3743023769455314, 1.350519595459751, 1.3667065192207648, 1.3666147097939239, 1.346346503905796, 1.3456547228642808, 1.3796413773896532, 1.3710688353445692, 1.3664910883374382, 1.3469832522074698, 1.3273325901509663, 1.325161536429087, 1.3191393894853638, 1.304363514656603, 1.3329529369494841, 1.350340700943192, 1.3344427829174486, 1.3273673666498746, 1.3492577884169412, 1.3485135369318817, 1.3329945414738416, 1.3272589157928159, 1.3662463376834593, 1.3797984142855195, 1.35051390280244, 1.3438617257052818, 1.3731519657973217, 1.3223790207401094, 1.3466207701168011, 1.2847504201569917, 1.3173508498995394, 1.3038856296399817, 1.288953353860789, 1.2574245920579996, 1.3292053457574653, 1.3173431294230211, 1.308185296067476, 1.2852222214133668, 1.3564290571894306, 1.3488723147835773, 1.3267333067122151, 1.316886042135716, 1.3537620507626655, 1.3334382662552566, 1.3299376011299542, 1.288661537498952, 1.3403325520260436, 1.3234313835526983, 1.3094816367032889, 1.2939386893881073, 1.294660102046479, 1.3090912504622367, 1.2805299641722612, 1.2771531983782065, 1.352584371298215, 1.36201793741189, 1.3305147018558476, 1.3207109661911671, -10000, -10000, -10000, -10000, 1.35688495340107, 1.3170539730116175, 1.332300560143463, 1.285413538262441, 1.307697764056058, 1.2993847770313858, 1.2773768683201023, 1.2662411964026914, 1.3715762006368144, 1.342596998338412, 1.3492675166639008, 1.3074243993341752, 1.365067413814704, 1.3535889755722934, 1.3440551997457493, 1.3176550591503227, 1.3240397484053619, 1.3299822196624298, 1.3101693224913322, 1.295484927320477, 1.2904608077378201, 1.296672981877653, 1.2654130192307853, 1.2660056978830774, 1.350442487175886, 1.321873122824711, 1.3204633555976928, 1.2899903040321044, 1.3435959815601344, 1.3393491643933793, 1.326187194732256, 1.3047930498979587, 1.3208505481353843, 1.3080707275188088, 1.290173740117022, 1.277550679204004, 1.3663283226429805, 1.3610060125854153, 1.3418781903152814, 1.3239035222294053, 1.3571956092953008, 1.3478165179878052, 1.3341940896046092, 1.3122576574403544, 1.3176232784716013, 1.2702913585423699, 1.2882479109618068, 1.2282939827160764, 1.3275350652709572, 1.3221869843667504, 1.2975998691592263, 1.2915223754587388, 1.3060226922456648, 1.28987555762559, 1.2820948619270545, 1.25932249703619, 1.3267499181263576, 1.3353406064498308, 1.2961895275105437, 1.3049240833926545, 1.341631460752643, 1.3019142271303683, 1.3117090101662943, 1.2686930784005526, 1.3539071610460742, 1.3539862495775363, 1.3247744383813793, 1.3226334953386472, 1.3568439006443833, 1.3456944019179786, 1.3392962390287209, 1.3095424642082274, 1.3005409983935208, 1.3117657401764415, 1.2871604786386879, 1.2794609228510097, 1.3017048614247386, 1.3031626433025936, 1.2715847641542537, 1.2652988057980634, -10000, -10000, -10000, -10000, 1.381902382429461, 1.330114129455215, 1.3559862288203235, 1.2974031785638391, 1.3739258232766034, 1.353661730618973, 1.3530830210719755, 1.3103400188647778, 1.336736393428302, 1.3190703719714234, 1.308785863685812, 1.2762055841621216, 1.3572621363580186, 1.34889050304733, 1.3403159570025114, 1.310255801297392, 1.3512676769250829, 1.3242853578075366, 1.323345158071226, 1.2852774833911869, 1.3288524648215327, 1.3097354935198218, 1.3176743360676044, 1.2772423399044626, 1.3614610035144155, 1.3436072642153447, 1.3319060233229276, 1.312221650457641, 1.3356684043559017, 1.3386807096517575, 1.310873678768386, 1.2926824416953868, 1.3541276117958743, 1.338606544996753, 1.3282889866124028, 1.3058054879140875, 1.3038496407060098, 1.294813253516307, 1.287852244728886, 1.2639559010467665, 1.3167126719822646, 1.3185884047629313, 1.30036953557552, 1.286476112051562, 1.3219465893715845, 1.3178190504416791, 1.2930470082538716, 1.2870059494717836, 1.3390936442777661, 1.3397998027015356, 1.311600086385467, 1.2994882895973046, 1.3576591850884485, 1.3440630801619418, 1.3059768778604777, 1.2843575085442722, 1.3654267223944005, 1.3583159210711386, 1.3285048101199999, 1.3030620726736086, 1.3949941127282162, 1.3921677655614282, 1.347544109272321, 1.3305344589898698, 1.3947795140577859, 1.3721924444203837, 1.3432535258899665, 1.3172163276157896, 1.3787708118133666, 1.3697776094018668, 1.3311361771312096, 1.3008405688883455, 1.330330597143094, 1.3497802538856996, 1.2981353188429674, 1.2953983943103247, 1.392296000109253, 1.4030508261266756, 1.3452064667093144, 1.3433655256076587, -10000, -10000, -10000, -10000, 1.3980543157970553, 1.357183556193255, 1.3457542154062554, 1.3044914388499032, 1.3477314645176388, 1.34287756727351, 1.2959178970504677, 1.2801596357563407, 1.4120488740111883, 1.382788408474202, 1.3627375945335003, 1.3282849506486132, 1.406380889987485, 1.39330276984351, 1.3553395248374316, 1.3397705406149711, 1.36075102613002, 1.371127367962261, 1.32578968128793, 1.3142922102558365, 1.3255721027430738, 1.337093298680226, 1.2898590954625457, 1.2840466231279342, 1.3891515241670538, 1.3660319991412475, 1.341170619803695, 1.302051986002711, 1.3802243652948014, 1.3807655723645462, 1.343850190952504, 1.3231507587401758, 1.3537399378485815, 1.3489957295840702, 1.3215760926213216, 1.2946176507577445, 1.4075665830804027, 1.4002776537681394, 1.3551377246079905, 1.3474292209639538, 1.394379632428635, 1.390184384764654, 1.353867863325816, 1.3294651313510386, 1.357456695572334, 1.3151369692953436, 1.3066375960283751, 1.2445564389734651, 1.3617797406478438, 1.3638190444285616, 1.3262012747435885, 1.3074128045784459, 1.341088802346786, 1.33018479016544, 1.3060210745634588, 1.2774992401175715, 1.3669951290390214, 1.3758305846557872, 1.3144837418155306, 1.322707120734621, 1.381998568421099, 1.3418798130120275, 1.3294452703606268, 1.2889086763223099, 1.3904727426649586, 1.3964637703644043, 1.3488297343742048, 1.33739313780125, 1.3978753570058184, 1.3856676193861577, 1.3492246540083717, 1.3313146524098955, 1.342842086586946, 1.3518510810022697, 1.2926046813397973, 1.2989732213311158, 1.3420620788199016, 1.3423111796162623, 1.2894444512163865, 1.2894507147346692, -10000, -10000, -10000, -10000, 1.419775017050437, 1.3715491940015454, 1.376000199730687, 1.314739281384251, 1.4149552561811554, 1.392982398177855, 1.3647803456120582, 1.3371106200788256, 1.3767536062273347, 1.36067991830323, 1.326086246649547, 1.2986720002929943, 1.3993567008274383, 1.388108901276802, 1.3480366830176558, 1.3346967866978101, 1.3900505791501108, 1.3694818148871803, 1.3428196214299044, 1.2993161237637962, 1.369511541315943, 1.3499912591316574, 1.3248507986202096, 1.2965532831897657, 1.4013724910202132, 1.38423305990774, 1.35025347291838, 1.3302829868571477, 1.3762471870196844, 1.3782028862561027, 1.3254874271984405, 1.3205295844038276, 1.3937021760494548, 1.379246594967974, 1.345242999647217, 1.3245998459180157, 1.3424203592937762, 1.335144623461785, 1.3013143209270406, 1.282256402471254, 1.3523530829444268, 1.3593993023583626, 1.3192138252934345, 1.3045984717529633, 1.3559465381384306, 1.3591938339002185, 1.3215276290083784, 1.3034322186971883, 1.3793590679613166, 1.3801809810190728, 1.3282154442645417, 1.322765375558299, 1.3137151983533892, 1.3014672836873067, 1.3079023707285016, 1.2831955102517114, 1.340561841375465, 1.3331325799449107, 1.3256518533004547, 1.313899840920824, 1.3387660531475019, 1.3158664520153944, 1.3248002238959224, 1.2940197774638906, 1.3241936584120495, 1.3086494571221343, 1.309946287253963, 1.2848442825570574, 1.280330251230208, 1.2931428363004975, 1.274458332510426, 1.2757440569857659, 1.3382464247504382, 1.344309526891317, 1.3211980708144877, 1.3285329062637665, -10000, -10000, -10000, -10000, 1.3410601923388117, 1.301234085928046, 1.3330303172549105, 1.2831693437135865, 1.2918936421025276, 1.2833600219613834, 1.2755644013101803, 1.2648997565925229, 1.356480833207778, 1.3263671039198075, 1.3455025977879258, 1.3067688065728298, 1.3499235297059209, 1.337384339361582, 1.3411920194682332, 1.3164940582063687, 1.310835524171408, 1.3135389566424516, 1.2958073631365536, 1.296702451541027, 1.273632596655517, 1.2808771122110199, 1.2734367303877265, 1.2639874503502952, 1.334086082950913, 1.3073602007269163, 1.3229138249798862, 1.2778937578598684, 1.3281190469878066, 1.323423126943196, 1.327309135336023, 1.3021269955177597, 1.3050057070161682, 1.2922521403582172, 1.2885169101255443, 1.275763227425593, 1.3512299946640016, 1.3444050973253978, 1.3372438281529921, 1.325212709449744, 1.342370468334266, 1.3313314103383411, 1.3281245318124095, 1.3133454357368175, 1.3018424176086902, 1.2540764055475146, 1.2866555341505026, 1.2246856043315832, 1.3098543048373705, 1.3067781980331188, 1.3099498298856584, 1.2866171607436954, 1.2890263806016224, 1.2740585864324876, 1.2918390573975604, 1.257509244566105, 1.3106762546662143, 1.3205664573938116, 1.2962884389639953, 1.2953870381069792, 1.3256419968733524, 1.2868377504991724, 1.3114452857611905, 1.260244112126707, 1.3378571093369773, 1.3383000537168148, 1.3252915491477912, 1.319511580334396, 1.3416185714151274, 1.3296161040203718, 1.3384831016335954, 1.3073480690072146, 1.2872273492502595, 1.2956860192417325, 1.273818912047113, 1.2788787864882774, 1.2858246957252453, 1.2884002902311975, 1.2704232666201287, 1.2525732672417496, -10000, -10000, -10000, -10000, 1.3657820128097478, 1.3144349247663536, 1.3583671198805167, 1.293663654156486, 1.3585867376880199, 1.3372054551377497, 1.3517467952338589, 1.307980829693282, 1.321126637992127, 1.3022423534940144, 1.3065100377404972, 1.2768102471032607, 1.3430874680530263, 1.3320882447917126, 1.3319141073260738, 1.3124293422081037, 1.3354400006440486, 1.3084875150610626, 1.3227069304519619, 1.2798015848725428, 1.3143123135958004, 1.2937851138392271, 1.3144007708195868, 1.2756167624590036, 1.345540574316163, 1.3278737130978144, 1.331280207923832, 1.309439379257273, 1.320538997659362, 1.320996799345772, 1.3063277373023379, 1.2983684917006886, 1.3380991909092872, 1.3228863151942925, 1.330016112590656, 1.302334544202758, 1.290160360942908, 1.2789449479277153, 1.2762238452896097, 1.262398977970368, 1.3022403369326716, 1.3026176228125659, 1.2944396776974911, 1.285161319512819, 1.304892158857111, 1.3022105166979867, 1.3011549865434748, 1.283529256553202, 1.3231712431243137, 1.3243065842752966, 1.3118471997396521, 1.2911968143584605, 1.3493309218253304, 1.3537298674837424, 1.3408701064328317, 1.3308693605722972, 1.3508085317499468, 1.3311790541860893, 1.3386578939881328, 1.3141252323053765, 1.335781583637837, 1.3266396850351383, 1.3241225766810376, 1.3061909578235578, 1.2915237629008558, 1.3063947331951735, 1.2814802143100494, 1.2923592207693417, 1.3501870024714793, 1.3588616298639238, 1.3377301274125943, 1.3435325164418825, -10000, -10000, -10000, -10000, 1.346063396830416, 1.3158298900486711, 1.3429462815882036, 1.3001341897905636, 1.304589932041847, 1.3013033947674075, 1.2913503265390558, 1.2816465405723805, 1.3607146123996683, 1.3444533139896313, 1.3580887631964367, 1.324472806827834, 1.3601978570001159, 1.3520709785776674, 1.350832586182369, 1.3358795633690674, 1.312029951168141, 1.3294589304142852, 1.312392432527328, 1.3123873323617752, 1.2735292554257525, 1.294291030818984, 1.2774519630263885, 1.280136659292963, 1.347369500555268, 1.3199760792305701, 1.3341559926300544, 1.3050183732225387, 1.3337271358068326, 1.3388063433626307, 1.3308999314870884, 1.3217460482023486, 1.3132158175784885, 1.305758171147183, 1.3051895619882705, 1.2915515780541584, 1.3622493190731833, 1.3597306524655326, 1.3512898938881914, 1.3430278053430895, 1.3512722566288675, 1.3472158656553594, 1.3427481605132332, 1.3300271776604093, 1.3147999165252875, 1.2684730251682501, 1.301413039925983, 1.2514476329570101, 1.3165893658487025, 1.3212746010111367, 1.3125718704757119, 1.3054057713715552, 1.293441669173599, 1.2871751650566177, 1.292506102069448, 1.2734147267369744, 1.3215395288718739, 1.3428636447071591, 1.3107068165477882, 1.3171991681871098, 1.337118860208363, 1.3070358352268479, 1.3255964493682355, 1.2836259492413133, 1.3506375990741053, 1.351570541902494, 1.337818835979187, 1.3373216608153387, 1.3436756526114104, 1.347480122866867, 1.3446717113641609, 1.3273906902331754, 1.2986779958399752, 1.3089447841756896, 1.287294902041725, 1.2949828454603816, 1.2981285167555212, 1.315459654378571, 1.285474889026758, 1.2827691690588952, -10000, -10000, -10000, -10000, 1.3751484956031377, 1.3292813354784205, 1.3670242699533932, 1.3129198819142434, 1.366318216924338, 1.3573668479202317, 1.3601813347367142, 1.3336369040664067, 1.332397021448396, 1.3240205291728002, 1.3210576590009377, 1.2989268858134917, 1.355021561099388, 1.3458666566770208, 1.3433825584014505, 1.3309049768982297, 1.3480119259062817, 1.3232574837559525, 1.3354134531555841, 1.305893613298267, 1.318825747737736, 1.3077433619831145, 1.3173999087939774, 1.292777397224892, 1.3510519511344574, 1.3475784779457491, 1.346482463837151, 1.3258696616170196, 1.3313220430184671, 1.3403030600521348, 1.320607308780265, 1.3184808455307453, 1.3457808403549933, 1.3385895207982852, 1.3395306506319944, 1.3212584647590442, 1.2942681060612378, 1.2922351774313043, 1.291381319255111, 1.2782725541745368, 1.309418118307692, 1.3163652764263283, 1.303794893442656, 1.301743283579098, 1.3178708803993382, 1.3153189660374514, 1.3060384313200604, 1.3012739710700367, 1.3350422515000004, 1.3413169248978827, 1.3234560855939943, 1.3207283924343105, 1.3760341134057175, 1.3581097314302855, 1.373271202650375, 1.3391756489649973, 1.362226094248863, 1.3502143897821055, 1.357279378790189, 1.3325037648349807, 1.3174581071559037, 1.3321522478622447, 1.317698020624757, 1.3235110595849773, 1.3757064111122812, 1.3849540267106841, 1.3714206229886636, 1.3723611857090598, -10000, -10000, -10000, -10000, 1.3812692508542688, 1.3398438252785234, 1.3723751996943232, 1.332081370631661, 1.3304891531545973, 1.3254975566351914, 1.3233272145955195, 1.3079487333561035, 1.3964948643742532, 1.3645773350516746, 1.3871807478962075, 1.3574124353892891, 1.3864261214887161, 1.377583277578418, 1.3874525939163898, 1.3645556499263993, 1.3484144151710113, 1.3527049143501364, 1.344456770721385, 1.3438170713973192, 1.3083997145663666, 1.319838696802156, 1.3169394687215332, 1.3114931858738563, 1.3730142996398187, 1.3460567530350986, 1.366610142406759, 1.3343673364069752, 1.3681074586267128, 1.3619383159853249, 1.3621536811245873, 1.3533891296846754, 1.3437331616074801, 1.3311244241191118, 1.3361583603149418, 1.32315307239386, 1.3875489261767497, 1.386011839630531, 1.387377956781626, 1.3696793228910176, 1.3767802837795444, 1.3731631754441695, 1.3817520322368266, 1.356604955031122, 1.3401027117670972, 1.2988886873837866, 1.334228165370225, 1.2704801196316875, 1.3458410329892176, 1.3462754871820868, 1.3511360281734106, 1.3354047961653235, 1.326533362610104, 1.3129237163731813, 1.328545408862949, 1.3049523971678345, 1.3498342866067892, 1.3581983122715724, 1.341760473264998, 1.3508109875065726, 1.3635337087468895, 1.3299710972360077, 1.3589886591881901, 1.3070642003433528, 1.372541908818073, 1.3796086553793612, 1.3773045316587575, 1.364223083173778, 1.3786015124072613, 1.369289738035539, 1.3801236153325416, 1.3572544823791548, 1.3195540306888816, 1.335222141201268, 1.3304999698523892, 1.32533033537236, 1.3244317140706992, 1.3317756860382937, 1.3175384859507226, 1.3052184313199569, -10000, -10000, -10000, -10000, 1.4035536212616169, 1.3538098884316543, 1.401531805681835, 1.3430766445737796, 1.3967202817073914, 1.3770263746320492, 1.3938935985830891, 1.362336914407642, 1.3589298108169923, 1.3461555142865507, 1.3544912983040533, 1.3214894854282828, 1.3789115048133063, 1.3727602057018244, 1.3810056056531814, 1.3588359790857383, 1.3735698449785776, 1.3497224696271084, 1.368846432149971, 1.3313359756361605, 1.3509633018416665, 1.3328698889045347, 1.3544374006886228, 1.3237733576836794, 1.38260077161707, 1.3683065416243443, 1.3803116431197164, 1.3554332486901621, 1.3584428952871646, 1.3624372708833206, 1.3538597758584987, 1.3454481979330535, 1.37738890149341, 1.361539940047536, 1.370994623314726, 1.3528525997302472, 1.3236239924470188, 1.3179265100622606, 1.3312863209079184, 1.309637514190585, 1.337260972289958, 1.341906109590394, 1.3426459392792292, 1.332482256763175, 1.3453027651051879, 1.3408049705248555, 1.33724592107104, 1.3328848758097325, 1.3627908770009942, 1.360725787930722, 1.3544446460719297, 1.3540924066094706, 1.3615279365664021, 1.3453117859203543, 1.3380321736387946, 1.3203865082179362, 1.3140978119877493, 1.3306116886614423, 1.304834600133852, 1.3055322096040531, 1.3753684630576517, 1.3815557986165075, 1.3515016235883706, 1.3577703874853868, -10000, -10000, -10000, -10000, 1.3774064754620723, 1.338565473031629, 1.3592919716733856, 1.3136695213345435, 1.3288744736436509, 1.3229549795005093, 1.3057141622223372, 1.290842734717839, 1.3912589219127387, 1.3648972042544316, 1.376954271640598, 1.3356909348318446, 1.387323257561699, 1.3744344825351271, 1.3656592946728454, 1.349373924007113, 1.3454419208591613, 1.3513272788498405, 1.3301784833669181, 1.325457501846707, 1.3058496110863664, 1.3181757948262036, 1.3035249131486117, 1.293815788020745, 1.371543951888647, 1.3438505538112209, 1.3487973594833145, 1.3173725324722518, 1.3651261186534422, 1.360651822475239, 1.3476129545789421, 1.3348837305989067, 1.3357210331948295, 1.329980525163804, 1.332072180587382, 1.3044262801258517, 1.3869578357217303, 1.3831468497660262, 1.3685762192224162, 1.3534293285091121, 1.376783454910656, 1.3703527370355255, 1.3624129012340922, 1.3402073221423092, 1.3392299542294785, 1.289163787794564, 1.3152210080784625, 1.267095881901235, 1.3453809910501222, 1.3443202328149395, 1.33282607441533, 1.3179924539112977, 1.3225380596677256, 1.3112467525146614, 1.317280097897695, 1.2873575774377768, 1.347365707674508, 1.3597584559477085, 1.3258322152516113, 1.3264244172037771, 1.3631384973906602, 1.3226046113137198, 1.3391547331419003, 1.2994469475915924, 1.3739893091479847, 1.376088945506127, 1.354869104961662, 1.349496801671392, 1.3768901733515184, 1.3676172826296165, 1.3639392620654545, 1.3390775456519843, 1.322649832000763, 1.3330439853558491, 1.3054352791217192, 1.3085292355184357, 1.3230641717761795, 1.32446048184106, 1.2994384925272802, 1.2969780046943715, -10000, -10000, -10000, -10000, 1.4025671715619599, 1.3517963931068544, 1.383308862467815, 1.325807341592891, 1.3963334043576292, 1.3736298295754823, 1.3742840653843826, 1.3474471623242539, 1.3579206963381687, 1.3412467132633419, 1.335976010231453, 1.3084054840360788, 1.3789200286029297, 1.3700665252999478, 1.361249693984477, 1.3425614969005422, 1.3714388670464146, 1.3494891737051349, 1.3526732930034344, 1.3092081839403855, 1.3473442034597696, 1.3313817123442941, 1.3425791957551412, 1.3056191222156448, 1.379357094789005, 1.3679837057970357, 1.3668442812479986, 1.3342723170855044, 1.3562445030147692, 1.362139077914509, 1.3378495567323303, 1.323655089821133, 1.3743955933689045, 1.360488482930541, 1.3564172517844324, 1.33382863514225, 1.3279245090125427, 1.3161085035919222, 1.3032007989463819, 1.2922974441419497, 1.3396079587378562, 1.3397730533799688, 1.3183879119168835, 1.3156513144910076, 1.3426928847324473, 1.3392799186228626, 1.3216201085973558, 1.3149746864257632, 1.3592825405711872, 1.3649117788149705, 1.3406859428891988, 1.3242360454317965, 1.2995882771265859, 1.3159977804698082, 1.3023913291975702, 1.29765479949097, 1.360773146441717, 1.3669369480822209, 1.3440062883043844, 1.3503815969279687, -10000, -10000, -10000, -10000, 1.3611560361065025, 1.3242662089151453, 1.3592991725684325, 1.3048321350532202, 1.314282337222306, 1.3081822174426798, 1.2984664132716162, 1.2809160252705594, 1.3766121416505896, 1.3503147315599673, 1.3731182423738852, 1.3262041536364884, 1.371672560109272, 1.3604217393622582, 1.3624129898911617, 1.3395412441241914, 1.3302027974364419, 1.3368723473760933, 1.3279257671067475, 1.316772645951453, 1.2940645916356361, 1.3035007461497239, 1.2947223142694568, 1.2864006304709972, 1.3565606284401717, 1.330166709799741, 1.342977485375561, 1.3059487975067328, 1.3487122676830419, 1.3466005470772977, 1.3483730844596205, 1.3249184849088727, 1.327427480937547, 1.3148359041412654, 1.311390102597212, 1.2981077491856101, 1.3716048432439953, 1.3693484467707995, 1.3655566625070565, 1.341196708496202, 1.3633076973206142, 1.3549929067505957, 1.3547306393786809, 1.3329149050392224, 1.3243215962602477, 1.2775575001329986, 1.308695541194215, 1.2505013021834885, 1.3334357527702778, 1.3291254892021231, 1.3208111826179154, 1.3115550896410373, 1.3110571438688488, 1.29663129867397, 1.3064139286892278, 1.279919814090447, 1.3328268489168176, 1.3448764442354766, 1.3190045516640583, 1.316408194754005, 1.347886230495483, 1.3108493546950166, 1.3337609652829197, 1.282940705864296, 1.358579724640364, 1.3619544707165143, 1.3517645903934792, 1.3395022388936537, 1.3641730716378389, 1.3521942742932382, 1.3542991159913855, 1.3325776015997026, 1.308176646488862, 1.3184246252853935, 1.2999701848481076, 1.300875813118007, 1.3083895744496796, 1.3110805285707423, 1.29228997825868, 1.2841956375430859, -10000, -10000, -10000, -10000, 1.3888495894323756, 1.3367716018575508, 1.3746312967917993, 1.3189389353550907, 1.3824994942130813, 1.3580055103968691, 1.364967133348976, 1.3424648980365341, 1.3432184064726833, 1.3271025586490057, 1.329531644725774, 1.296160860035171, 1.3664639901652564, 1.3541788931882843, 1.3490342999880034, 1.3379558569168601, 1.35722477930133, 1.3336118471469747, 1.3457962079345611, 1.299904169063253, 1.3381914901419802, 1.3162236055018077, 1.3242938555698949, 1.2992685378227917, 1.3666575143789084, 1.3517140916973163, 1.3573069038842838, 1.3286473946043253, 1.3423728274180045, 1.3455549228710453, 1.329990175431778, 1.3173142524670485, 1.3601977431000571, 1.3456856983645253, 1.3497746012778107, 1.3259906881500179, 1.3133906028178117, 1.3015012296551354, 1.2951921633802452, 1.2848615033724045, 1.3232951376558284, 1.3253574680764806, 1.3174648334511523, 1.3074762751069025, 1.3285118717593107, 1.324601239602695, 1.3137926669963138, 1.3075913773840067, 1.345727043118417, 1.3469265856387858, 1.3317209424475969, 1.321667892734362, 1.310052121429397, 1.3340547177318287, 1.3299987061414071, 1.3346875777064249, -10000, -10000, -10000, -10000, 1.3160640219694382, 1.2818059574390834, 1.3336956100015165, 1.2921046872252162, 1.2715822563960715, 1.2631670579025422, 1.283062631346147, 1.274245417661581, 1.3267866991827666, 1.3113638109282624, 1.349140544142224, 1.316661717013676, 1.3274027918534732, 1.318340398879238, 1.3422567717258307, 1.3278594535512764, 1.2894701483096276, 1.293489364402574, 1.3022617898691653, 1.3046204199997722, 1.2459464884750342, 1.2607562124999563, 1.2675037715912032, 1.271957865748666, 1.3134856362488319, 1.2877849212038934, 1.3259415687554812, 1.2967803908546818, 1.3046892907991445, 1.3040794361594206, 1.3215466606798945, 1.313871852597819, 1.2804455573195797, 1.2723131596890807, 1.296518341669573, 1.283368725984205, 1.3215958224611724, 1.334182743802896, 1.343498600818174, 1.3343420686859613, 1.3167232745933481, 1.314596209632044, 1.3342640577955267, 1.3219813349073084, 1.2817412751436237, 1.2317784823768354, 1.2931399718717314, 1.2437396322507603, 1.2824259551761816, 1.28805349153218, 1.3037407800742988, 1.297319527618764, 1.2654657042807491, 1.2537662753667465, 1.2829300506487407, 1.265197698463338, 1.2899901306627324, 1.3018506343302083, 1.3021264751166133, 1.3104630863525502, 1.3017702093480057, 1.2822697651811832, 1.317389750454167, 1.2753404428022985, 1.3176480554831058, 1.3179427616828088, 1.3295002696411924, 1.3291574179432704, 1.3176029727916785, 1.3109205488556332, 1.3347979851971532, 1.3198845735599218, 1.2665816831051604, 1.2754189667607334, 1.2787997725135494, 1.2867898750536164, 1.2654659860194428, 1.2690970968246345, 1.2771167938327284, 1.2769809976069055, -10000, -10000, -10000, -10000, 1.3417418958090486, 1.295896327308085, 1.3584144088339105, 1.304882002035817, 1.3360797229020975, 1.3198126767606224, 1.351161522283678, 1.3264696340140087, 1.2998459041801582, 1.2866123867069406, 1.312598459750754, 1.2918421007728598, 1.3137378140532814, 1.317181121110464, 1.335692619330204, 1.3223668395477586, 1.3124850154559657, 1.2967988741388559, 1.3272969930009466, 1.2973319727032095, 1.295791070233038, 1.2733021407295073, 1.3074345430002094, 1.2847328205830215, 1.3183145596710706, 1.3136151584390425, 1.3375676171273916, 1.318253857407596, 1.2974484313280579, 1.3082095029087109, 1.3122179336893334, 1.3107127023871294, 1.3096509800472937, 1.3065209391582544, 1.3310236215733764, 1.3131753127503787, 1.2566712346381026, 1.2589372603088111, 1.2827657076288457, 1.270060100402437, 1.265163954921642, 1.2841828093793566, 1.2959404406956174, 1.2934811695418242, 1.280383458238878, 1.2826311572012656, 1.2980366233394434, 1.293014969301003, 1.2989491517339447, 1.3166175357798713, 1.3153176273251712, 1.3122406269301585, -10000, -10000, -10000, -10000, 1.3774025481009748, 1.33751758993043, 1.3857757993262565, 1.3433286357384042, 1.3278510601186602, 1.323793065733852, 1.3348696225846974, 1.3200651805041392, 1.3894896714984466, 1.364512793982473, 1.4046485105665512, 1.3656787396895955, 1.383704812487771, 1.3751020350681018, 1.397711352216977, 1.376893784060376, 1.345475834909335, 1.3502249193053046, 1.3558379756236474, 1.3554510828656952, 1.3068483325277145, 1.3172455429532501, 1.3244336668638934, 1.3231792339245694, 1.3685591874061298, 1.348094556625495, 1.3803373530181677, 1.3407247929800286, 1.36221682455724, 1.3603888568952254, 1.3776321448833733, 1.3637809262056815, 1.3366705601850584, 1.328940032563397, 1.3534040474235622, 1.3342551946855692, 1.38430951768443, 1.3841688014901694, 1.3984995608911284, 1.3817657551972298, 1.3777607587889684, 1.3682265009863843, 1.3866282112285688, 1.3726684594321463, 1.3378326772617082, 1.2933665285951612, 1.3450834925061026, 1.2893000945541606, 1.3446232575547339, 1.3434083430266974, 1.3587561293405488, 1.3478682153573085, 1.324633324000409, 1.3103534797160585, 1.337591283558522, 1.3165457659018542, 1.3454202887570088, 1.3632649811227644, 1.3557186835485666, 1.3525820616571576, 1.360760125386629, 1.3283085935640062, 1.370259477095073, 1.3200364718577, 1.3713475802890551, 1.376235282823922, 1.3849851258436698, 1.378097213923296, 1.3799212112247417, 1.3650390031626047, 1.3851533155029996, 1.371677097940251, 1.3240726310916107, 1.3319216671992953, 1.3298576239655011, 1.3381793434836542, 1.3218989582539458, 1.3285782361861243, 1.3289011792344878, 1.3207644494949715, -10000, -10000, -10000, -10000, 1.396740255338642, 1.353245223269109, 1.417517810998224, 1.352585258235215, 1.3916659299250518, 1.377739789604804, 1.4077766430892127, 1.3708896786802247, 1.3563939008093486, 1.3434333983737865, 1.3654414345379724, 1.3361093689065209, 1.3790941783342183, 1.368551571994993, 1.3873858788498992, 1.3735255563794957, 1.3722185739484496, 1.34320254191379, 1.3783366530016468, 1.3497255171162292, 1.3435758169561767, 1.330789990197606, 1.3702216914390024, 1.334933387790965, 1.3794074458770837, 1.366284156745908, 1.3917340336130837, 1.3671609813644947, 1.3555603283221036, 1.3607166537808202, 1.3652758105660625, 1.35749018532711, 1.3703911238830409, 1.3611128118191675, 1.387957439292676, 1.3618389072836097, 1.3275223789070187, 1.3152137870661695, 1.331990860739755, 1.3214662050314416, 1.3358364100411588, 1.3392106318486179, 1.3505140496941919, 1.3444815799903933, 1.3382853508107635, 1.3390017717582412, 1.354515880794552, 1.343492970916879, 1.357840343555685, 1.3658243296904526, 1.36913219521839, 1.355694954109746, -10000, -10000, -10000, -10000, -10000, -10000, -10000, -10000, -10000, -10000, -10000, -10000, -10000, -10000, -10000, -10000, -10000, -10000, -10000, -10000, -10000, -10000, -10000, -10000, -10000, -10000, -10000, -10000, -10000, -10000, -10000, -10000, -10000, -10000, -10000, -10000, -10000, -10000, -10000, -10000, -10000, -10000, -10000, -10000, -10000, -10000, -10000, -10000, -10000, -10000, -10000, -10000, -10000, -10000, -10000, -10000, -10000, -10000, -10000, -10000, -10000, -10000, -10000, -10000, -10000, -10000, -10000, -10000, -10000, -10000, -10000, -10000, -10000, -10000, -10000, -10000, -10000, -10000, -10000, -10000, -10000, -10000, -10000, -10000, -10000, -10000, -10000, -10000, -10000, -10000, -10000, -10000, -10000, -10000, -10000, -10000, -10000, -10000, -10000, -10000, -10000, -10000, -10000, -10000, -10000, -10000, -10000, -10000, -10000, -10000, -10000, -10000, -10000, -10000, -10000, -10000, -10000, -10000, -10000, -10000, -10000, -10000, -10000, -10000, -10000, -10000, -10000, -10000, -10000, -10000, -10000, -10000, -10000, -10000, -10000, -10000, 1.331947616390778, 1.3249944196877619, 1.2910983690299176, 1.2819715510701393, 1.386477881703569, 1.3722809198117818, 1.3583093079258175, 1.3240218597958457, 1.3919702145868287, 1.3764932864277721, 1.3498222705772147, 1.3361256368579044, 1.3394150566718608, 1.3564699996561385, 1.312360250405375, 1.3121365915816847, 1.301840957169345, 1.3213437745418224, 1.2773060259619982, 1.2799263855345815, 1.3698720942163032, 1.3582393978671814, 1.3348089248523185, 1.30270639202566, 1.3597433038649003, 1.366216393941862, 1.3310700345197282, 1.3214211677793102, 1.3282756106244857, 1.3338677203091727, 1.3073147797645857, 1.291143567886473, 1.3859239206565173, 1.3904953724424758, 1.3517617587449906, 1.3420838908969128, 1.3760659833382745, 1.3758267880558654, 1.3430518061286485, 1.3294764632586427, 1.3406547702514273, 1.3077255319322214, 1.3014386109534057, 1.2489171900925926, 1.33820159869952, 1.3495689007510177, 1.3135427065796872, 1.3049358620841138, 1.3154656095999433, 1.314273972911675, 1.293451194488307, 1.2732023845680338, 1.3509604589213897, 1.3602763335227226, 1.3101102887799323, 1.318594450141389, 1.3644690555796002, 1.3329407710455632, 1.3253742774147785, 1.2834764797379532, 1.379018184216136, 1.3778929421884514, 1.337383279361413, 1.3372458807202567, 1.3740847777668972, 1.3731235868488545, 1.3440866574474086, 1.3273448276529929, 1.3127289287121677, 1.337374453974247, 1.289552562386803, 1.294519244671997, 1.3259159493613026, 1.3300153926383484, 1.2851525613999546, 1.2845805131362278, -10000, -10000, -10000, -10000, 1.3996735767183917, 1.3575714646522479, 1.3673845728154295, 1.3124426049989684, 1.3952598176630673, 1.3819965926559552, 1.3597517378580708, 1.3337196992809437, 1.3611107427852782, 1.3433140708177227, 1.3205845011805555, 1.2999812199722345, 1.3726925315130072, 1.3785625997002855, 1.34496160845734, 1.329630080322082, 1.3716867171809741, 1.3614084612326809, 1.3358581842540904, 1.303562779029018, 1.3426436402544752, 1.3351571124797121, 1.3180026989375917, 1.2924864531664326, 1.3833178841820883, 1.3701369085007689, 1.3454594885391036, 1.3263717387667944, 1.3582316626470643, 1.3678532852981027, 1.320480565332308, 1.3180511229206493, 1.3789467069665906, 1.3627323820347428, 1.338312238975732, 1.3215377548394662, 1.3245635182379516, 1.3192463205363882, 1.2907532538118338, 1.2780732004041515, 1.3318299224286885, 1.34396835752671, 1.3045902292803908, 1.3014227558867812, 1.3356322064640678, 1.3440045667948497, 1.3075974507035588, 1.3007613195518979, 1.3629534045420237, 1.3657347329283762, 1.3231283583771214, 1.3209026065316332, 1.34658057905926, 1.3163498556494564, 1.3454896446686997, 1.3032227290034828, 1.3401378656601968, 1.3273018411512747, 1.3410615915498072, 1.3130075668836305, 1.3006621011996655, 1.3036111160490755, 1.2968286009834533, 1.293647252303166, 1.2646357293911574, 1.2708780054121138, 1.2684959224224692, 1.2617814806483056, 1.3243510612386706, 1.2967992710392486, 1.3207487062536782, 1.2753621646272655, 1.3196310169459449, 1.3129921564174496, 1.31573112630902, 1.3027087388883722, 1.2950499950016212, 1.2822754428700347, 1.286006623756193, 1.2735119820010312, 1.3407478905178254, 1.3349777797481288, 1.342678056500895, 1.3146171412144025, 1.332143388872642, 1.321524583281235, 1.330259962482311, 1.3081323197025703, 1.2919992221531476, 1.2427948276414473, 1.2835077937494144, 1.231095544557613, 1.301708415862504, 1.2963981382969623, 1.294670244242294, 1.2872257676672998, 1.2808622160780412, 1.2640778694806027, 1.2783541388208484, 1.255272732846627, 1.3007026771546717, 1.310585334207822, 1.295211949211469, 1.288172106119934, 1.3156723597400997, 1.2768388570480869, 1.3104304973973497, 1.2524319494085259, 1.3283366773354985, 1.3280585461131182, 1.319672326073356, 1.3192020687147636, 1.3328652027973755, 1.3191123366518869, 1.3288383389658223, 1.308267410587857, 1.2764496364077795, 1.2857939184542728, 1.2832366349825504, 1.275399210648419, 1.2759654721567055, 1.2763656093524762, 1.267349536237046, 1.2645651863525433, -10000, -10000, -10000, -10000, 1.3559625340626082, 1.30438645980729, 1.3594144829155357, 1.2898256763871352, 1.3492680227011025, 1.3263641124608054, 1.3469432257263818, 1.3090511371948366, 1.3111307728893593, 1.2923667479170002, 1.3055766216255202, 1.268146573533395, 1.3327466176298204, 1.3223313503946594, 1.3372285278641376, 1.3056336750375381, 1.3257114048905159, 1.2977121220558094, 1.3195611796922408, 1.2803686802434715, 1.3058546025020312, 1.2836563463935131, 1.3029671761745831, 1.2742733357370244, 1.3352507781179586, 1.3181734311037763, 1.334181670542356, 1.3026518448239033, 1.3104437922009433, 1.3113456416840594, 1.306854941447833, 1.2885526092863278, 1.3284466509457986, 1.3127553883672145, 1.328616436510194, 1.2996414743364952, 1.2789489201537916, 1.2689975445317025, 1.2906918748252436, 1.259753090392077, 1.2917270943876864, 1.2927025020361786, 1.30383019194382, 1.2815911661920896, 1.295653839333548, 1.2921088074009877, 1.297150466902381, 1.2815555634313283, 1.3135406218126637, 1.3132231539518993, 1.3083053992748441, 1.2930127059066252, 1.3964922132854833, 1.3975514137389335, 1.3803650943273813, 1.3579051654512395, 1.3635538354075951, 1.3693846755719303, 1.3366430711307835, 1.3372475473501184, 1.3307134263601974, 1.3360765120388307, 1.2997207095952379, 1.3049405610032974, 1.3891299595368078, 1.3630946354237958, 1.3592942890751096, 1.3287966274867533, 1.38096741516395, 1.3794023748887139, 1.3564818040447855, 1.3462319018164728, 1.351889968328954, 1.3482105398500919, 1.3338350808609185, 1.315961412081538, 1.4037753245350961, 1.402565407994577, 1.3773277847574588, 1.3663721369634025, 1.389731915150942, 1.3918375726015841, 1.3713452385083917, 1.3521978389811116, 1.3566100405549697, 1.3140470675782443, 1.3264642970803777, 1.273136526102396, 1.365418569129521, 1.3619519765029968, 1.3368520103948014, 1.3302513090950308, 1.34374475836815, 1.3293048002594792, 1.317003710098808, 1.2981585369945252, 1.3659235965629106, 1.3757995427627903, 1.3351751802331555, 1.3430783326442448, 1.3802042434805646, 1.3450902044731536, 1.350562817726781, 1.3073844942727293, 1.3907105939638877, 1.3949460924829653, 1.364043657349223, 1.3611961945497462, 1.3890064389176082, 1.3882609111294535, 1.3726324780147137, 1.3507411572723793, 1.3301725525852484, 1.3522015757710322, 1.3188488163750431, 1.3190220659333032, 1.3405677751030884, 1.3525625921197366, 1.3104207598367694, 1.303905384207746, -10000, -10000, -10000, -10000, 1.4127543217074447, 1.3735834801247648, 1.3962392411656785, 1.3355524520502777, 1.4157672210052357, 1.3898947927867225, 1.3833902994530427, 1.3604047832283834, 1.3758028654697683, 1.36020163351446, 1.3459055182800483, 1.3231692584984434, 1.392580397095656, 1.3907628806014851, 1.371427591356108, 1.3536788298008058, 1.3899545587065483, 1.366102774276424, 1.360658319936804, 1.3290069840126844, 1.361726278490924, 1.349822995957006, 1.345907517309854, 1.317139051814367, 1.3976758621290424, 1.3858325633541875, 1.3718190379367199, 1.350094571752038, 1.3725008971414625, 1.3850898166420689, 1.3469243740751076, 1.3389810957824366, 1.3902107192756192, 1.3796452022223042, 1.3655330851204954, 1.3453927922875883, 1.3346283488513069, 1.334430456270041, 1.320824968824935, 1.3029104999876235, 1.345960513231124, 1.3591453813639645, 1.3344612620297527, 1.3258267877879963, 1.3608745218951257, 1.3573282363140127, 1.330945383475206, 1.3259888323242988, 1.3782577631887625, 1.3800597535043535, 1.3483273263901976, 1.3450588810553024, 1.3526974351067111, 1.3641791157413348, 1.3501059272054792, 1.3474937857726672, 1.309808531160972, 1.3301441807428844, 1.3188767002748314, 1.3156011562395746, 1.3822621059612672, 1.3582090470574606, 1.3704882800435072, 1.3388569991596515, 1.376489516367382, 1.3725544679675163, 1.3663304867244745, 1.3574079057235058, 1.3416422261121443, 1.342256546513483, 1.3469703096687373, 1.32663207148575, 1.3944013754832447, 1.3996030439345575, 1.389950456522991, 1.375337522141022, 1.389352709666864, 1.3815994574533335, 1.3788806093932076, 1.365284434897506, 1.35053428347005, 1.3056148095911038, 1.3372082494690418, 1.2851959760432234, 1.3575315288779701, 1.3560134336418526, 1.348626804125403, 1.3409142991799392, 1.3342031183695515, 1.3230232076531285, 1.3297209390504094, 1.3090172749204003, 1.3574383216421166, 1.378580548817282, 1.3472850355607606, 1.3487919981067669, 1.3743739771677468, 1.3367639820681658, 1.3611684926192464, 1.3193901917296316, 1.3816110194915785, 1.3903000486987478, 1.3765102161079112, 1.3711217500526653, 1.3878229023834225, 1.3797583893676122, 1.3806282344687504, 1.3628472550931576, 1.3329198599309326, 1.344975727864489, 1.3246243977038588, 1.3304124873082683, 1.3346583588875873, 1.3394716038846177, 1.3210703314697034, 1.3185926032485962, -10000, -10000, -10000, -10000, 1.4109976883400508, 1.3651514105008449, 1.4045598781234443, 1.3476175542792435, 1.402708541434602, 1.3925347099609824, 1.3980917485898179, 1.3662049620225247, 1.3691216711388443, 1.355769986062937, 1.35699347947333, 1.3329666050510922, 1.3849156955939015, 1.3852898795613133, 1.3830910627407014, 1.364066914505776, 1.3822112063910466, 1.3645250063740226, 1.3723501288456625, 1.3371849741925526, 1.352134483839943, 1.3438655518466325, 1.3586750480111427, 1.3278107994599224, 1.3929646342175233, 1.3781610413803191, 1.3817973640201306, 1.3617327418717546, 1.3689071475393684, 1.3715255183584332, 1.3562692277472364, 1.3539419578023923, 1.38427641999113, 1.373180654352057, 1.376207713886456, 1.3563491226351996, 1.3368708082041478, 1.3279478797052633, 1.3268820305837505, 1.3138825244616155, 1.3507655786347181, 1.3516180267816627, 1.3390689648985745, 1.3373879993565496, 1.3438052848380215, 1.3528893963835014, 1.347927231879747, 1.3358016459420554, 1.3704689016010134, 1.3785857295329151, 1.3600436878502717, 1.3531821991057869, 1.281714148498097, 1.2900232764802961, 1.2878740280220264, 1.292422710578241, 1.33894632384603, 1.326880045273992, 1.3474880907141782, 1.314597128447049, 1.3287128730288569, 1.3351580711035758, 1.3440524307451536, 1.3337079764805455, 1.3110484916164529, 1.3016355427771282, 1.317348443061531, 1.303799919267042, 1.3550876061085635, 1.359210848903078, 1.3644588827388997, 1.3542670133834143, 1.3503226179230685, 1.341231905010525, 1.3545870044868638, 1.3425371034667166, 1.3105076307010286, 1.267709570237391, 1.3137516002940668, 1.2627252067369272, 1.3115301152722743, 1.3175472357347615, 1.3256626932825417, 1.317458974041935, 1.296108520314567, 1.2831855761308673, 1.3039458187969846, 1.2856585403767666, 1.3183492080007337, 1.3356748446693132, 1.3229384703553355, 1.3294803856006485, 1.33228191375049, 1.3068940489988747, 1.3381779968180723, 1.2943673471304216, 1.347152583591642, 1.347318166259016, 1.3499998437640433, 1.34959830540983, 1.3481599085779905, 1.3398529732491875, 1.3557964173286476, 1.3401152377383951, 1.292109741461155, 1.305244594181553, 1.3002969069159656, 1.307145539866712, 1.2948946922961877, 1.2984208771554027, 1.2976061648036468, 1.296967053913527, -10000, -10000, -10000, -10000, 1.3737053545366145, 1.3241205658831818, 1.3790048649483058, 1.3252842238092577, 1.3615165058441963, 1.3544973866746877, 1.3730819925864082, 1.3450079222243685, 1.3284589759778023, 1.3199047641710215, 1.3334364333672597, 1.3105115500871745, 1.3492900364778122, 1.342949064685217, 1.356169891502242, 1.3428206482491478, 1.3445691763562577, 1.3175802942038257, 1.347597799154031, 1.3183198863553964, 1.3258090658777808, 1.30266499398305, 1.3277826567935413, 1.3052069906252126, 1.3461517114950268, 1.3444227693821629, 1.35950188134046, 1.3374317009361454, 1.3276646811142754, 1.3354947357891613, 1.3329572748857839, 1.3304292488501304, 1.345930931237875, 1.332629881949632, 1.3512460774386663, 1.3337539454722136, 1.2892341073249571, 1.2882901818269237, 1.3045348916986554, 1.2904934613908507, 1.297591695228622, 1.3132713774733398, 1.3183984015422707, 1.3137215657210133, 1.3071293802828658, 1.3125145575148918, 1.3200061847875006, 1.3132184528420896, 1.3322622444335745, 1.3335224633116158, 1.3355442826364796, 1.3334624034721263, 1.3061783025465172, 1.2848837529095323, 1.3137109132513127, 1.2846361119264418, 1.3041033784498386, 1.296384421750239, 1.3089029666065055, 1.3018006352818998, 1.277095497223038, 1.2660577921225242, 1.2839867934392515, 1.271191007870773, 1.318975124429435, 1.3244766013339242, 1.3306210010027648, 1.322862468405895, 1.314860975315146, 1.3057897820969069, 1.321613296430188, 1.3100729370315807, 1.2741476337008972, 1.241277549689027, 1.2809758597836285, 1.2311234378674367, 1.27800449912182, 1.2816712153935113, 1.2909405632750046, 1.2852456456632098, 1.243850639402332, 1.2477882696966591, 1.2707694477500329, 1.2529920049222683, 1.2837785043666536, 1.2965882283582262, 1.2898868550048914, 1.2983984427266209, 1.2953519874547932, 1.27796839231911, 1.3049591779525698, 1.2641268504372931, 1.3045992294581337, 1.3160317203778757, 1.3174448142089699, 1.316863889344242, 1.3051527547208703, 1.3076736676915677, 1.322427113658561, 1.3077505678120136, 1.2535526302836348, 1.270115746807753, 1.2667232392953265, 1.274570989650088, 1.2589423173249232, 1.2719056028839746, 1.2649121749527792, 1.2647588374424794, -10000, -10000, -10000, -10000, 1.3254741292035024, 1.29470260030058, 1.3461668433366676, 1.2926962766189711, 1.32343295193202, 1.3225235779691387, 1.33891441677702, 1.3143189268985351, 1.291888725414967, 1.2898060955091553, 1.3003670944945327, 1.2797598432121644, 1.3107257674934156, 1.3093564044268107, 1.32282171740116, 1.3105580770599792, 1.3049025469626858, 1.295824020143742, 1.3149405069509448, 1.2856165739287897, 1.2818148901495983, 1.2680806720692077, 1.2954136455410161, 1.2725085604137774, 1.3198183564304444, 1.301014397708601, 1.3247376936237338, 1.3065933569585062, 1.2930422717022605, 1.2978141949731654, 1.2997857108181714, 1.2991181403797871, 1.3036813597968988, 1.3004664776558101, 1.3182582308842596, 1.3012403517080764, 1.245282740850163, 1.253030320033, 1.2698678601209648, 1.257870025897739, 1.2768218299563183, 1.2761868769984814, 1.2822122209174553, 1.2814451593156955, 1.2639063614061303, 1.2784010175216047, 1.285739015702861, 1.2808252431460516, 1.2936374871095242, 1.308289313309599, 1.3028176869893429, 1.3009824329358006, 1.3633580168481363, 1.3555104591274998, 1.3325464287105495, 1.3272122039845327, 1.3352415190705067, 1.3253002605100883, 1.3152692270834083, 1.2956509772700762, 1.3816995496338618, 1.3797783957031253, 1.3619407210225205, 1.3410289124702706, 1.3720123591476912, 1.366284122804245, 1.3549958198673835, 1.329472461842827, 1.3348792762404325, 1.2848226321831278, 1.3057982449798593, 1.2578471278441068, 1.3432312522125642, 1.339483287806278, 1.319194963496534, 1.3095209881226784, 1.3232849099966364, 1.3068809885073667, 1.297320158563207, 1.2779838095736618, 1.3426140681916234, 1.3570707172007757, 1.3176397301344518, 1.3119949075835753, 1.3583546966065614, 1.3201680009931671, 1.3307917497724358, 1.285438596001815, 1.367170956591783, 1.3731860176466328, 1.3519665567873083, 1.3362776778306442, 1.3733720008915227, 1.3629075615491255, 1.353608154576997, 1.3300707519885244, 1.3189112319975775, 1.3286310195957678, 1.2952089390209456, 1.2992071114600123, 1.318620099254388, 1.3217869957162884, 1.290282646934666, 1.2831083530743341, -10000, -10000, -10000, -10000, 1.3977218132934617, 1.347680458162031, 1.3755763467308304, 1.3156103657575091, 1.3908624063818584, 1.3707598936212344, 1.3677950597419957, 1.334189119527713, 1.3542660334613532, 1.3335765075754, 1.3250641000528711, 1.306187887837773, 1.373927331632105, 1.3661001177846948, 1.3540381943146822, 1.3318454790183476, 1.368438152307066, 1.3407582131671245, 1.3404882116481538, 1.3088237682343875, 1.3493207032006445, 1.3263909911502645, 1.3196678681914396, 1.2975804483499083, 1.3754143256620983, 1.3632785734597055, 1.3575941031889367, 1.3247287688671165, 1.3531110142350773, 1.3545106836363134, 1.3260262309318396, 1.320762006427746, 1.3679710929630038, 1.3571414599364062, 1.352669378056071, 1.3216866344499878, 1.3172181532593603, 1.311900817892262, 1.3092191392063262, 1.2825457570951548, 1.3309772348141986, 1.3358999105793088, 1.3196958378594108, 1.3050514611061228, 1.3361343855278007, 1.3353098458288701, 1.3178848532856826, 1.3045927850187433, 1.3562745520484336, 1.356243918231578, 1.3285357880226072, 1.3236574927560527, 1.3270775516461617, 1.3208500752249717, 1.3278166511591287, 1.3130621470745663, 1.3754108654417276, 1.3767064406235803, 1.3737807712911034, 1.3636621458478728, 1.3670619168160338, 1.361680686599699, 1.3647245855038461, 1.351373267951699, 1.328693478526148, 1.2943837489695111, 1.3233890860244941, 1.2693039088081912, 1.3385520865430824, 1.3347269638730213, 1.3331947350996387, 1.327220177490412, 1.3076873754521572, 1.3021726422469966, 1.3158637145533736, 1.2950076202833192, 1.336384172840752, 1.3584812175182024, 1.332696809510835, 1.3371778729749186, 1.351078961698993, 1.3265937121935085, 1.3477751380092708, 1.3026662584601296, 1.355654425627811, 1.3724142053889543, 1.3625844794196378, 1.3570636637012843, 1.369453637925426, 1.3578086236742881, 1.36472456936577, 1.3496579765767343, 1.3089543584549048, 1.3244275423012812, 1.3106197027741602, 1.316402845121241, 1.3135319142488804, 1.323194740447085, 1.3070757325453948, 1.304324155897017, -10000, -10000, -10000, -10000, 1.38380273048936, 1.3472689730428056, 1.3912362744857851, 1.3332848267463153, 1.3857817069386216, 1.3664641641741864, 1.3813169315881273, 1.355846165511642, 1.3481016329817956, 1.3356267690205317, 1.3427233733074933, 1.3202037658010548, 1.3677750053404454, 1.362198648355266, 1.3659172641563628, 1.3519450011183611, 1.3597388685171488, 1.348866017012064, 1.3581481072660426, 1.3238020499695322, 1.3374409627016526, 1.3223717428511974, 1.3393591657431365, 1.3143392411962376, 1.3660149338271554, 1.3626016723874368, 1.3691854357235211, 1.3465038154428257, 1.3486529923550525, 1.349001974748587, 1.341849106380418, 1.3410404774538993, 1.364017112753616, 1.3520180795922712, 1.3610289613687667, 1.3429052449246826, 1.3039396543960429, 1.3073493323448016, 1.315907960726674, 1.2998054868325721, 1.31950393595063, 1.33190703832998, 1.3278671619242282, 1.3230662310307852, 1.3274186788009679, 1.331250635541063, 1.3295328562776898, 1.3225463971923503, 1.3490801851611247, 1.359392379052836, 1.3456032837096759, 1.3405607321530368, 1.355093708898197, 1.3467179030963505, 1.3418519649455094, 1.3344916423375743, 1.3360253614419333, 1.3407658387265329, 1.3338307819914044, 1.3209646424310424, 1.3032503840125027, 1.2741411156809326, 1.2925200421378273, 1.2413389887356956, 1.3086064863241145, 1.3108630763532525, 1.3027190979721124, 1.2965891799141662, 1.2827351780767575, 1.2772062102510509, 1.282670349024687, 1.2644128982336043, 1.3121942200702876, 1.3303033422600563, 1.3014469904799033, 1.3092510986743404, 1.3251820777276728, 1.3057292569233194, 1.3166061263311786, 1.274559322602491, 1.328916524977527, 1.34848614584505, 1.3297545908652064, 1.327766162493188, 1.3389542768377332, 1.3352368096662066, 1.3341898405114023, 1.3190256683683779, 1.2774027115397268, 1.300141661610624, 1.279092191278539, 1.2858955657367868, 1.28909506099397, 1.2888118601859408, 1.2763157802096945, 1.2765152997544877, -10000, -10000, -10000, -10000, 1.3661255862047759, 1.3188625175886015, 1.357547500196456, 1.304138364476843, 1.3600561214914397, 1.342499846427204, 1.350329853199114, 1.3257504987821631, 1.3227129220293188, 1.3126776417598256, 1.3118621923196834, 1.2908349481659047, 1.344581392515938, 1.3361750416755047, 1.33427260278403, 1.3219634760630763, 1.3342431164832957, 1.3256187344697774, 1.326654808864002, 1.296090990338423, 1.315934524249261, 1.2970548288602124, 1.3069311465317348, 1.283921316558154, 1.3447999871899021, 1.3343604168240435, 1.3365205026100457, 1.3177011177067328, 1.3219452847051918, 1.3287293276587893, 1.3113419172743104, 1.3101798332629555, 1.334943450706973, 1.329036899878266, 1.3300777484650022, 1.3124707967150075, 1.2740765132360283, 1.2824924261284818, 1.282491895891213, 1.269265551249028, 1.2987741327776425, 1.3064689249114785, 1.2942816313942802, 1.2927955081339482, 1.3045210937175256, 1.305928566693813, 1.2971904380296277, 1.2922426436563632, 1.3232801127470806, 1.3371088450746593, 1.3144553095034877, 1.3117121972523254, 1.3910279590038948, 1.3816242323459014, 1.386179336270616, 1.3724542691070098, 1.3506199932645773, 1.3122429543539973, 1.3452902320798856, 1.2838900471173815, 1.3548387738410779, 1.3574468638555162, 1.3611567284621218, 1.3469603165386257, 1.3354873211793818, 1.3237067632379291, 1.3394019284573107, 1.3162310010737235, 1.3601587003270796, 1.3708490315469342, 1.3535591155568198, 1.3599318428362146, 1.3749701659023228, 1.3378428193853558, 1.3687384930492006, 1.325074996662265, 1.3857077944688576, 1.3889860050735137, 1.3829506260483426, 1.3788009516755348, 1.391143984991714, 1.3793031560116815, 1.387221461566981, 1.3703405568914353, 1.3297803798449743, 1.3460564165812983, 1.3378362246785045, 1.3370148796770507, 1.3350274151729216, 1.3457829878692205, 1.3287605181588773, 1.3174782801124971, -10000, -10000, -10000, -10000, 1.4166557355541995, 1.3634900762482822, 1.408876327838943, 1.3562099502156029, 1.4059029136333905, 1.3899085733246217, 1.4056653078566357, 1.3729616090616235, 1.3698303408999073, 1.3563444123805486, 1.364794457494857, 1.3374197655971274, 1.3874486064858425, 1.38487353916309, 1.3922927100719278, 1.370107410340659, 1.3850379203953647, 1.3582566433215844, 1.3786049523525419, 1.347545437680655, 1.3617891795256656, 1.3436423087145912, 1.3629206852668314, 1.335333703565667, 1.39460134800034, 1.378016037038764, 1.388910263896119, 1.3690489102289367, 1.3676539591104557, 1.377436509704038, 1.366022647754261, 1.3543383823620738, 1.3816494089651767, 1.3754671185504748, 1.3889401588256245, 1.360906858147343, 1.336515287123118, 1.3286565837332898, 1.3365325567264148, 1.3210496424662619, 1.3535917486250009, 1.3520650949311162, 1.3447238046474208, 1.3447838599863773, 1.3485586445246502, 1.3528754433920431, 1.3566759952457637, 1.3427604846192498, 1.371553992832144, 1.377985025040753, 1.3679952507995843, 1.3580540025704708, 1.3424490671084213, 1.2962250673873732, 1.3314602701099298, 1.279865848739885, 1.3516173718345976, 1.3473014413806084, 1.3417120370134799, 1.3354714546199884, 1.3245893627968501, 1.3148228220558185, 1.3255578396738754, 1.3033027557877106, 1.3506448156818975, 1.3645383712223444, 1.3408774736950542, 1.3459689137947983, 1.3643639145269162, 1.3365173839024527, 1.3567129506093387, 1.3081518809580466, 1.3724160208690643, 1.3826756329455592, 1.3720281195940396, 1.364692558431125, 1.382949633084681, 1.3701117652487762, 1.3731279080290761, 1.3579125404923647, 1.3263768121972248, 1.3365992087472884, 1.3181682840006166, 1.3247799461558851, 1.3266253498879665, 1.3282119634634435, 1.3152707787202758, 1.314481161057766, -10000, -10000, -10000, -10000, 1.4027297150674294, 1.3569764281745984, 1.399373673517652, 1.3416608318422556, 1.39775889703313, 1.3800334167092114, 1.3908069887701662, 1.362574247590154, 1.3609206256715538, 1.3475472672853126, 1.3513992891897528, 1.3267053002100841, 1.377366792607487, 1.376693930319856, 1.3777194521733913, 1.3581556277749434, 1.3766355406916198, 1.3477821340798766, 1.365148374939812, 1.3363208022422453, 1.350307115060011, 1.3350146590300507, 1.3500186876096674, 1.322399650734809, 1.3854000320186515, 1.3693973774549453, 1.3758397311271136, 1.3562395222146906, 1.3605924573082024, 1.3636169378655025, 1.350718345088211, 1.3478042517101851, 1.3750953592621293, 1.365447723551412, 1.3715268223769694, 1.3501421938760845, 1.3223653591297007, 1.319883951930927, 1.325632316403064, 1.308073132457909, 1.3341745213620952, 1.3443470041550936, 1.3391022515634865, 1.3310388681544636, 1.3460224564291075, 1.3428927897872478, 1.3364169170730573, 1.3310892510632168, 1.362374314991294, 1.3700262664557084, 1.3544871717825173, 1.3469796424572065, 1.3105649435860829, 1.3067536667266442, 1.2759367114416107, 1.2540282509643883, 1.2905942850861813, 1.2741627586155646, 1.25011731052775, 1.2246899413197534, 1.3108439425294045, 1.3204313834838135, 1.2634651296625246, 1.2624415761470065, 1.3256415491571971, 1.2874278320600947, 1.2803433458524252, 1.2197038192995684, 1.3371732546014503, 1.338873355149358, 1.3014335123944918, 1.2813957787747796, 1.3424791651464991, 1.32939945666, 1.3020492572847635, 1.2760532602871748, 1.2868750745989246, 1.295842400837605, 1.2464313391514388, 1.2454675192447828, 1.2860649015822898, 1.286171248796267, 1.23658810482261, 1.237296617521741, -10000, -10000, -10000, -10000, 1.3669239930818544, 1.3140560415920568, 1.3179068418178628, 1.264409510818223, 1.3597387046147522, 1.335937236448756, 1.3113539045117901, 1.2850934824271354, 1.321492269030914, 1.3011240404560849, 1.2716590898211089, 1.2535347277131668, 1.3425406285435888, 1.3325879507361642, 1.3071011634779948, 1.2747909730984026, 1.335924500438106, 1.307375984501755, 1.2872230445964146, 1.25551745052377, 1.3154314783275174, 1.2937914893139977, 1.276337467736079, 1.243298123267297, 1.3450911504134508, 1.3284697115892172, 1.3046088174161872, 1.2712011301989032, 1.320484922112652, 1.3215444141781743, 1.2757529934571141, 1.259396269342051, 1.337837246039516, 1.3231742235817965, 1.303274198999359, 1.266536578535027, 1.28996331967024, 1.27906052578233, 1.247145258341264, 1.2294676299384113, 1.3017325142998135, 1.3027950157883352, 1.2702159108082642, 1.2513540565212933, 1.3054851139742427, 1.3022360088393952, 1.267199123318561, 1.250872791337352, 1.3236897876517977, 1.3230965509173456, 1.2764336240029097, 1.2666088385823155, 1.2986189670874162, 1.2839864504229839, 1.296343335592786, 1.2785062690843074, 1.319506614986988, 1.3350284380455182, 1.3156789777408782, 1.322764384850147, 1.3346944740829785, 1.3006189453912866, 1.330623125909742, 1.2889822660720593, 1.3467187388287492, 1.3488512043735041, 1.3431159633679923, 1.3422864944951458, 1.3510569812051096, 1.3397542956805193, 1.3481110101340905, 1.3331916847551382, 1.2875057583244816, 1.306609882929413, 1.294265029880618, 1.2998759388358572, 1.2958461560192505, 1.2966441121993788, 1.2904173630042253, 1.2904379940791548, -10000, -10000, -10000, -10000, 1.3737132408354844, 1.3253035358465644, 1.3719904096188191, 1.3180648434324393, 1.3677769174667003, 1.3481045649978123, 1.3645993745883729, 1.3396083232612974, 1.328506804277264, 1.3243334468922345, 1.326417437281315, 1.3027145615024414, 1.3516792556709816, 1.342811226002933, 1.3486070437904678, 1.3359109865607168, 1.341711472981142, 1.33028502356817, 1.3412481875437972, 1.308555017888935, 1.3176734856997951, 1.30437709486866, 1.322615772784252, 1.2978520326318412, 1.3529040647842643, 1.3400382193543112, 1.3508864906795546, 1.3315540461564552, 1.329438699406025, 1.3336922142840748, 1.325551854044574, 1.3239541505472059, 1.343278464097847, 1.3351078081150447, 1.344820470128235, 1.3262483642253646, 1.2973081301219538, 1.2889338991651573, 1.2956007924230795, 1.2833795913645418, 1.298673659204127, 1.3140468841838928, 1.3109389185373161, 1.3066019393583976, 1.3158290976712101, 1.3119636678284532, 1.3109659327175607, 1.3063891279139366, 1.3331289266219815, 1.3341340726363105, 1.3283666293995455, 1.3263858852175647, 1.2995504516535055, 1.3122441423491455, 1.283090948130291, 1.2916929465457792, 1.315533949145848, 1.2741773736921982, 1.298076160380453, 1.25781015687924, 1.319053712648234, 1.3325400336434021, 1.3105118853786526, 1.31017621446065, 1.3227982144328494, 1.3226024233832239, 1.3153914088131877, 1.3010836620471429, 1.2664904413459757, 1.2861556419608504, 1.2597882501788114, 1.2678088769144122, 1.2745310569585437, 1.2905111343012878, 1.2581197432210216, 1.258231756938641, -10000, -10000, -10000, -10000, 1.3511454916981702, 1.3057693884918964, 1.3390343917256209, 1.2860851078593831, 1.3400370583415002, 1.3371447438126396, 1.3319195343878178, 1.3078264854878539, 1.3082667352440822, 1.3025526379381729, 1.2935196372232958, 1.2733118538646075, 1.3212784852536852, 1.328204848641642, 1.3159167110672816, 1.303855333419777, 1.3217579132108395, 1.3079816206185897, 1.308058881016656, 1.2791738057708155, 1.2926503402741465, 1.284327854433567, 1.288476269633817, 1.2657463716958488, 1.3346959275617425, 1.3175247893876758, 1.3179694974855707, 1.2998062287535732, 1.305949512607084, 1.3212244921018688, 1.2929854687417661, 1.2923989697923002, 1.3231587705042778, 1.3144139176952196, 1.3112733029986523, 1.2945619168547724, 1.2772611131242841, 1.268416828586313, 1.262634112525138, 1.2511019044520366, 1.2804556194969536, 1.2932852503773118, 1.2754693631325642, 1.2746629082803425, 1.282566167209767, 1.2936499910411214, 1.2786046369040924, 1.2741081574601112, 1.3132273940975563, 1.311679519493465, 1.2959454688816436, 1.2945063498701102, 1.3346780765799697, 1.295878904974306, 1.3446891057396526, 1.2983385111192847, 1.3456238259178015, 1.348081627122312, 1.3631447191563695, 1.3514762969314726, 1.3521640260728678, 1.3380002972304763, 1.3611371583389813, 1.346459975111168, 1.2950443665593365, 1.3048491095860362, 1.3117952502020596, 1.312623111274912, 1.2948604188360597, 1.297460335312294, 1.3041419745989289, 1.294217935940142, -10000, -10000, -10000, -10000, 1.3759295731844596, 1.3229478361232399, 1.3843486131732257, 1.3316549792553452, 1.3678707323869577, 1.345916487193084, 1.3810742308573847, 1.3484745683473678, 1.3298295319521998, 1.3128753409706868, 1.3412969818907317, 1.307864067895311, 1.3503941290591737, 1.3421571855412835, 1.3711230712131366, 1.3435474996624095, 1.3445444898161756, 1.3173054213413762, 1.3550926344440133, 1.31964158177001, 1.3241682414563218, 1.302739168356674, 1.338639953313915, 1.3107605738831318, 1.3527518815551502, 1.3385045085529983, 1.3720966616854107, 1.3377523809314722, 1.3293748983950717, 1.330575930455283, 1.3404052544087302, 1.3326794734259155, 1.3454502978895886, 1.3327382005704695, 1.3678268636443645, 1.3347013523705322, 1.2986334384101275, 1.2879945745113843, 1.31169410582388, 1.2965099439260699, 1.3112698999213257, 1.311655470931914, 1.325197022042691, 1.3196787334543654, 1.3141381373521472, 1.3112116089577461, 1.3294203819409298, 1.3186800662192364, 1.3326214815401538, 1.3320138314858754, 1.3422491171130821, 1.337369134602607, 1.359975402152939, 1.363443171809791, 1.3325277506897857, 1.315658612890378, 1.364939680078744, 1.3539462321237594, 1.3370144872371756, 1.308334465513095, 1.3101709775242765, 1.3198231481262237, 1.2777208781960112, 1.2787457095257744, 1.3098566936243377, 1.31230735581962, 1.2702464223874546, 1.2603167932401715, -10000, -10000, -10000, -10000, 1.3897197113416266, 1.3385016354964785, 1.3557244070885386, 1.2952712425567148, 1.3839638910772325, 1.3594465434398024, 1.3425510507573124, 1.3206863592878177, 1.344880109071518, 1.327566333396238, 1.3072778616886493, 1.2745570283867558, 1.3660994143206124, 1.3567179466027806, 1.3347084817949053, 1.3111537355282554, 1.3594663292540388, 1.3325096717646212, 1.3215923248010013, 1.2844612196399452, 1.3392035726272038, 1.3177227348898695, 1.304847215947696, 1.2768542777338525, 1.3690007937424147, 1.3523923942752856, 1.3332122505474395, 1.3082113590074669, 1.3447924150669865, 1.3444073787662818, 1.3047453863400404, 1.3035385470090812, 1.362173694376068, 1.346887902050665, 1.3270114026250248, 1.3041500236715111, 1.31112365663143, 1.303038755493107, 1.289046297334676, 1.2623626109846857, 1.3233128909320035, 1.3269717502339247, 1.3045666443235533, 1.2843058290644507, 1.327174781770859, 1.3265354828755644, 1.3044814531911382, 1.2832442872360734, 1.3468875855226599, 1.3493263262293427, 1.3115907326835394, 1.2930549045824222, 1.3703240227370375, 1.3693937955862254, 1.3847919717209995, 1.3627131959403989, 1.316986256123743, 1.3328089713066313, 1.3278575217212158, 1.3313628026241617, 1.3217787581050748, 1.3333545589218512, 1.3224501265740694, 1.3159214922293652, -10000, -10000, -10000, -10000, 1.394504632229666, 1.3545070971065583, 1.4081431294768483, 1.3476399977260445, 1.395848157949371, 1.372545576113385, 1.3960508304020773, 1.3715994349258276, 1.355561242570166, 1.3482222326134723, 1.358789785044896, 1.3311110514861473, 1.3778688870818585, 1.3695065721478654, 1.3811928084460379, 1.367057327103565, 1.3720908461478496, 1.3442140856033098, 1.3721572402838969, 1.3427559709699723, 1.3433437367521464, 1.3309682302243697, 1.3578990112778464, 1.3291714780113661, 1.3769401874867904, 1.3687011224087715, 1.3850493851809227, 1.3610742051703089, 1.3535562990359489, 1.3666377274570833, 1.3591088465270567, 1.3505897653062169, 1.371825379189071, 1.3606279807893542, 1.3774023329467926, 1.3574985037176208, 1.3208578760901304, 1.3155064274068033, 1.330141398060372, 1.3149998007447945, 1.3360264460872031, 1.339345610199591, 1.341561300153313, 1.338404230033014, 1.3403240432691237, 1.338815916454519, 1.3440102337047648, 1.3378393450839992, 1.358522901492758, 1.364220428167651, 1.3609141050306857, 1.3552914814715904, 1.3184986859211163, 1.3380325340644637, 1.319138729875632, 1.3222287161637816, 1.326691302380354, 1.3375803405734255, 1.313245925299542, 1.3087648007577757, -10000, -10000, -10000, -10000, 1.3994024888612866, 1.3593727534267641, 1.3976916555238768, 1.3391848887492201, 1.4020730156311005, 1.3756411655579917, 1.3863239953295465, 1.3633379564664008, 1.3598814853571253, 1.3557527371973335, 1.3495947003104525, 1.3224930150135905, 1.3766853717857328, 1.3779962180696619, 1.3743704323475756, 1.3566067122237202, 1.3756724349896907, 1.3532935880690573, 1.363587540483883, 1.3319542565772937, 1.3467430609580073, 1.3359938103315407, 1.3480074440729901, 1.3201569684870016, 1.3789965969766997, 1.376038483217405, 1.3763621982420426, 1.3516228432655688, 1.3583014830504345, 1.371866270770957, 1.349505175778405, 1.3428651878311064, 1.3727640666541303, 1.3674070103847904, 1.3694436873698725, 1.3478539765879474, 1.3223358032997448, 1.3204583813870467, 1.321591037367884, 1.3058924292351564, 1.3450719033686374, 1.3437573369857096, 1.3300982573800626, 1.3295726902142317, 1.3403116138076552, 1.3445323425420006, 1.3366460090114256, 1.3284465565684298, 1.3653645689850438, 1.3627706964839756, 1.3507087438755319, 1.3497688954513363, 1.2711377817701517, 1.2810531780728573, 1.2797677231016387, 1.2789213261273087, -10000, -10000, -10000, -10000, 1.351898138330212, 1.2999442253968916, 1.3606835056950923, 1.3076574446389715, 1.3365747226665432, 1.333093551263231, 1.3544031494931208, 1.3282531286769728, 1.3063253716807466, 1.2903590049347697, 1.3151838245341314, 1.2945876589527898, 1.3272762758977823, 1.318695632009037, 1.3376980190612093, 1.3253423442736953, 1.3177832601570936, 1.3051048986201956, 1.3300378795323464, 1.299530071807821, 1.2980149057575794, 1.279691724857888, 1.3104416580754512, 1.2873059989848628, 1.3258874543875752, 1.3182540221389045, 1.3401455943672136, 1.3208976113851953, 1.306480778845887, 1.306059351733163, 1.3145722558400563, 1.3140233263110723, 1.3180728500761052, 1.3113598116542833, 1.3335483015246212, 1.3158311441990374, 1.2778514581726639, 1.2646043803225928, 1.2840486753794669, 1.2727029356693151, 1.2772929728300282, 1.2895074550150922, 1.2982348034050872, 1.296129755515227, 1.2897357840555261, 1.2880622769362646, 1.3004047266026024, 1.2956701863452427, 1.306772047679054, 1.3167782294024746, 1.3178229080333594, 1.3152006811204326, -10000, -10000, -10000, -10000, 1.3508886352321423, 1.298009319444514, 1.3516413544759902, 1.2978918678128255, 1.3433137736299203, 1.3203981673488208, 1.3524724244647683, 1.3086843798177539, 1.3052337083896979, 1.286110229122266, 1.308773774523878, 1.2701340096797356, 1.3275800486165652, 1.315899309025688, 1.3315227677162282, 1.313805898513965, 1.3198862658171073, 1.2913171756110935, 1.3212365606953491, 1.2876182711401931, 1.300228302195916, 1.2776633205648875, 1.30243546468947, 1.2776176251925053, 1.329761890853281, 1.3118034958022922, 1.3319469100591983, 1.3101986242053902, 1.3047505904491077, 1.3046691064651466, 1.3072272556966382, 1.2985902304411963, 1.3230453227930379, 1.3065264123893994, 1.3253291878022013, 1.3056621570935683, 1.274480209921189, 1.263004927544085, 1.2755334399740452, 1.263146536795548, 1.286668582965767, 1.286642913382283, 1.2993066195133114, 1.2854152540561463, 1.2902012445484912, 1.286062402445893, 1.29531522878976, 1.2853724941101938, 1.3077025494553336, 1.3068737746377455, 1.3105834028188663, 1.298284405580595, -10000, -10000, -10000, -10000, -10000, -10000, -10000, -10000, -10000, -10000, -10000, -10000, -10000, -10000, -10000, -10000, -10000, -10000, -10000, -10000, -10000, -10000, -10000, -10000, -10000, -10000, -10000, -10000, -10000, -10000, -10000, -10000, -10000, -10000, -10000, -10000, -10000, -10000, -10000, -10000, -10000, -10000, -10000, -10000, -10000, -10000, -10000, -10000, -10000, -10000, -10000, -10000, 1.4220808088439143, 1.404116323322845, 1.3730016365650104, 1.3461136974958365, 1.3853107728649179, 1.3709481234018392, 1.3338630069960258, 1.3109632781781064, 1.405127929741653, 1.3988003485368856, 1.3574345186644683, 1.3427543883471242, 1.4011268741176182, 1.3711162593495423, 1.347794838298948, 1.3195103665267327, 1.3687886638498483, 1.35981479534914, 1.3341883099394476, 1.3050326211854795, 1.4089447114132754, 1.394204824707079, 1.3587070256562512, 1.3389326927278336, 1.3857544042828034, 1.3852938043708147, 1.3328591855378604, 1.3322861475153025, 1.3946534008049092, 1.3919193828091267, 1.3555730095845724, 1.3323017811977351, 1.3456646790360751, 1.3441233997404927, 1.3071113723614585, 1.290876419437587, 1.354460740252182, 1.3690037784928462, 1.3218085727425644, 1.3138207677310514, 1.3629597596550234, 1.3683635729401558, 1.3224077851145544, 1.3133105709221418, 1.385914920762595, 1.3964279126597887, 1.3371602062540808, 1.330079937158263, 1.3774215336386844, 1.3674601510503348, 1.3574915052500165, 1.3238643928452796, 1.3965490383816581, 1.3925386884202138, 1.3841361387573914, 1.3615856619228248, 1.3918422856152923, 1.3709946304225133, 1.3721795574999205, 1.3327952542729973, 1.3716630777790093, 1.351674199113297, 1.3533154220483814, 1.3270719681170107, 1.3991869982184082, 1.3893737338849534, 1.3854988487764515, 1.356321543974362, 1.3771444128156374, 1.382163023904348, 1.3566051459922521, 1.3487352902272502, 1.3905283895931282, 1.383340923760815, 1.3813578004450138, 1.3521334249558081, 1.3416592277561317, 1.3369262779141593, 1.3330420034375725, 1.3125548785449446, 1.3538018171066755, 1.3611562261634682, 1.3467216880397206, 1.3352424063470134, 1.3585167091454702, 1.3607747530361765, 1.3477645936544842, 1.3344656037906262, 1.380353933576814, 1.3842600155092524, 1.359267070439148, 1.3507720012614066, 1.361738005104033, 1.3520315571049548, 1.3498825013686984, 1.3269149966666665, 1.354919864107803, 1.3278845458287254, 1.3372088490083522, 1.2997606998383198, 1.3348508384489324, 1.3131362473597012, 1.3197778841970984, 1.292458081076654, 1.3652856834797427, 1.347085501245036, 1.3449997419909754, 1.3270306830025804, 1.339597002215175, 1.3415417182561336, 1.3233136992068264, 1.3109226616196057, 1.3568640134186074, 1.3426828587207935, 1.346458125367179, 1.317804541307801, 1.3060081038580384, 1.2984860805566405, 1.3084566986921948, 1.2778180003386184, 1.3208417096051022, 1.322173629543206, 1.3115728150354624, 1.3007981260731931, 1.3247116412955644, 1.3216091363717464, 1.3111804612021065, 1.3003064901047339, 1.34234651104741, 1.3446843976236813, 1.3273569849736868, 1.3078747459103364, 1.3766511293270804, 1.3523193908494668, 1.3663426095288689, 1.3348173751706232, 1.3491213318761939, 1.3363243586474935, 1.3514519512020065, 1.3228702063806008, 1.3871673037236139, 1.3698776764350509, 1.375907178578198, 1.3572278452970359, 1.3626716987329326, 1.3620039916629387, 1.350613123457026, 1.3501540920307873, 1.3758621110213811, 1.3666793359241982, 1.3719355023488222, 1.3507740205777423, 1.3269146293885483, 1.3208865289416891, 1.3234938267278948, 1.3086925607097784, 1.3388897041993686, 1.3450223970234196, 1.3367940153207023, 1.331917251043577, 1.3440812409764296, 1.344492379434815, 1.3386979015441312, 1.3313523320493257, 1.3648698499016425, 1.3665515694998376, 1.354048978982096, 1.350748162097973, 1.3471923329287772, 1.3278945415430092, 1.3314177868267207, 1.2977331820692264, 1.377262100562365, 1.3638558697450607, 1.3592051329611055, 1.3256065924996232, 1.3533717774902614, 1.3581295023933582, 1.3306194243136493, 1.3128879182780004, 1.3722402866112333, 1.35681268041046, 1.3470072234098058, 1.326232400417302, 1.3192060337437816, 1.3130519687164703, 1.312677295851426, 1.2837152678440984, 1.3372864433799574, 1.3364970692597344, 1.3083511318062768, 1.307670000565141, 1.338805828130286, 1.3362210631329008, 1.3167204002989168, 1.306222220578152, 1.3565155943260616, 1.3604010432450475, 1.3330397301799084, 1.3143076962286384, 1.3497934244319347, 1.3511018119394478, 1.338556091158123, 1.3184235653102931, 1.3335133123847887, 1.33918058208682, 1.312677337173982, 1.3115117979385347, 1.3470411568551817, 1.3399006514617002, 1.3314436967640992, 1.3137900741421369, 1.3002895341086593, 1.2934240677671272, 1.2826227019571252, 1.2706269479543524, 1.3014479725567072, 1.3186914370067688, 1.2966077848818305, 1.2940195749291947, 1.3175845697330835, 1.3168853344241964, 1.2984223756861963, 1.293594759134431, 1.3372274231867134, 1.3397454921980856, 1.3155757822124665, 1.3137353877744278, 1.3630895565140264, 1.3685948358918942, 1.3479917360697875, 1.34218007451673, 1.381650137741378, 1.3669793540102213, 1.3660351665987318, 1.3475889862566692, 1.3234121300088706, 1.3230997877622224, 1.3257914136768143, 1.3044803959292355, 1.3454425994688282, 1.3466135396734216, 1.3305432174928062, 1.328090292615893, 1.349903637777775, 1.345938644667894, 1.3325151573084533, 1.3276457989093002, 1.3666361791810722, 1.3696758279214103, 1.3504648807149633, 1.3451153286833455, 1.357348353623872, 1.3416481488855059, 1.359268612273962, 1.3399234769963118, 1.3089221431384073, 1.2978691270379288, 1.3100869575262775, 1.2972940905031953, 1.3166138052299536, 1.3220445575366833, 1.3366755767867438, 1.3192139845772122, 1.3227224761170202, 1.3213185972388155, 1.3317842171778733, 1.3191313368344306, 1.3421263075346972, 1.3431163921377338, 1.34371787626811, 1.3357295673807035, 1.316912047342877, 1.3163837598234236, 1.3161789468657163, 1.299340555369977, 1.3268555432962161, 1.3412245491450583, 1.3303672579728891, 1.3222890419798414, 1.3389845128782005, 1.3399507735161573, 1.3291507789345691, 1.3220860816618143, 1.360153224223224, 1.3622296753983951, 1.344703121940819, 1.3415642855573795, 1.2873902427235437, 1.2915733950939594, 1.280417347112956, 1.2795428512615794, 1.2799387248943424, 1.2931107783908342, 1.283786049614227, 1.2789442589632771, 1.3103190464380075, 1.3174721306277024, 1.3008778543144777, 1.2992462842301629, 1.3045589566002849, 1.3038846151703458, 1.3073735071849784, 1.3025054974170482, 1.3201544530992952, 1.3398341438609218, 1.324954883889971, 1.321163896944495, 1.3255433062152735, 1.3357037564954592, 1.3243183197589978, 1.3208845333962813], 1.2735990287193855)\n"
     ]
    }
   ],
   "source": [
    "champion = identifyMin(min_por, results)\n",
    "print(champion)"
   ]
  },
  {
   "cell_type": "code",
   "execution_count": 28,
   "metadata": {
    "id": "gm0qcxjVAO2x"
   },
   "outputs": [],
   "source": [
    "# Minimizer search: Go through each agent \n",
    "\n",
    "def mixed_choose_min_vertex(s, n, v1, max_opinion, max_touched, fla_max_fre):\n",
    "    # current polarization that changed by maximizer, \"innate\" objective that min start with\n",
    "#     queue = Queue()\n",
    "\n",
    "    a = len(set(max_touched))\n",
    "    len_nodesets = comb(n-a,k)\n",
    "    batch_size = multiprocessing.cpu_count()\n",
    "    op = change_k_innate_opinion(s, v1, max_opinion) \n",
    "    min_por = obj_polarization(A, L, op, n)\n",
    "    champion = (None, None, None,min_por)  # assume the best action is champion\n",
    "\n",
    "\n",
    "    if __name__ == '__main__':\n",
    "      for i in range(0, len_nodesets, batch_size):  \n",
    "          queue = Queue()\n",
    "          processes = [Process(target=min_k_mixed_opinion, args=(queue, s, n, len_nodesets, i_th, max_touched, fla_max_fre,)) for i_th in range(i, i+batch_size)]\n",
    "\n",
    "          for process in processes:\n",
    "              process.start()\n",
    "              #wait for all processes to complete:\n",
    "          for process in processes:\n",
    "              process.join()\n",
    "          results = [queue.get() for _ in processes]\n",
    "          champion = identifyMin(champion, results)\n",
    "\n",
    "      #     print('results')\n",
    "      #     print(results)\n",
    "      print(\"champion\",champion)\n",
    "              \n",
    "    return (champion)  # find the best minimizer's action after going through every new_op option of every agent\n"
   ]
  },
  {
   "cell_type": "code",
   "execution_count": 96,
   "metadata": {
    "colab": {
     "base_uri": "https://localhost:8080/"
    },
    "id": "Mzy2KbxwAO2x",
    "outputId": "935a132e-ccad-4aae-9fd0-0ab977f1ab11"
   },
   "outputs": [
    {
     "ename": "TypeError",
     "evalue": "'function' object is not subscriptable",
     "output_type": "error",
     "traceback": [
      "\u001b[1;31m---------------------------------------------------------------------------\u001b[0m",
      "\u001b[1;31mEmpty\u001b[0m                                     Traceback (most recent call last)",
      "\u001b[1;32m~\\anaconda3\\lib\\site-packages\\joblib\\parallel.py\u001b[0m in \u001b[0;36mdispatch_one_batch\u001b[1;34m(self, iterator)\u001b[0m\n\u001b[0;32m    826\u001b[0m             \u001b[1;32mtry\u001b[0m\u001b[1;33m:\u001b[0m\u001b[1;33m\u001b[0m\u001b[1;33m\u001b[0m\u001b[0m\n\u001b[1;32m--> 827\u001b[1;33m                 \u001b[0mtasks\u001b[0m \u001b[1;33m=\u001b[0m \u001b[0mself\u001b[0m\u001b[1;33m.\u001b[0m\u001b[0m_ready_batches\u001b[0m\u001b[1;33m.\u001b[0m\u001b[0mget\u001b[0m\u001b[1;33m(\u001b[0m\u001b[0mblock\u001b[0m\u001b[1;33m=\u001b[0m\u001b[1;32mFalse\u001b[0m\u001b[1;33m)\u001b[0m\u001b[1;33m\u001b[0m\u001b[1;33m\u001b[0m\u001b[0m\n\u001b[0m\u001b[0;32m    828\u001b[0m             \u001b[1;32mexcept\u001b[0m \u001b[0mqueue\u001b[0m\u001b[1;33m.\u001b[0m\u001b[0mEmpty\u001b[0m\u001b[1;33m:\u001b[0m\u001b[1;33m\u001b[0m\u001b[1;33m\u001b[0m\u001b[0m\n",
      "\u001b[1;32m~\\anaconda3\\lib\\queue.py\u001b[0m in \u001b[0;36mget\u001b[1;34m(self, block, timeout)\u001b[0m\n\u001b[0;32m    166\u001b[0m                 \u001b[1;32mif\u001b[0m \u001b[1;32mnot\u001b[0m \u001b[0mself\u001b[0m\u001b[1;33m.\u001b[0m\u001b[0m_qsize\u001b[0m\u001b[1;33m(\u001b[0m\u001b[1;33m)\u001b[0m\u001b[1;33m:\u001b[0m\u001b[1;33m\u001b[0m\u001b[1;33m\u001b[0m\u001b[0m\n\u001b[1;32m--> 167\u001b[1;33m                     \u001b[1;32mraise\u001b[0m \u001b[0mEmpty\u001b[0m\u001b[1;33m\u001b[0m\u001b[1;33m\u001b[0m\u001b[0m\n\u001b[0m\u001b[0;32m    168\u001b[0m             \u001b[1;32melif\u001b[0m \u001b[0mtimeout\u001b[0m \u001b[1;32mis\u001b[0m \u001b[1;32mNone\u001b[0m\u001b[1;33m:\u001b[0m\u001b[1;33m\u001b[0m\u001b[1;33m\u001b[0m\u001b[0m\n",
      "\u001b[1;31mEmpty\u001b[0m: ",
      "\nDuring handling of the above exception, another exception occurred:\n",
      "\u001b[1;31mTypeError\u001b[0m                                 Traceback (most recent call last)",
      "\u001b[1;32m<ipython-input-96-894088aef0e3>\u001b[0m in \u001b[0;36m<module>\u001b[1;34m\u001b[0m\n\u001b[0;32m     11\u001b[0m \u001b[0mmax_opinion\u001b[0m \u001b[1;33m=\u001b[0m \u001b[1;33m[\u001b[0m\u001b[1;36m0\u001b[0m\u001b[1;33m,\u001b[0m\u001b[1;36m1\u001b[0m\u001b[1;33m]\u001b[0m\u001b[1;33m\u001b[0m\u001b[1;33m\u001b[0m\u001b[0m\n\u001b[0;32m     12\u001b[0m \u001b[0mparams\u001b[0m \u001b[1;33m=\u001b[0m \u001b[1;33m[\u001b[0m\u001b[1;33m[\u001b[0m\u001b[0ms\u001b[0m\u001b[1;33m,\u001b[0m \u001b[0mn\u001b[0m\u001b[1;33m,\u001b[0m \u001b[0mlen_nodesets\u001b[0m\u001b[1;33m,\u001b[0m \u001b[0mi_th\u001b[0m\u001b[1;33m,\u001b[0m \u001b[0mmax_touched\u001b[0m\u001b[1;33m,\u001b[0m \u001b[0mfla_max_fre\u001b[0m\u001b[1;33m]\u001b[0m \u001b[1;32mfor\u001b[0m \u001b[0mi_th\u001b[0m \u001b[1;32min\u001b[0m \u001b[0mrange\u001b[0m\u001b[1;33m(\u001b[0m\u001b[0mlen_nodesets\u001b[0m\u001b[1;33m)\u001b[0m\u001b[1;33m]\u001b[0m\u001b[1;33m\u001b[0m\u001b[1;33m\u001b[0m\u001b[0m\n\u001b[1;32m---> 13\u001b[1;33m \u001b[0mresults\u001b[0m \u001b[1;33m=\u001b[0m \u001b[0mParallel\u001b[0m\u001b[1;33m(\u001b[0m\u001b[0mn_jobs\u001b[0m\u001b[1;33m=\u001b[0m\u001b[1;36m8\u001b[0m\u001b[1;33m)\u001b[0m\u001b[1;33m(\u001b[0m\u001b[0mdelayed\u001b[0m\u001b[1;33m(\u001b[0m\u001b[0mmin_k_mixed_opinion\u001b[0m\u001b[1;33m)\u001b[0m\u001b[1;33m[\u001b[0m\u001b[0ms\u001b[0m\u001b[1;33m,\u001b[0m \u001b[0mn\u001b[0m\u001b[1;33m,\u001b[0m \u001b[0mlen_nodesets\u001b[0m\u001b[1;33m,\u001b[0m \u001b[0mi_th\u001b[0m\u001b[1;33m,\u001b[0m \u001b[0mmax_touched\u001b[0m\u001b[1;33m,\u001b[0m \u001b[0mfla_max_fre\u001b[0m\u001b[1;33m]\u001b[0m \u001b[1;32mfor\u001b[0m \u001b[0ms\u001b[0m\u001b[1;33m,\u001b[0m \u001b[0mn\u001b[0m\u001b[1;33m,\u001b[0m \u001b[0mlen_nodesets\u001b[0m\u001b[1;33m,\u001b[0m \u001b[0mi_th\u001b[0m\u001b[1;33m,\u001b[0m \u001b[0mmax_touched\u001b[0m\u001b[1;33m,\u001b[0m \u001b[0mfla_max_fre\u001b[0m \u001b[1;32min\u001b[0m \u001b[0mparams\u001b[0m\u001b[1;33m)\u001b[0m\u001b[1;33m\u001b[0m\u001b[1;33m\u001b[0m\u001b[0m\n\u001b[0m\u001b[0;32m     14\u001b[0m \u001b[1;31m# start = time.perf_counter()\u001b[0m\u001b[1;33m\u001b[0m\u001b[1;33m\u001b[0m\u001b[1;33m\u001b[0m\u001b[0m\n\u001b[0;32m     15\u001b[0m \u001b[1;33m\u001b[0m\u001b[0m\n",
      "\u001b[1;32m~\\anaconda3\\lib\\site-packages\\joblib\\parallel.py\u001b[0m in \u001b[0;36m__call__\u001b[1;34m(self, iterable)\u001b[0m\n\u001b[0;32m   1046\u001b[0m             \u001b[1;31m# remaining jobs.\u001b[0m\u001b[1;33m\u001b[0m\u001b[1;33m\u001b[0m\u001b[1;33m\u001b[0m\u001b[0m\n\u001b[0;32m   1047\u001b[0m             \u001b[0mself\u001b[0m\u001b[1;33m.\u001b[0m\u001b[0m_iterating\u001b[0m \u001b[1;33m=\u001b[0m \u001b[1;32mFalse\u001b[0m\u001b[1;33m\u001b[0m\u001b[1;33m\u001b[0m\u001b[0m\n\u001b[1;32m-> 1048\u001b[1;33m             \u001b[1;32mif\u001b[0m \u001b[0mself\u001b[0m\u001b[1;33m.\u001b[0m\u001b[0mdispatch_one_batch\u001b[0m\u001b[1;33m(\u001b[0m\u001b[0miterator\u001b[0m\u001b[1;33m)\u001b[0m\u001b[1;33m:\u001b[0m\u001b[1;33m\u001b[0m\u001b[1;33m\u001b[0m\u001b[0m\n\u001b[0m\u001b[0;32m   1049\u001b[0m                 \u001b[0mself\u001b[0m\u001b[1;33m.\u001b[0m\u001b[0m_iterating\u001b[0m \u001b[1;33m=\u001b[0m \u001b[0mself\u001b[0m\u001b[1;33m.\u001b[0m\u001b[0m_original_iterator\u001b[0m \u001b[1;32mis\u001b[0m \u001b[1;32mnot\u001b[0m \u001b[1;32mNone\u001b[0m\u001b[1;33m\u001b[0m\u001b[1;33m\u001b[0m\u001b[0m\n\u001b[0;32m   1050\u001b[0m \u001b[1;33m\u001b[0m\u001b[0m\n",
      "\u001b[1;32m~\\anaconda3\\lib\\site-packages\\joblib\\parallel.py\u001b[0m in \u001b[0;36mdispatch_one_batch\u001b[1;34m(self, iterator)\u001b[0m\n\u001b[0;32m    836\u001b[0m                 \u001b[0mbig_batch_size\u001b[0m \u001b[1;33m=\u001b[0m \u001b[0mbatch_size\u001b[0m \u001b[1;33m*\u001b[0m \u001b[0mn_jobs\u001b[0m\u001b[1;33m\u001b[0m\u001b[1;33m\u001b[0m\u001b[0m\n\u001b[0;32m    837\u001b[0m \u001b[1;33m\u001b[0m\u001b[0m\n\u001b[1;32m--> 838\u001b[1;33m                 \u001b[0mislice\u001b[0m \u001b[1;33m=\u001b[0m \u001b[0mlist\u001b[0m\u001b[1;33m(\u001b[0m\u001b[0mitertools\u001b[0m\u001b[1;33m.\u001b[0m\u001b[0mislice\u001b[0m\u001b[1;33m(\u001b[0m\u001b[0miterator\u001b[0m\u001b[1;33m,\u001b[0m \u001b[0mbig_batch_size\u001b[0m\u001b[1;33m)\u001b[0m\u001b[1;33m)\u001b[0m\u001b[1;33m\u001b[0m\u001b[1;33m\u001b[0m\u001b[0m\n\u001b[0m\u001b[0;32m    839\u001b[0m                 \u001b[1;32mif\u001b[0m \u001b[0mlen\u001b[0m\u001b[1;33m(\u001b[0m\u001b[0mislice\u001b[0m\u001b[1;33m)\u001b[0m \u001b[1;33m==\u001b[0m \u001b[1;36m0\u001b[0m\u001b[1;33m:\u001b[0m\u001b[1;33m\u001b[0m\u001b[1;33m\u001b[0m\u001b[0m\n\u001b[0;32m    840\u001b[0m                     \u001b[1;32mreturn\u001b[0m \u001b[1;32mFalse\u001b[0m\u001b[1;33m\u001b[0m\u001b[1;33m\u001b[0m\u001b[0m\n",
      "\u001b[1;32m<ipython-input-96-894088aef0e3>\u001b[0m in \u001b[0;36m<genexpr>\u001b[1;34m(.0)\u001b[0m\n\u001b[0;32m     11\u001b[0m \u001b[0mmax_opinion\u001b[0m \u001b[1;33m=\u001b[0m \u001b[1;33m[\u001b[0m\u001b[1;36m0\u001b[0m\u001b[1;33m,\u001b[0m\u001b[1;36m1\u001b[0m\u001b[1;33m]\u001b[0m\u001b[1;33m\u001b[0m\u001b[1;33m\u001b[0m\u001b[0m\n\u001b[0;32m     12\u001b[0m \u001b[0mparams\u001b[0m \u001b[1;33m=\u001b[0m \u001b[1;33m[\u001b[0m\u001b[1;33m[\u001b[0m\u001b[0ms\u001b[0m\u001b[1;33m,\u001b[0m \u001b[0mn\u001b[0m\u001b[1;33m,\u001b[0m \u001b[0mlen_nodesets\u001b[0m\u001b[1;33m,\u001b[0m \u001b[0mi_th\u001b[0m\u001b[1;33m,\u001b[0m \u001b[0mmax_touched\u001b[0m\u001b[1;33m,\u001b[0m \u001b[0mfla_max_fre\u001b[0m\u001b[1;33m]\u001b[0m \u001b[1;32mfor\u001b[0m \u001b[0mi_th\u001b[0m \u001b[1;32min\u001b[0m \u001b[0mrange\u001b[0m\u001b[1;33m(\u001b[0m\u001b[0mlen_nodesets\u001b[0m\u001b[1;33m)\u001b[0m\u001b[1;33m]\u001b[0m\u001b[1;33m\u001b[0m\u001b[1;33m\u001b[0m\u001b[0m\n\u001b[1;32m---> 13\u001b[1;33m \u001b[0mresults\u001b[0m \u001b[1;33m=\u001b[0m \u001b[0mParallel\u001b[0m\u001b[1;33m(\u001b[0m\u001b[0mn_jobs\u001b[0m\u001b[1;33m=\u001b[0m\u001b[1;36m8\u001b[0m\u001b[1;33m)\u001b[0m\u001b[1;33m(\u001b[0m\u001b[0mdelayed\u001b[0m\u001b[1;33m(\u001b[0m\u001b[0mmin_k_mixed_opinion\u001b[0m\u001b[1;33m)\u001b[0m\u001b[1;33m[\u001b[0m\u001b[0ms\u001b[0m\u001b[1;33m,\u001b[0m \u001b[0mn\u001b[0m\u001b[1;33m,\u001b[0m \u001b[0mlen_nodesets\u001b[0m\u001b[1;33m,\u001b[0m \u001b[0mi_th\u001b[0m\u001b[1;33m,\u001b[0m \u001b[0mmax_touched\u001b[0m\u001b[1;33m,\u001b[0m \u001b[0mfla_max_fre\u001b[0m\u001b[1;33m]\u001b[0m \u001b[1;32mfor\u001b[0m \u001b[0ms\u001b[0m\u001b[1;33m,\u001b[0m \u001b[0mn\u001b[0m\u001b[1;33m,\u001b[0m \u001b[0mlen_nodesets\u001b[0m\u001b[1;33m,\u001b[0m \u001b[0mi_th\u001b[0m\u001b[1;33m,\u001b[0m \u001b[0mmax_touched\u001b[0m\u001b[1;33m,\u001b[0m \u001b[0mfla_max_fre\u001b[0m \u001b[1;32min\u001b[0m \u001b[0mparams\u001b[0m\u001b[1;33m)\u001b[0m\u001b[1;33m\u001b[0m\u001b[1;33m\u001b[0m\u001b[0m\n\u001b[0m\u001b[0;32m     14\u001b[0m \u001b[1;31m# start = time.perf_counter()\u001b[0m\u001b[1;33m\u001b[0m\u001b[1;33m\u001b[0m\u001b[1;33m\u001b[0m\u001b[0m\n\u001b[0;32m     15\u001b[0m \u001b[1;33m\u001b[0m\u001b[0m\n",
      "\u001b[1;31mTypeError\u001b[0m: 'function' object is not subscriptable"
     ]
    }
   ],
   "source": [
    "# print('v1,max_opinion')\n",
    "# print(v1,max_opinion)\n",
    "fla_max_fre = np.zeros([1*h])\n",
    "fla_max_fre[2] = 0.1\n",
    "fla_max_fre[3] = 0.4\n",
    "fla_max_fre[7] = 0.5\n",
    "# print(fla_max_fre)\n",
    "v1 = [1,2]\n",
    "max_touched =[1,2]\n",
    "max_opinion = [0,1]\n",
    "\n",
    "start = time.perf_counter()\n",
    "\n",
    "# protect the entry point\n",
    "# if __name__ == '__main__':\n",
    "champion = mixed_choose_min_vertex(s, n, v1, max_opinion, max_touched, fla_max_fre)\n",
    "\n",
    "end = time.perf_counter()\n",
    "print(f'Finished in {round(end-start, 2)} second(s)') \n"
   ]
  },
  {
   "cell_type": "code",
   "execution_count": null,
   "metadata": {
    "id": "97l-kQq-AO2x"
   },
   "outputs": [],
   "source": [
    "# v1= [1,2]\n",
    "# champion = mixed_choose_min_vertex(s, n, v1, max_opinion, max_touched, fla_max_fre)\n",
    "# print(champion)"
   ]
  },
  {
   "cell_type": "code",
   "execution_count": null,
   "metadata": {
    "id": "l6HwiyndAO2x"
   },
   "outputs": [],
   "source": [
    "# (all_sets, k_opinions) = creat_all_comb(n, k)\n",
    "# print('all_sets,k_opinions')\n",
    "# print(all_sets,k_opinions)\n"
   ]
  },
  {
   "cell_type": "code",
   "execution_count": null,
   "metadata": {
    "id": "JRs5bTn1AO2x"
   },
   "outputs": [],
   "source": [
    "####Op has been updated by maximizer, fla_max_fre includes max's hisotry, so minimizer react to the innate op after that\n",
    "def mixed_min_play(s,v1,max_opinion,n, max_touched,fla_max_fre): \n",
    "\n",
    "#     print('_______________________')\n",
    "#     print('Minimizer Play')\n",
    "#     print('Only 1 opinion changed')\n",
    "#     print(op)\n",
    "    \n",
    "    min_champion = mixed_choose_min_vertex(s, n, v1, max_opinion, max_touched, fla_max_fre)\n",
    "    (v2, min_opinion, payoff_row, min_pol) = min_champion\n",
    "    \n",
    "    if v2 == None:    # if minimizer cannot find a action to minimize polarization after maximizer's action\n",
    "        print('Minimizer fail')\n",
    "\n",
    "    else:\n",
    "#         print(\"                                \")\n",
    "        print(\"Minimizer finds its target agents:\")\n",
    "        print(v2)\n",
    "\n",
    "        # Store innate_op of the min_selected k vertex\n",
    "        old_opinion_min = [s[i] for i in v2]\n",
    "\n",
    "#         print(\"    \"+\"Agent\" + str(v2) +\" 's opinion \" + str(old_opinion_min) + \" changed to \"+ str(min_opinion))\n",
    "#         print('fla_max_fre')\n",
    "#         print(fla_max_fre[np.nonzero(fla_max_fre)])\n",
    "\n",
    "\n",
    "#         print(\"Payoff row\")\n",
    "#         print(payoff_row)\n",
    "#         print(\"Network reaches steady-state Polarization: \" + str(min_pol))\n",
    "\n",
    "    return (tuple(v2), payoff_row, min_opinion, min_pol)                 "
   ]
  },
  {
   "cell_type": "markdown",
   "metadata": {
    "id": "vqg7vzUKAO2x"
   },
   "source": [
    "### Maximizer Mixed Strategy"
   ]
  },
  {
   "cell_type": "code",
   "execution_count": null,
   "metadata": {
    "id": "0VQlqv_hAO2y"
   },
   "outputs": [],
   "source": [
    "####Op has been updated by minimizer, fla_min_fre includes min's hisotry, so maxmizer react to the innate op after that\n",
    "def k_max_polarization(payoff_matrix,column,fla_min_fre):\n",
    "\n",
    "    # create payoff matrix for maxmizer\n",
    "    payoff_vector = payoff_matrix[:,column]\n",
    "#     print('payoff_vector')\n",
    "#     print(payoff_vector)\n",
    "    if any(i> 10 for i in payoff_vector) >10:\n",
    "        print('Error in Payoff Matrix')\n",
    "        sys.exit\n",
    "    #calculate fictitious payoff - equi_max  \n",
    "#     print('fla_min_fre')\n",
    "#     print(fla_min_fre)\n",
    "    payoff_cal = payoff_vector * fla_min_fre #payoff * frequency\n",
    "\n",
    "    mixed_pol = np.sum(payoff_cal) # add up\n",
    "\n",
    "    return mixed_pol\n"
   ]
  },
  {
   "cell_type": "code",
   "execution_count": null,
   "metadata": {
    "id": "v1lH3ZrzAO2y"
   },
   "outputs": [],
   "source": [
    "def find_idx(k_nodes,n):\n",
    "\n",
    "    latter=0\n",
    "    index = 0\n",
    "    k = len(k_nodes)\n",
    "    \n",
    "    for i in range(k):\n",
    "        before = k_nodes[i] + 1\n",
    "#         print('before')\n",
    "#         print(before)\n",
    "        L_min = latter + 1\n",
    "        L_max = before - 1\n",
    "\n",
    "        M = L_max - L_min\n",
    "\n",
    "        for m in range(1, M+2):\n",
    "            P = n - latter - m\n",
    "            L = k -1 - i\n",
    "            index = index + comb(P,L)\n",
    "        latter = before\n",
    "        \n",
    "    return index\n",
    "        "
   ]
  },
  {
   "cell_type": "code",
   "execution_count": null,
   "metadata": {
    "id": "LjtmdAFSAO2y"
   },
   "outputs": [],
   "source": [
    "# # pass on the innate opinion that has been changed by minimizer\n",
    "def max_k_play(payoff_matrix, op, n, k, fla_min_fre, min_touched): # - op1 - innate opinion that has been changed by minimizer\n",
    "    k_opinions = creat_all_comb(n, k)\n",
    "    len_kops = len(k_opinions)\n",
    "    \n",
    "    ############ start producing changes ###########\n",
    "    count = 0\n",
    "    all_por = np.zeros(h)\n",
    "#     print('all_por')\n",
    "#     print(all_por)\n",
    "    \n",
    "    a = len(set(min_touched)) # number of unique touched agent\n",
    "    len_avsets = comb(n-a,k) # length of available k_nodes combinations\n",
    "    \n",
    "    \n",
    "    \n",
    "    for i_th in range(len_avsets): # for each available k nodes\n",
    "#         print('_________________________________')\n",
    "#         print('Max start with'+ str(i_th) + '_th k nodes')\n",
    "        v1 = creat_available_comb(i_th, n,k,min_touched)  #for i in node_sets:  # for each available k nodes\n",
    "#         print(v1)\n",
    "#         print(i)\n",
    "#         k_nodes_index = all_sets.index(i) \n",
    "        k_nodes_index = find_idx(v1,n) # map this nodeset to its index located in all lists\n",
    "        \n",
    "        for f in range(len_kops):         # for each opinion combination \n",
    "            column = k_nodes_index*len_kops + f  # locate the column in payoff row- all combinations\n",
    "            #por = obj_polarization(A, L, s, n)\n",
    "            por= k_max_polarization(payoff_matrix, column, fla_min_fre) # calculate mixed polarization\n",
    "            all_por[column] = por\n",
    "\n",
    "    # ############# best action ##########\n",
    "#     print('all_por')\n",
    "#     print(all_por)\n",
    "    column = np.argmax(all_por) # Index of maximum polarization - in all actions\n",
    "#     print('column - best action')\n",
    "#     print(column)\n",
    "\n",
    "    \n",
    "    (v1, max_opinion) = map_action(n,k,column)\n",
    "#     print('v1,max_opinion')\n",
    "#     print(v1,max_opinion)\n",
    "    # print(all_sets)\n",
    "\n",
    "    # # Find innate opinion of k nodes - Comment - testing use\n",
    "    # old_opinion_max = [s[i] for i in v1]\n",
    "    print(\"                                \")\n",
    "    print(\"Maximizer finds its target \"+str(k)+ \" agent:\")\n",
    "    print(str(v1) + \"  op:\" + str(max_opinion))\n",
    "\n",
    "    ## check if agent's opinionis is changed or not\n",
    "#     print(\"    \"+\"Agent\" + str(v1) +\" 's opinion \" + str(old_opinion_max) + \" changed to \"+ str(max_opinion))\n",
    "#     print(\"Network reaches steady-state Polarization: \" + str(np.max(all_por)))\n",
    "\n",
    "    return(v1, max_opinion, np.max(all_por), column)\n",
    "\n"
   ]
  },
  {
   "cell_type": "markdown",
   "metadata": {
    "id": "dDCCOOocAO2y"
   },
   "source": [
    "## 5. Innate Op and Game"
   ]
  },
  {
   "cell_type": "markdown",
   "metadata": {
    "id": "0vJ5dHnSAO2y"
   },
   "source": [
    "# Fictitious Play Start !\n"
   ]
  },
  {
   "cell_type": "code",
   "execution_count": null,
   "metadata": {
    "id": "uVeX6DlYAO2y"
   },
   "outputs": [],
   "source": [
    "# op = s\n",
    "# y = mean_center(s,n)\n",
    "# # print(y)\n",
    "# innat_pol = np.dot(np.transpose(y), y)[0,0] \n",
    "# print('Innate_polarization:')\n",
    "# print(innat_pol)\n",
    "\n",
    "# # Test equilibrium polarization\n",
    "# equ_pol = obj_polarization(A, L, op, n)\n",
    "# print('Equi_polarization:')\n",
    "# print(equ_pol)\n",
    "\n",
    "# di = equ_pol-innat_pol\n",
    "# print(\"Difference:\")\n",
    "# print(di)\n",
    "\n"
   ]
  },
  {
   "cell_type": "code",
   "execution_count": null,
   "metadata": {
    "id": "IDxfF449AO2y"
   },
   "outputs": [],
   "source": [
    "# # Game Parameters\n",
    "# Game_rounds =200 # Rounds + 1- use for printing data\n",
    "# memory = 50\n",
    "\n",
    "# Game Preparation\n",
    "def push(obj, element):\n",
    "    if len(obj) >= memory:\n",
    "        dif = len(obj) - memory\n",
    "        obj.pop(dif)\n",
    "    obj.extend(list(element))\n",
    "    obj = list(set(obj))\n",
    "    \n",
    "    return obj\n"
   ]
  },
  {
   "cell_type": "code",
   "execution_count": null,
   "metadata": {
    "id": "-rMtPl9AAO2z"
   },
   "outputs": [],
   "source": [
    "def map_action(n,k,column):\n",
    "\n",
    "    k_opinions = creat_all_comb(n, k)\n",
    "    len_kops = len(k_opinions)\n",
    "    nodeset_index = int(column/len_kops) \n",
    "    opset_index = column%len_kops\n",
    "    k_nodes = cgen(nodeset_index, n, k)\n",
    "    opinions = k_opinions[opset_index]\n",
    "    \n",
    "    return (k_nodes, opinions)"
   ]
  },
  {
   "cell_type": "code",
   "execution_count": null,
   "metadata": {
    "id": "pjZ5xSLoAO2z"
   },
   "outputs": [],
   "source": [
    "def excute(h, k, Game_rounds):\n",
    "# Preparation for the game\n",
    "    op = copy.copy(s)\n",
    "    payoff_matrix = np.empty((0, h), float)\n",
    "    max_history = np.zeros(h, int)  # n*2 matrix, agent i & opinion options\n",
    "    min_history = []  # append a list of (agent i, min_opinion), min_opinion can be any value\n",
    "    #     print(type(min_history))\n",
    "\n",
    "    max_history_last_100 = np.zeros(h, int) \n",
    "    min_history_last_100= []\n",
    "\n",
    "    max_touched = []\n",
    "    min_touched = []\n",
    "    min_touched_all = []\n",
    "    min_touched_last_100 =[]\n",
    "\n",
    "\n",
    "    # Game start from maximizer random play\n",
    "    #     print('Maximizer first selection')\n",
    "    (v1, max_opinion, max_pol, column) = k_random_play(s,n,k)\n",
    "    #(v1, max_opinion, max_pol) = random_play(op,n)   # Maximizer does random action \n",
    "    #(v1, max_opinion, max_pol) = maximizer_fir_play(s,n,min_touched)\n",
    "\n",
    "    First_max = (v1, max_opinion, max_pol) \n",
    "\n",
    "    # Maximizer start with greedy play\n",
    "    # (v1, max_opinion, max_pol) = maximizer_fir_play(s,n,min_touched)   # Maximizer choose action greedily\n",
    "\n",
    "    max_touched.extend(tuple(v1))\n",
    "    #     print('max_touched')\n",
    "    #     print(max_touched)\n",
    "    # store maximizer play history, using agent(row) and changed opinion(column) as indicator to locate history\n",
    " ####### max_history[column] = max_history[column] +1\n",
    "    # print('max_history')\n",
    "    # print(max_history)\n",
    "    #     print('history at spot')\n",
    "    #     print(max_history[column])\n",
    "\n",
    "    fla_max_fre = max_history/1  # its frequency, only played  1 time so far, divided by 1 \n",
    "\n",
    "    #     print('fla_max_fre')\n",
    "    #     print(fla_max_fre)\n",
    "    #fla_max_fre = max_frequency.flatten()   # flatten the n*2 matrix to a 2n*1 matrix\n",
    "                                            # so we can multiply the freuency (2n*1)with payoff array (1*2n) \n",
    "                                            # to get average payoff of fictitious play\n",
    "\n",
    "    # if game start from minimizer random play - make sure two random play are not same agent!!!\n",
    "    #     print('Minimizer first selection')\n",
    "    (v2, min_opinion, min_pol) = k_random_play_1(s,n,k,max_touched)\n",
    "    #(v2, min_opinion, min_pol) = minimizer_fir_play(s,n,min_touched)\n",
    "\n",
    "    First_min = (v2, min_opinion, min_pol)\n",
    "\n",
    "    if any(x in v1 for x in v2): # if Max and Min randomly selected the same agent, then we need to restart - cannot choose same agent\n",
    "        sys.exit()\n",
    "\n",
    "    # Minimizer start with greedy play\n",
    "    # (v2, min_opinion, min_pol) = minimizer_fir_play(s,n,max_touched)\n",
    "#####min_touched.extend(v2)\n",
    "#####min_touched_all.append(tuple(v2)) \n",
    "    # store minimizer play history\n",
    "######    min_history.append((tuple(v2)+ min_opinion))\n",
    "    #     print('min_history')\n",
    "    #     print(min_history)\n",
    "\n",
    "    counter=collections.Counter(min_history)  #return a dictionary include {'min_option': count of this choice}\n",
    "    #     print(counter)\n",
    "    fla_min_fre = np.array(list(counter.values()))/1 #return only frequency of all min options in order\n",
    "    #     print('fla_min_fre')\n",
    "    #     print(fla_min_fre)\n",
    "\n",
    "    #     (mixed_pol,payoff_row)\n",
    "\n",
    "    (a,payoff_row) = mixed_K_min_polarization(s, v2, min_opinion,fla_max_fre)\n",
    "    # print('payoff_row')\n",
    "    # print(payoff_row)\n",
    "    #payoff_matrix = np.vstack([payoff_matrix, payoff_row])\n",
    "    #     print('Payoff Matrix')\n",
    "    #     print(payoff_matrix)\n",
    "#####min_counter = dict(counter)\n",
    "    #     print('fla_min_fre at the spot')\n",
    "    #     print(min_counter)\n",
    "    #     print(min_counter[(v2+min_opinion)]) \n",
    "    #     print(min_counter[(v2,min_opinion)]/(i+1)) #get the value from dictionary by using key (v2,opinion)\n",
    "    equi_min = min_pol\n",
    "    equi_max = max_pol\n",
    "    # print(equi_min)\n",
    "    # print(equi_max)\n",
    "\n",
    "\n",
    "    Flag = 0\n",
    "\n",
    "    i = 0\n",
    "    while Flag == 0: \n",
    "        i = i + 1\n",
    "        print(\"Game \" + str(i))\n",
    "        print(\"_____________________\")\n",
    "\n",
    "    #     if max_pol == min_pol:\n",
    "        if i == Game_rounds:            # i == # of iterations you want to run + 2\n",
    "                                # because Game 101 is skipped for collecting data, to get 200 game result, we need to run 201 iteration\n",
    "            print('MAX_last_100,  all')  \n",
    "            max_l100_fre = max_history_last_100/100\n",
    "            max_fre = max_history/Game_rounds\n",
    "            print(max_l100_fre [np.nonzero(max_l100_fre)], max_fre[np.nonzero(max_fre)])\n",
    "            print(np.nonzero(max_l100_fre)[0], np.nonzero(max_fre)[0])\n",
    "            columns = list(np.nonzero(max_l100_fre)[0])\n",
    "            for column in list(columns):\n",
    "                    k_opinions = creat_all_comb(n, k)\n",
    "                    len_kops = len(k_opinions)\n",
    "                    nodeset_index = int(column/len_kops) \n",
    "                    opset_index = column%len_kops\n",
    "                    k_nodes = cgen(nodeset_index, n, k)\n",
    "\n",
    "                    opinions = k_opinions[opset_index]\n",
    "                    print('Max Nodes:'+ str(k_nodes)+' Opinion: '+ str(opinions))\n",
    "\n",
    "\n",
    "\n",
    "            # MINimizer's Strategy in the last 100 round\n",
    "            counter=collections.Counter(min_touched_last_100)\n",
    "            fla_min_fre = np.array(list(counter.values()))/(100) #return only frequency of all min options in order\n",
    "            print('MIN_last_100,  all')\n",
    "            counter_1=collections.Counter(min_touched_all)  #return a dictionary include {'min_option': count of this choice}\n",
    "            fla_min_fre_1 = np.array(list(counter_1.values()))/Game_rounds #return only frequency of all min options in order\n",
    "            print(fla_min_fre, fla_min_fre_1)\n",
    "            print(counter, counter_1)\n",
    "            print('Max Pol: '+str(equi_max)+\"  Min Pol: \"+str(equi_min))\n",
    "\n",
    "            break\n",
    "\n",
    "        elif equi_min == equi_max:\n",
    "            print(\"Reached Nash Equilibrium at game\"+ str(i) + \"and Equi_Por = \" + str(equi_min))\n",
    "    #             print('max_distribution')\n",
    "    #             print(max_frequency)\n",
    "    #             print('min_distribution')\n",
    "    #             print(fla_min_fre)\n",
    "            Flag = 1\n",
    "            break\n",
    "    #________________________________________________________________\n",
    "        ############################## maximizer play  \n",
    "        else:\n",
    "            if i == Game_rounds-100:    #if Game_round = 200, after 100 iteration, Game 101 print previous historical result\n",
    "\n",
    "            # Remove max frequncy less than 0.1--\n",
    "                max_history_last_100 = np.zeros(h) \n",
    "                min_history_last_100 = [] \n",
    "                min_touched_last_100 =[]\n",
    "\n",
    "            (v1, max_opinion, equi_max, column) = max_k_play(payoff_matrix, op, n, k, fla_min_fre, min_touched)\n",
    "            #(v1, max_opinion, equi_max) = mixed_max_play(payoff_matrix,s,v2,min_opinion,n,min_touched,fla_min_fre)\n",
    "            max_touched = push(max_touched, v1)\n",
    "            #max_touched.extend(list(v1))\n",
    "    #             print('max_touched')\n",
    "    #             print(max_touched)\n",
    "\n",
    "            # cumulate strategy \n",
    "            max_history[column] = max_history[column] +1\n",
    "\n",
    "            max_history_last_100[column] = max_history_last_100[column] +1\n",
    "    #         print('max_history')\n",
    "    #         print(max_history)\n",
    "            fla_max_fre = max_history/(i+1)  # max_frequency to calculate average payoff\n",
    "            print('fla_max_fre')\n",
    "            print(fla_max_fre [np.nonzero(fla_max_fre)])\n",
    "    #             print('fre_max at spot')\n",
    "    #             print(fla_max_fre[column])\n",
    "    #         print(fla_max_fre)\n",
    "\n",
    "    #________________________________________________________________\n",
    "    ############################### MINImizer play\n",
    "            (v2, payoff_row, min_opinion, equi_min) = mixed_min_play(s,v1,max_opinion,n, max_touched,fla_max_fre)\n",
    "    #         print('v2')\n",
    "    #         print(v2)\n",
    "            min_touched = push(min_touched, v2)\n",
    "            min_touched_all.append(v2) \n",
    "            min_touched_last_100.append(v2)\n",
    "    #             print('min_touched')\n",
    "    #             print(min_touched)\n",
    "    #             print('min_touched_last_100')\n",
    "    #             print(min_touched_last_100)\n",
    "    #         print('equi_min')\n",
    "    #         print(equi_min)\n",
    "    #         print('max_touched')\n",
    "    #         print(max_touched)\n",
    "            #         print(v2, min_opinion, min_pol)\n",
    "            if tuple(tuple(v2)+min_opinion) in counter.keys():\n",
    "                payoff_matrix = payoff_matrix # if this min_option is in min_history, no need to update paryoff matrix, only update frequency\n",
    "    #                 print(\"Same history\")\n",
    "    #                 print((str(v2),str(min_opinion)))\n",
    "            else:\n",
    "                payoff_matrix = np.vstack([payoff_matrix, payoff_row]) # if this is a new option, append to previous matrix\n",
    "    #                 print('payoff_row')\n",
    "    #                 print(payoff_row)\n",
    "\n",
    "            min_history.append(tuple(v2 + min_opinion))  \n",
    "            min_history_last_100.append(tuple(v2 + min_opinion))\n",
    "    #             print('min_history')\n",
    "    #             print(min_history)\n",
    "            counter=collections.Counter(min_history)  #return a dictionary include {'min_option': count of this choice}\n",
    "            counter_1=collections.Counter(min_touched_all)  #return a dictionary include {'min_option': count of this choice}\n",
    "            fla_min_fre_1 = np.array(list(counter_1.values()))/(i+1) #return only frequency of all min options in order\n",
    "            print('min_fre')\n",
    "            print(fla_min_fre_1)\n",
    "            print(counter_1)\n",
    "\n",
    "            # print(counter.keys())\n",
    "            fla_min_fre = np.array(list(counter.values()))/(i+1) #return only frequency of all min options in order\n",
    "            # print('fla_min_fre')\n",
    "            # print(fla_min_fre [np.nonzero(fla_min_fre)])\n",
    "    #             print(\"Not Reached Nash Equilibrium at Equi_Min = \" + str(equi_min) + \" and Equi_Max = \"+ str(equi_max)) \n",
    "\n",
    "    result = (First_max, First_min, max_touched, min_touched, payoff_matrix, min_history, fla_min_fre, min_history_last_100, min_touched_last_100, min_touched_all, max_history, fla_max_fre, max_history_last_100, equi_max, equi_min)\n",
    "\n",
    "    return result"
   ]
  },
  {
   "cell_type": "code",
   "execution_count": null,
   "metadata": {
    "id": "6tjcFtF1AO2z"
   },
   "outputs": [],
   "source": [
    "def save_(result, k, experiment):\n",
    "    (First_max, First_min, max_touched, min_touched, payoff_matrix, min_history, fla_min_fre, min_history_last_100, min_touched_last_100, min_touched_all, max_history, fla_max_fre, max_history_last_100, equi_max, equi_min) = result\n",
    "    pd.DataFrame(payoff_matrix).to_csv('Payoff Matrix'+ str(k) +'.'+str(experiment)+'.csv')\n",
    "    \n",
    "    with open('Result'+ str(k) +'.'+str(experiment)+'.txt', \"a\") as f:\n",
    "        print('Initial Condition -(agent, opinion, pol)', file=f)\n",
    "#         print('Innate op'+str(s),file=f)\n",
    "#         print('Adjacency matrix'+ str(G), file=f)\n",
    "#         print('Selected Nodeset, k_Opinions, Steady-state polarization',file=f)\n",
    "        print('Max:'+ str(First_max), file=f)\n",
    "        print('Min' + str(First_min), file=f)\n",
    "        \n",
    "        print('_____________________', file=f)\n",
    "        print('Max Pol: '+str(equi_max)+\"  Min Pol: \"+str(equi_min))\n",
    "        # MAXimizer's distribution of LAST 100 iteration \n",
    "        print('Max_distribution_last_100',file = f)  \n",
    "        max_l100_fre = max_history_last_100/100\n",
    "        print(max_l100_fre [np.nonzero(max_l100_fre)],file = f)\n",
    "        # print for small network\n",
    "        #print(max_history_last_100)\n",
    "        # # Print for Large Network\n",
    "        print(np.nonzero(max_l100_fre),file = f)\n",
    "        columns = np.nonzero(max_l100_fre)\n",
    "        columns = list(columns[0])\n",
    "        for column in columns:\n",
    "            (k_nodes, opinions) = map_action(n,k,column)\n",
    "            print('  Max Nodes:'+ str(k_nodes)+' Opinion: '+ str(opinions), file = f)\n",
    "\n",
    "\n",
    "        print('Max_distribution_all',file = f)\n",
    "        max_fre = max_history/Game_rounds\n",
    "        print(max_fre[np.nonzero(max_fre)],file = f)\n",
    "        print([np.nonzero(max_fre)],file = f)\n",
    "        columns_all = np.nonzero(max_l100_fre)\n",
    "        columns_all = list(columns_all[0])\n",
    "        for column in columns_all:\n",
    "            (k_nodes, opinions) =  map_action(n,k,column)\n",
    "            print('  Max Nodes:'+ str(k_nodes)+' Opinion: '+ str(opinions), file = f)\n",
    "\n",
    "\n",
    "        # MINimizer's Strategy in the last 100 round\n",
    "        counter=collections.Counter(min_touched_last_100)\n",
    "        fla_min_fre = np.array(list(counter.values()))/(100) #return only frequency of all min options in order\n",
    "        print('Min_distribution_last_100',file = f)\n",
    "        print(fla_min_fre,file = f)\n",
    "        print(counter,file = f)\n",
    "        # print(min_touched_last_100)\n",
    "\n",
    "        counter_1=collections.Counter(min_touched_all)  #return a dictionary include {'min_option': count of this choice}\n",
    "        fla_min_fre_1 = np.array(list(counter_1.values()))/Game_rounds #return only frequency of all min options in order\n",
    "        print('Min_distribution_all',file = f)\n",
    "        print(fla_min_fre_1,file = f)\n",
    "        print(counter_1,file = f)\n",
    "        np.set_printoptions(precision=3)\n",
    "\n",
    "        counter_a=collections.Counter(min_history)  #return a dictionary include {'min_option': count of this choice}\n",
    "        print(counter_a, file=f)\n",
    "\n",
    "        print('min_recent_'+str(memory)+'_touched', file=f)# then stop at Game 202\n",
    "        print(min_touched, file=f)\n",
    "        print('max_recent_'+str(memory)+'_touched', file=f)\n",
    "        print(max_touched, file=f)"
   ]
  },
  {
   "cell_type": "code",
   "execution_count": null,
   "metadata": {
    "colab": {
     "base_uri": "https://localhost:8080/"
    },
    "id": "M__tKVuYAO2z",
    "outputId": "c8f9fc86-3cff-4046-d6e7-b5f2a786e863"
   },
   "outputs": [],
   "source": [
    "Game_rounds = 200\n",
    "## Testing use\n",
    "k = 2\n",
    "experiment = 1\n",
    "h = len_actions(k, n)\n",
    "result = excute(h, k, Game_rounds)\n",
    "save_(result, k, experiment)"
   ]
  },
  {
   "cell_type": "code",
   "execution_count": null,
   "metadata": {
    "id": "ToEJYxYAAO20"
   },
   "outputs": [],
   "source": []
  }
 ],
 "metadata": {
  "colab": {
   "provenance": []
  },
  "kernelspec": {
   "display_name": "Python 3",
   "language": "python",
   "name": "python3"
  },
  "language_info": {
   "codemirror_mode": {
    "name": "ipython",
    "version": 3
   },
   "file_extension": ".py",
   "mimetype": "text/x-python",
   "name": "python",
   "nbconvert_exporter": "python",
   "pygments_lexer": "ipython3",
   "version": "3.8.5"
  }
 },
 "nbformat": 4,
 "nbformat_minor": 1
}
