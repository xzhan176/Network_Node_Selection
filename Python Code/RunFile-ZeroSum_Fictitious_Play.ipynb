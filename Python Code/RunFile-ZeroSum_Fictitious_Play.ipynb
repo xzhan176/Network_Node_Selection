{
 "cells": [
  {
   "cell_type": "code",
   "execution_count": null,
   "metadata": {},
   "outputs": [],
   "source": [
    "##### Code catalog\n",
    "##### 12/09/2023 - Organize from One-node-final folder. Github has another final version, compare and update later\n",
    "#####\n",
    "import numpy as np\n",
    "import matplotlib.pyplot as plt\n",
    "import networkx as nx\n",
    "import pandas as pd\n",
    "from scipy.stats import beta\n",
    "from itertools import combinations, count\n",
    "import scipy\n",
    "import time\n",
    "import random\n",
    "import copy\n",
    "import scipy.io\n",
    "import collections\n",
    "import sys\n",
    "import os\n",
    "%matplotlib inline\n",
    "#%run pure_strategy_selection.ipynb  #include simple selection algorithm\n",
    "\n",
    "from utils import *\n",
    "from game import Game"
   ]
  },
  {
   "cell_type": "markdown",
   "metadata": {},
   "source": [
    "## Configurations"
   ]
  },
  {
   "cell_type": "code",
   "execution_count": null,
   "metadata": {},
   "outputs": [],
   "source": [
    "network_name = 'karate'\n",
    "# network_name = 'reddit'\n",
    "\n",
    "np.set_printoptions(precision=3)\n",
    "\n",
    "# Game Parameters\n",
    "game_rounds = 5\n",
    "memory = 0  # for zero-sum, the memory is always 0\n",
    "experiment = 1\n",
    "\n",
    "# Create the 'results' directory if it doesn't exist\n",
    "os.makedirs('results', exist_ok=True)"
   ]
  },
  {
   "cell_type": "markdown",
   "metadata": {},
   "source": [
    "## Creating Network\n",
    "### 1. Import Network"
   ]
  },
  {
   "cell_type": "code",
   "execution_count": null,
   "metadata": {},
   "outputs": [],
   "source": [
    "network = import_network(network_name)\n",
    "\n",
    "G, s, n = network.init()\n",
    "nxG = nx.from_numpy_array(G)"
   ]
  },
  {
   "cell_type": "markdown",
   "metadata": {},
   "source": [
    "### 2. Network Visualization"
   ]
  },
  {
   "cell_type": "code",
   "execution_count": null,
   "metadata": {},
   "outputs": [],
   "source": [
    "############################ Make Innate Opinion ################################\n",
    "\n",
    "# Calculate Key Values & Visualization #######################################3\n",
    "# the Laplacian matrix\n",
    "L = scipy.sparse.csgraph.laplacian(G, normed=False)\n",
    "A = np.linalg.inv(np.identity(n) + L)  # A = (I + L)^(-1)  Adjacency Matrix\n",
    "# call the function to calculate the number of edges\n",
    "m = num_edges(L, n)\n",
    "columnsum_ij = np.sum(A, axis=0)\n",
    "plt.figure(figsize=(20, 20))\n",
    "\n",
    "\n",
    "node_edges = get_node_edges(G, n)\n",
    "min_equi = []\n",
    "max_equi = []\n",
    "\n",
    "# create color map\n",
    "color_map = []\n",
    "for node in nxG:\n",
    "    if node in min_equi:\n",
    "        color_map.append('orange')\n",
    "    elif node in max_equi:\n",
    "        color_map.append('Red')\n",
    "    else:\n",
    "        # color_map.append('#1f77b4')\n",
    "        color_map.append('grey')\n",
    "\n",
    "# create node color map value\n",
    "# convert opinion array into data frame\n",
    "s_use = s.flatten().tolist()\n",
    "new_s = [i * 30 for i in s_use]\n",
    "# create a data frame with index at column 1, opinion at column 2\n",
    "df = pd.DataFrame(new_s, columns=['Opinion'])\n",
    "\n",
    "# create node sizes\n",
    "node_sizes = []\n",
    "for i in node_edges:\n",
    "    node_size = 1/i*3000\n",
    "    node_sizes.append(node_size)\n",
    "\n",
    "# visualize the network in high resolution\n",
    "plt.figure(figsize=(8, 9), dpi=300)  # Set the DPI for high resolution\n",
    "# draw subgraph for highlights\n",
    "# set a seed so the network will not give random layout\n",
    "my_pos = nx.spring_layout(nxG, k=0.3, seed=2)\n",
    "nx.draw(nxG, pos=my_pos, with_labels=False, node_color=df['Opinion'].astype(int),\n",
    "        cmap=plt.cm.Blues, node_size=node_sizes, edge_color='grey', width=0.5,\n",
    "        font_color='black', font_size=12, font_weight='bold', alpha=0.9)\n",
    "# nx.draw(nxG, pos = my_pos, with_labels=False, node_color=color_map, node_size= node_sizes, edge_color='grey', width=0.5, font_color='white',font_size=9, font_weight='bold')\n",
    "\n",
    "sm = plt.cm.ScalarMappable(\n",
    "    cmap=plt.cm.Blues,\n",
    "    norm=plt.Normalize(vmin=0, vmax=1)\n",
    ")\n",
    "\n",
    "# visualize the network in high resolution\n",
    "cbar = plt.colorbar(sm, shrink=0.5, ax=plt.gca())"
   ]
  },
  {
   "cell_type": "markdown",
   "metadata": {},
   "source": [
    "### 3. Network Property Visualization"
   ]
  },
  {
   "cell_type": "code",
   "execution_count": null,
   "metadata": {},
   "outputs": [],
   "source": [
    "plt.figure(dpi=300)\n",
    "# Create a histogram\n",
    "plt.hist(s, bins=10, edgecolor='black', alpha=0.7)\n",
    "# new_list = range(0, 3)\n",
    "# plt.ylim(0,8)\n",
    "# plt.yticks(range(0, 10, 2))\n",
    "# Add labels and title\n",
    "plt.xlabel('Innate Opinion Value', fontsize=14)\n",
    "plt.ylabel('Number of Agents', fontsize=14)\n",
    "# Save the figure as a high-quality PNG image\n",
    "# plt.savefig(f'results/${network_type}_opinion_histograms.png', dpi=800)  # Adjust dpi for higher quality"
   ]
  },
  {
   "cell_type": "code",
   "execution_count": null,
   "metadata": {
    "scrolled": true
   },
   "outputs": [],
   "source": [
    "degree_df = calculate_centrality_and_convert_to_df(nxG, nx.degree_centrality)\n",
    "closeness_df = calculate_centrality_and_convert_to_df(nxG, nx.closeness_centrality)\n",
    "eigenvector_df = calculate_centrality_and_convert_to_df(nxG, nx.eigenvector_centrality)\n",
    "\n",
    "bins = 5\n",
    "# value of the highest bar\n",
    "max_bar_value = max(\n",
    "    pd.cut(degree_df[0], bins=5).value_counts().max(),\n",
    "    pd.cut(closeness_df[0], bins=5).value_counts().max(),\n",
    "    pd.cut(eigenvector_df[0], bins=5).value_counts().max(),\n",
    ")\n",
    "# pad top is added so that the highest bar doesn't touch the top border\n",
    "ylim = max_bar_value + max_bar_value / 10\n",
    "\n",
    "# Plot histograms of centrality measures in a horizontal layout\n",
    "# Set DPI to 300 for higher resolution\n",
    "fig, axs = plt.subplots(1, 3, figsize=(18, 5), dpi=300)\n",
    "\n",
    "plot_centrality_histogram(axs[0], degree_df, 'Degree Centrality Distribution', bins, ylim)\n",
    "plot_centrality_histogram(axs[1], closeness_df, 'Closeness Centrality Distribution', bins, ylim)\n",
    "plot_centrality_histogram(axs[2], eigenvector_df, 'Eigenvalue Centrality Distribution', bins, ylim)\n",
    "\n",
    "plt.tight_layout()\n",
    "# Save the figure as a high-quality PNG image\n",
    "# Adjust dpi for higher quality\n",
    "plt.savefig(f'results/{network_name}_centrality_histograms.png', dpi=800)\n",
    "\n",
    "plt.show()"
   ]
  },
  {
   "cell_type": "code",
   "execution_count": null,
   "metadata": {
    "scrolled": true
   },
   "outputs": [],
   "source": [
    "# Analyze node feature\n",
    "nod_ind = 29  # index of node - start with 0\n",
    "\n",
    "network_anl(s, n, G, nod_ind)\n",
    "print(f\"Minimum Eigen_value Centrality: {np.min(eigenvector_df)}\")\n",
    "print(f\"Maximum opinion: {min(s)}\")"
   ]
  },
  {
   "cell_type": "markdown",
   "metadata": {},
   "source": [
    "### 4. Equilibrium & Polarization  - based on derivation\n",
    "$$P(z) = z ^T * z $$\n"
   ]
  },
  {
   "cell_type": "code",
   "execution_count": null,
   "metadata": {},
   "outputs": [],
   "source": [
    "# Calculate network polarization\n",
    "calculate_polarization(s, n, A)"
   ]
  },
  {
   "cell_type": "markdown",
   "metadata": {},
   "source": [
    "### 5. Innate Op and Game"
   ]
  },
  {
   "cell_type": "markdown",
   "metadata": {},
   "source": [
    "# Fictitious Play Start !\n"
   ]
  },
  {
   "cell_type": "markdown",
   "metadata": {},
   "source": [
    "### Prepare for the game"
   ]
  },
  {
   "cell_type": "code",
   "execution_count": null,
   "metadata": {},
   "outputs": [],
   "source": [
    "game = Game(s, n, A, L, calculate_polarization=obj_polarization)\n",
    "gameResult = game.run(game_rounds, memory)"
   ]
  },
  {
   "cell_type": "code",
   "execution_count": null,
   "metadata": {
    "scrolled": true
   },
   "outputs": [],
   "source": [
    "# # MAXimizer's distribution of LAST 100 iteration\n",
    "# print('Max_distribution_last_100')\n",
    "# max_l100_fre = max_history_last_100/500\n",
    "# print(max_l100_fre [np.nonzero(max_l100_fre)])\n",
    "# print(np.nonzero(max_l100_fre))\n",
    "\n",
    "max_fre = gameResult.max_history/game_rounds\n",
    "print(max_fre[np.nonzero(max_fre)])\n",
    "print('Max_distribution_all')\n",
    "print([np.nonzero(max_fre)])\n",
    "# print for small network\n",
    "# # Print for Large Network\n",
    "# print(np.nonzero(max_l100_fre))\n",
    "\n",
    "print(\"__________________________________________\")\n",
    "\n",
    "# # MINimizer's Strategy in the last 100 round\n",
    "# print('Min_distribution_last_100')\n",
    "# counter_h=collections.Counter(min_touched_last_100)  #return a dictionary include {'min_option': count of this choice}\n",
    "# print(counter_h.keys())\n",
    "# counter=collections.Counter(min_touched_last_100)\n",
    "# fla_min_fre = np.array(list(counter.values()))/(500) #return only frequency of all min options in order\n",
    "# print('fla_min_fre')\n",
    "# print(fla_min_fre)\n",
    "# print(min_touched_last_100)\n",
    "\n",
    "# return a dictionary include {'min_option': count of this choice}\n",
    "counter_1h = collections.Counter(gameResult.min_history)\n",
    "# print(counter_1h.keys())\n",
    "# return a dictionary include {'min_option': count of this choice}\n",
    "counter_1 = collections.Counter(gameResult.min_touched_all)\n",
    "\n",
    "# return only frequency of all min options in order\n",
    "fla_min_fre_1 = np.array(list(counter_1.values()))/game_rounds\n",
    "print('Min_distribution_all')\n",
    "print(fla_min_fre_1)\n",
    "print(counter_1)\n",
    "\n",
    "# print(counter_1h)"
   ]
  },
  {
   "cell_type": "markdown",
   "metadata": {},
   "source": [
    "## Save the Network and Game Result to the file"
   ]
  },
  {
   "cell_type": "code",
   "execution_count": null,
   "metadata": {},
   "outputs": [],
   "source": [
    "# Save the files\n",
    "pd.DataFrame(gameResult.payoff_matrix).to_csv(f'results/Karate Payoff Matrix{experiment}.csv')\n",
    "pd.DataFrame(gameResult.min_touched_all).to_csv(f'results/Karate Min Overall{game_rounds}.csv')\n",
    "pd.DataFrame(gameResult.min_history).to_csv(f'results/Karate Min agent & op Overall{game_rounds}.csv')\n",
    "pd.DataFrame(gameResult.max_history).to_csv(f'results/Karate Max Overall {game_rounds}.csv')\n",
    "\n",
    "# Save the original standard output\n",
    "original_stdout = sys.stdout\n",
    "\n",
    "with open(f'results/Result{network_name.capitalize()}.{experiment}Pure.txt', \"w\") as f:\n",
    "    # Change the standard output to the file we created.\n",
    "    sys.stdout = f\n",
    "\n",
    "    # print(experiment_note)\n",
    "    print('Initial Condition -(agent, opinion, pol)')\n",
    "    print(f'Innate op {s}')\n",
    "    print(f'Adjacency matrix {G}')\n",
    "    print(f'Max:\\t{gameResult.first_max}')\n",
    "    print(f'Min:\\t{gameResult.first_min}')\n",
    "\n",
    "    print(\"In the Last 100 Rounds\")\n",
    "    print('_____________________')\n",
    "\n",
    "    # MAX distribution of LAST 100 iteration\n",
    "    print('Max_distribution')\n",
    "    max_l100_fre = gameResult.max_history_last_100/100\n",
    "    print(max_l100_fre[np.nonzero(max_l100_fre)])\n",
    "    # print for small network\n",
    "    # print(max_history_last_100)\n",
    "    # # Print for Large Network\n",
    "    print(np.nonzero(max_l100_fre))\n",
    "\n",
    "    # MIN Strategy in the last 100 round\n",
    "    # return a dictionary include {'min_option': count of this choice}\n",
    "    counter = collections.Counter(gameResult.min_touched_last_100)\n",
    "    # print(counter)\n",
    "    # return only frequency of all min options in order\n",
    "    fla_min_fre = np.array(list(counter.values()))/100\n",
    "    # print('Min_frequency')\n",
    "    # print(list(counter.keys()))\n",
    "    print('Min_distribution_last_100')\n",
    "    print(fla_min_fre)\n",
    "    # return a dictionary include {'min_option': count of this choice}\n",
    "    counter_h = collections.Counter(gameResult.min_history_last_100)\n",
    "    print(counter_h)\n",
    "\n",
    "    # then stop at Game 202\n",
    "    print(f'min_recent_{memory}_touched:\\t{gameResult.min_touched}')\n",
    "    print(f'max_recent_{memory}_touched:\\t{gameResult.max_touched}')\n",
    "\n",
    "    print(f'In Overall {game_rounds} Rounds')\n",
    "    print('_____________________')\n",
    "\n",
    "    max_fre = gameResult.max_history/game_rounds\n",
    "    # print(f'Max_frequency: {max_history}')\n",
    "    print('Max_distribution')\n",
    "    print(max_fre[np.nonzero(max_fre)])\n",
    "    print(np.nonzero(max_fre))\n",
    "\n",
    "    # Min Strategy in the Overall\n",
    "    # return a dictionary include {'min_option': count of this choice}\n",
    "    counter_1 = collections.Counter(gameResult.min_touched_all)\n",
    "    # return only frequency of all min options in order\n",
    "    fla_min_fre_all = np.array(list(counter_1.values())) / game_rounds\n",
    "    print('Min_dist_all')\n",
    "    print(fla_min_fre_all)\n",
    "    print('Min_distribution')\n",
    "    # return a dictionary include {'min_option': count of this choice}\n",
    "    counter_a = collections.Counter(gameResult.min_history)\n",
    "    print(counter_a)\n",
    "    # print(payoff_matrix)\n",
    "\n",
    "# Reset the standard output to its original value\n",
    "sys.stdout = original_stdout"
   ]
  },
  {
   "cell_type": "code",
   "execution_count": null,
   "metadata": {},
   "outputs": [],
   "source": [
    "counter = collections.Counter(gameResult.min_history)\n",
    "print(f'counter:\\t{counter}')\n",
    "fla_min_fre = np.array(list(counter.values()))/game_rounds\n",
    "print(f'fla_min_fre:\\t{fla_min_fre}')"
   ]
  }
 ],
 "metadata": {
  "kernelspec": {
   "display_name": "Python 3 (ipykernel)",
   "language": "python",
   "name": "python3"
  },
  "language_info": {
   "codemirror_mode": {
    "name": "ipython",
    "version": 3
   },
   "file_extension": ".py",
   "mimetype": "text/x-python",
   "name": "python",
   "nbconvert_exporter": "python",
   "pygments_lexer": "ipython3",
   "version": "3.11.7"
  }
 },
 "nbformat": 4,
 "nbformat_minor": 4
}
