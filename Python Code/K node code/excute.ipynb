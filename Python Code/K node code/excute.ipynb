{
 "cells": [
  {
   "cell_type": "code",
   "execution_count": null,
   "id": "65715fb3",
   "metadata": {},
   "outputs": [
    {
     "name": "stdout",
     "output_type": "stream",
     "text": [
      "SELECTING 5 NODES\n",
      "_______________________________________________________\n",
      "Experiment 0\n",
      "_________________\n"
     ]
    }
   ],
   "source": [
    "%run Simulation.ipynb\n",
    "\n",
    "for k in range(5,10):\n",
    "    print(\"SELECTING \" + str(k) + \" NODES\")\n",
    "    print(\"_______________________________________________________\")\n",
    "    for experiment in range(10):\n",
    "        print('Experiment ' + str(experiment))\n",
    "        print(\"_________________\")\n",
    "        Game_rounds = k * 200 \n",
    "        \n",
    "        h = len_actions(k, n)\n",
    "        f = open(\"test.slurm\", \"rw\")\n",
    "        f.write(\"foobar\" + str(seed))\n",
    "        f.close()\n",
    "        os.system(\"sbatch test.slurm\")\n",
    "        \n",
    "        result = excute(h, k, Game_rounds)\n",
    "        save_(result, k, experiment)"
   ]
  },
  {
   "cell_type": "code",
   "execution_count": null,
   "id": "64291f94",
   "metadata": {},
   "outputs": [],
   "source": []
  }
 ],
 "metadata": {
  "kernelspec": {
   "display_name": "Python 3 (ipykernel)",
   "language": "python",
   "name": "python3"
  },
  "language_info": {
   "codemirror_mode": {
    "name": "ipython",
    "version": 3
   },
   "file_extension": ".py",
   "mimetype": "text/x-python",
   "name": "python",
   "nbconvert_exporter": "python",
   "pygments_lexer": "ipython3",
   "version": "3.9.13"
  }
 },
 "nbformat": 4,
 "nbformat_minor": 5
}
